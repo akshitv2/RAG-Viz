{
 "cells": [
  {
   "cell_type": "code",
   "id": "initial_id",
   "metadata": {
    "collapsed": true,
    "ExecuteTime": {
     "end_time": "2025-10-12T17:41:25.667316Z",
     "start_time": "2025-10-12T17:41:25.570884Z"
    }
   },
   "source": [
    "import umap\n",
    "import numpy as np\n",
    "import plotly.graph_objects as go\n",
    "import pandas as pd\n",
    "\n",
    "# Example data: replace with your (n_samples, 384) array\n",
    "data = np.random.rand(100, 384)\n",
    "\n",
    "# Example metadata: replace with your own\n",
    "metadata = [f\"Sample_{i}\" for i in range(data.shape[0])]\n",
    "\n",
    "# Run UMAP to reduce to 3D\n",
    "umap_3d = umap.UMAP(n_components=3, random_state=42)\n",
    "embedding_3d = umap_3d.fit_transform(data)\n",
    "\n",
    "# Create a DataFrame\n",
    "df = pd.DataFrame({\n",
    "    'x': embedding_3d[:, 0],\n",
    "    'y': embedding_3d[:, 1],\n",
    "    'z': embedding_3d[:, 2],\n",
    "    'metadata': metadata\n",
    "})\n",
    "\n",
    "# Create 3D scatter plot\n",
    "fig = go.Figure(data=[\n",
    "    go.Scatter3d(\n",
    "        x=df['x'],\n",
    "        y=df['y'],\n",
    "        z=df['z'],\n",
    "        mode='markers',\n",
    "        marker=dict(size=5, opacity=0.8),\n",
    "        text=df['metadata'],  # Display metadata on hover\n",
    "        customdata=df[['metadata']].values,  # For click events\n",
    "        hoverinfo='text'\n",
    "    )\n",
    "])\n",
    "\n",
    "# Update layout for click interaction\n",
    "fig.update_layout(\n",
    "    title='Interactive UMAP 3D Projection',\n",
    "    scene=dict(\n",
    "        xaxis_title='X',\n",
    "        yaxis_title='Y',\n",
    "        zaxis_title='Z'\n",
    "    ),\n",
    "    clickmode='event+select'\n",
    ")\n",
    "\n",
    "# Show the plot\n",
    "fig.show()"
   ],
   "outputs": [
    {
     "name": "stderr",
     "output_type": "stream",
     "text": [
      "/mnt/85e3eeea-3bda-4255-95a1-833fffd20e34/dev/RAG-Viz/.venv/lib/python3.12/site-packages/umap/umap_.py:1952: UserWarning:\n",
      "\n",
      "n_jobs value 1 overridden to 1 by setting random_state. Use no seed for parallelism.\n",
      "\n"
     ]
    },
    {
     "data": {
      "application/vnd.plotly.v1+json": {
       "data": [
        {
         "customdata": [
          [
           "Sample_0"
          ],
          [
           "Sample_1"
          ],
          [
           "Sample_2"
          ],
          [
           "Sample_3"
          ],
          [
           "Sample_4"
          ],
          [
           "Sample_5"
          ],
          [
           "Sample_6"
          ],
          [
           "Sample_7"
          ],
          [
           "Sample_8"
          ],
          [
           "Sample_9"
          ],
          [
           "Sample_10"
          ],
          [
           "Sample_11"
          ],
          [
           "Sample_12"
          ],
          [
           "Sample_13"
          ],
          [
           "Sample_14"
          ],
          [
           "Sample_15"
          ],
          [
           "Sample_16"
          ],
          [
           "Sample_17"
          ],
          [
           "Sample_18"
          ],
          [
           "Sample_19"
          ],
          [
           "Sample_20"
          ],
          [
           "Sample_21"
          ],
          [
           "Sample_22"
          ],
          [
           "Sample_23"
          ],
          [
           "Sample_24"
          ],
          [
           "Sample_25"
          ],
          [
           "Sample_26"
          ],
          [
           "Sample_27"
          ],
          [
           "Sample_28"
          ],
          [
           "Sample_29"
          ],
          [
           "Sample_30"
          ],
          [
           "Sample_31"
          ],
          [
           "Sample_32"
          ],
          [
           "Sample_33"
          ],
          [
           "Sample_34"
          ],
          [
           "Sample_35"
          ],
          [
           "Sample_36"
          ],
          [
           "Sample_37"
          ],
          [
           "Sample_38"
          ],
          [
           "Sample_39"
          ],
          [
           "Sample_40"
          ],
          [
           "Sample_41"
          ],
          [
           "Sample_42"
          ],
          [
           "Sample_43"
          ],
          [
           "Sample_44"
          ],
          [
           "Sample_45"
          ],
          [
           "Sample_46"
          ],
          [
           "Sample_47"
          ],
          [
           "Sample_48"
          ],
          [
           "Sample_49"
          ],
          [
           "Sample_50"
          ],
          [
           "Sample_51"
          ],
          [
           "Sample_52"
          ],
          [
           "Sample_53"
          ],
          [
           "Sample_54"
          ],
          [
           "Sample_55"
          ],
          [
           "Sample_56"
          ],
          [
           "Sample_57"
          ],
          [
           "Sample_58"
          ],
          [
           "Sample_59"
          ],
          [
           "Sample_60"
          ],
          [
           "Sample_61"
          ],
          [
           "Sample_62"
          ],
          [
           "Sample_63"
          ],
          [
           "Sample_64"
          ],
          [
           "Sample_65"
          ],
          [
           "Sample_66"
          ],
          [
           "Sample_67"
          ],
          [
           "Sample_68"
          ],
          [
           "Sample_69"
          ],
          [
           "Sample_70"
          ],
          [
           "Sample_71"
          ],
          [
           "Sample_72"
          ],
          [
           "Sample_73"
          ],
          [
           "Sample_74"
          ],
          [
           "Sample_75"
          ],
          [
           "Sample_76"
          ],
          [
           "Sample_77"
          ],
          [
           "Sample_78"
          ],
          [
           "Sample_79"
          ],
          [
           "Sample_80"
          ],
          [
           "Sample_81"
          ],
          [
           "Sample_82"
          ],
          [
           "Sample_83"
          ],
          [
           "Sample_84"
          ],
          [
           "Sample_85"
          ],
          [
           "Sample_86"
          ],
          [
           "Sample_87"
          ],
          [
           "Sample_88"
          ],
          [
           "Sample_89"
          ],
          [
           "Sample_90"
          ],
          [
           "Sample_91"
          ],
          [
           "Sample_92"
          ],
          [
           "Sample_93"
          ],
          [
           "Sample_94"
          ],
          [
           "Sample_95"
          ],
          [
           "Sample_96"
          ],
          [
           "Sample_97"
          ],
          [
           "Sample_98"
          ],
          [
           "Sample_99"
          ]
         ],
         "hoverinfo": "text",
         "marker": {
          "opacity": 0.8,
          "size": 5
         },
         "mode": "markers",
         "text": [
          "Sample_0",
          "Sample_1",
          "Sample_2",
          "Sample_3",
          "Sample_4",
          "Sample_5",
          "Sample_6",
          "Sample_7",
          "Sample_8",
          "Sample_9",
          "Sample_10",
          "Sample_11",
          "Sample_12",
          "Sample_13",
          "Sample_14",
          "Sample_15",
          "Sample_16",
          "Sample_17",
          "Sample_18",
          "Sample_19",
          "Sample_20",
          "Sample_21",
          "Sample_22",
          "Sample_23",
          "Sample_24",
          "Sample_25",
          "Sample_26",
          "Sample_27",
          "Sample_28",
          "Sample_29",
          "Sample_30",
          "Sample_31",
          "Sample_32",
          "Sample_33",
          "Sample_34",
          "Sample_35",
          "Sample_36",
          "Sample_37",
          "Sample_38",
          "Sample_39",
          "Sample_40",
          "Sample_41",
          "Sample_42",
          "Sample_43",
          "Sample_44",
          "Sample_45",
          "Sample_46",
          "Sample_47",
          "Sample_48",
          "Sample_49",
          "Sample_50",
          "Sample_51",
          "Sample_52",
          "Sample_53",
          "Sample_54",
          "Sample_55",
          "Sample_56",
          "Sample_57",
          "Sample_58",
          "Sample_59",
          "Sample_60",
          "Sample_61",
          "Sample_62",
          "Sample_63",
          "Sample_64",
          "Sample_65",
          "Sample_66",
          "Sample_67",
          "Sample_68",
          "Sample_69",
          "Sample_70",
          "Sample_71",
          "Sample_72",
          "Sample_73",
          "Sample_74",
          "Sample_75",
          "Sample_76",
          "Sample_77",
          "Sample_78",
          "Sample_79",
          "Sample_80",
          "Sample_81",
          "Sample_82",
          "Sample_83",
          "Sample_84",
          "Sample_85",
          "Sample_86",
          "Sample_87",
          "Sample_88",
          "Sample_89",
          "Sample_90",
          "Sample_91",
          "Sample_92",
          "Sample_93",
          "Sample_94",
          "Sample_95",
          "Sample_96",
          "Sample_97",
          "Sample_98",
          "Sample_99"
         ],
         "x": {
          "dtype": "f4",
          "bdata": "4YOSQJ4opkDfaHpASOuyQLMYkkBo0oVAwp/AQJeaxEAej4xA5Y3DQJd/l0DfSJRAe6KoQNh+lkAoL5BAfnOBQE6vdECEaIFApbyjQO++eUC0CVNAAFN4QFRWmkAvZp1A+QpwQGhBuEAdsFxAB0KdQKvQUkCVYpxAwiWpQDW5h0C7qI1AVSdhQA3qZkBfibRAfTanQHZXakBXIa1AVwi9QM2ol0BM1YBAMcGJQKx4lEBkr1RANM2bQH/LXkANTo5A2w2HQCDYskDwVrdADfp/QLGkhUC7s6JAra+iQBx2jUBwf6FAn4nCQCNei0BLQY9AZNdWQGqDSEDjQp9AW/60QIqDh0Bgr5hApB2MQHuanEDdGrVAzHeoQPfBhEBiUZ1AeDmXQOLhjUDFFJlARHSJQN0wfEA5EbhA6zhVQBgVnkCm7HxANp9zQHyMfUBEqo9AM6y+QBVGnUBZMopACp+1QOCfj0B/XZ5AFS61QGT4vUAQorFAHAqeQLt0f0COhoBAZnm5QIa3rkD6b0hAmZ2zQA=="
         },
         "y": {
          "dtype": "f4",
          "bdata": "f7O4QGKNpUDnZ8xAkZXWQMTAtECW0IxAUujUQClXukCd659AAUjAQEtoy0CL5Z9AmenaQOcsjUA7m9pArHO5QAaumUBfVLBAXKK3QMFqr0C1D75A6O3cQEyLy0A2gtJAEDjZQMLj20BAF65AUdKZQISbtUDuTrRAogacQEqTlEDc0otAtZnFQH/fw0CIjJlAm1/KQGaPpUC03cZATUy0QLHMqECNrNBAsZSYQL0+ukBZiqVANpKtQCN0vUDje7NA3FvMQHizukA7spBAMpnXQBxnr0CPz8tArSXPQNpuu0AGoZ1As5yzQEFlykB0qrdA9Hi+QBHlsEAiZplA3sjEQP150EAWGqlAJkGtQFvhjUBvaLdAY1fCQFO9ukCYILNAI+3gQKsq00D0c7JAVw2JQHPKt0CF2ZlAasqrQMQLu0DrKcRAYAzAQAglm0DjNONAE9W/QFiY0EA9VrxAJtWZQBmMm0DkKeNA+BG2QG9axkCa8a1AZXzbQE7VlED9P7RA5MKxQJG6rECH+LpAIDihQA=="
         },
         "z": {
          "dtype": "f4",
          "bdata": "MXlVQC+XNkAaUHVATCVIQKp7OkAHPj1A1xJLQAHYTUANwpFAubEyQByVNUBZRJJAKEBVQFZsNUCFjytAELc7QETJQ0A84wpAFAJgQPX8U0CVrH1AqHBkQAd6kEDFn4hALsFaQOW5UECuvGpAy6yKQKitHEDzTZpAntSGQL9KGEDUtlZAWUmIQErnSED/GTZAzmoxQNrrf0AdpXJAthU+QMKy5z+1KhVAb1yBQLNhikBFdTVAUmX4P9sWM0ByRpxA3aMkQOAkaEA7wldAAxl9QPr8akB0HA9AgSV+QGYKdEDxAghA2N1XQJ5eh0Ba/B5AFBQNQMWNM0BBdU1A88BHQCVukUAOm2pAarDrPyS7SEC6SX9ACcWBQHjKlEDu6odAwZx8QP9lYkB56yVAOR5BQKiPjkBoTW5Av+dXQH7LGEB7oQVAfeQPQIY9c0AMzm1A3zYbQLlsFEDrl4JAx4BLQNGdD0DDtoJAn4EOQDhuPUChVx5AWFcwQDXlKkAZDnpApgOCQKMYEEBF9EtAGH52QA=="
         },
         "type": "scatter3d"
        }
       ],
       "layout": {
        "template": {
         "data": {
          "histogram2dcontour": [
           {
            "type": "histogram2dcontour",
            "colorbar": {
             "outlinewidth": 0,
             "ticks": ""
            },
            "colorscale": [
             [
              0.0,
              "#0d0887"
             ],
             [
              0.1111111111111111,
              "#46039f"
             ],
             [
              0.2222222222222222,
              "#7201a8"
             ],
             [
              0.3333333333333333,
              "#9c179e"
             ],
             [
              0.4444444444444444,
              "#bd3786"
             ],
             [
              0.5555555555555556,
              "#d8576b"
             ],
             [
              0.6666666666666666,
              "#ed7953"
             ],
             [
              0.7777777777777778,
              "#fb9f3a"
             ],
             [
              0.8888888888888888,
              "#fdca26"
             ],
             [
              1.0,
              "#f0f921"
             ]
            ]
           }
          ],
          "choropleth": [
           {
            "type": "choropleth",
            "colorbar": {
             "outlinewidth": 0,
             "ticks": ""
            }
           }
          ],
          "histogram2d": [
           {
            "type": "histogram2d",
            "colorbar": {
             "outlinewidth": 0,
             "ticks": ""
            },
            "colorscale": [
             [
              0.0,
              "#0d0887"
             ],
             [
              0.1111111111111111,
              "#46039f"
             ],
             [
              0.2222222222222222,
              "#7201a8"
             ],
             [
              0.3333333333333333,
              "#9c179e"
             ],
             [
              0.4444444444444444,
              "#bd3786"
             ],
             [
              0.5555555555555556,
              "#d8576b"
             ],
             [
              0.6666666666666666,
              "#ed7953"
             ],
             [
              0.7777777777777778,
              "#fb9f3a"
             ],
             [
              0.8888888888888888,
              "#fdca26"
             ],
             [
              1.0,
              "#f0f921"
             ]
            ]
           }
          ],
          "heatmap": [
           {
            "type": "heatmap",
            "colorbar": {
             "outlinewidth": 0,
             "ticks": ""
            },
            "colorscale": [
             [
              0.0,
              "#0d0887"
             ],
             [
              0.1111111111111111,
              "#46039f"
             ],
             [
              0.2222222222222222,
              "#7201a8"
             ],
             [
              0.3333333333333333,
              "#9c179e"
             ],
             [
              0.4444444444444444,
              "#bd3786"
             ],
             [
              0.5555555555555556,
              "#d8576b"
             ],
             [
              0.6666666666666666,
              "#ed7953"
             ],
             [
              0.7777777777777778,
              "#fb9f3a"
             ],
             [
              0.8888888888888888,
              "#fdca26"
             ],
             [
              1.0,
              "#f0f921"
             ]
            ]
           }
          ],
          "contourcarpet": [
           {
            "type": "contourcarpet",
            "colorbar": {
             "outlinewidth": 0,
             "ticks": ""
            }
           }
          ],
          "contour": [
           {
            "type": "contour",
            "colorbar": {
             "outlinewidth": 0,
             "ticks": ""
            },
            "colorscale": [
             [
              0.0,
              "#0d0887"
             ],
             [
              0.1111111111111111,
              "#46039f"
             ],
             [
              0.2222222222222222,
              "#7201a8"
             ],
             [
              0.3333333333333333,
              "#9c179e"
             ],
             [
              0.4444444444444444,
              "#bd3786"
             ],
             [
              0.5555555555555556,
              "#d8576b"
             ],
             [
              0.6666666666666666,
              "#ed7953"
             ],
             [
              0.7777777777777778,
              "#fb9f3a"
             ],
             [
              0.8888888888888888,
              "#fdca26"
             ],
             [
              1.0,
              "#f0f921"
             ]
            ]
           }
          ],
          "surface": [
           {
            "type": "surface",
            "colorbar": {
             "outlinewidth": 0,
             "ticks": ""
            },
            "colorscale": [
             [
              0.0,
              "#0d0887"
             ],
             [
              0.1111111111111111,
              "#46039f"
             ],
             [
              0.2222222222222222,
              "#7201a8"
             ],
             [
              0.3333333333333333,
              "#9c179e"
             ],
             [
              0.4444444444444444,
              "#bd3786"
             ],
             [
              0.5555555555555556,
              "#d8576b"
             ],
             [
              0.6666666666666666,
              "#ed7953"
             ],
             [
              0.7777777777777778,
              "#fb9f3a"
             ],
             [
              0.8888888888888888,
              "#fdca26"
             ],
             [
              1.0,
              "#f0f921"
             ]
            ]
           }
          ],
          "mesh3d": [
           {
            "type": "mesh3d",
            "colorbar": {
             "outlinewidth": 0,
             "ticks": ""
            }
           }
          ],
          "scatter": [
           {
            "marker": {
             "line": {
              "color": "#283442"
             }
            },
            "type": "scatter"
           }
          ],
          "parcoords": [
           {
            "type": "parcoords",
            "line": {
             "colorbar": {
              "outlinewidth": 0,
              "ticks": ""
             }
            }
           }
          ],
          "scatterpolargl": [
           {
            "type": "scatterpolargl",
            "marker": {
             "colorbar": {
              "outlinewidth": 0,
              "ticks": ""
             }
            }
           }
          ],
          "bar": [
           {
            "error_x": {
             "color": "#f2f5fa"
            },
            "error_y": {
             "color": "#f2f5fa"
            },
            "marker": {
             "line": {
              "color": "rgb(17,17,17)",
              "width": 0.5
             },
             "pattern": {
              "fillmode": "overlay",
              "size": 10,
              "solidity": 0.2
             }
            },
            "type": "bar"
           }
          ],
          "scattergeo": [
           {
            "type": "scattergeo",
            "marker": {
             "colorbar": {
              "outlinewidth": 0,
              "ticks": ""
             }
            }
           }
          ],
          "scatterpolar": [
           {
            "type": "scatterpolar",
            "marker": {
             "colorbar": {
              "outlinewidth": 0,
              "ticks": ""
             }
            }
           }
          ],
          "histogram": [
           {
            "marker": {
             "pattern": {
              "fillmode": "overlay",
              "size": 10,
              "solidity": 0.2
             }
            },
            "type": "histogram"
           }
          ],
          "scattergl": [
           {
            "marker": {
             "line": {
              "color": "#283442"
             }
            },
            "type": "scattergl"
           }
          ],
          "scatter3d": [
           {
            "type": "scatter3d",
            "line": {
             "colorbar": {
              "outlinewidth": 0,
              "ticks": ""
             }
            },
            "marker": {
             "colorbar": {
              "outlinewidth": 0,
              "ticks": ""
             }
            }
           }
          ],
          "scattermap": [
           {
            "type": "scattermap",
            "marker": {
             "colorbar": {
              "outlinewidth": 0,
              "ticks": ""
             }
            }
           }
          ],
          "scattermapbox": [
           {
            "type": "scattermapbox",
            "marker": {
             "colorbar": {
              "outlinewidth": 0,
              "ticks": ""
             }
            }
           }
          ],
          "scatterternary": [
           {
            "type": "scatterternary",
            "marker": {
             "colorbar": {
              "outlinewidth": 0,
              "ticks": ""
             }
            }
           }
          ],
          "scattercarpet": [
           {
            "type": "scattercarpet",
            "marker": {
             "colorbar": {
              "outlinewidth": 0,
              "ticks": ""
             }
            }
           }
          ],
          "carpet": [
           {
            "aaxis": {
             "endlinecolor": "#A2B1C6",
             "gridcolor": "#506784",
             "linecolor": "#506784",
             "minorgridcolor": "#506784",
             "startlinecolor": "#A2B1C6"
            },
            "baxis": {
             "endlinecolor": "#A2B1C6",
             "gridcolor": "#506784",
             "linecolor": "#506784",
             "minorgridcolor": "#506784",
             "startlinecolor": "#A2B1C6"
            },
            "type": "carpet"
           }
          ],
          "table": [
           {
            "cells": {
             "fill": {
              "color": "#506784"
             },
             "line": {
              "color": "rgb(17,17,17)"
             }
            },
            "header": {
             "fill": {
              "color": "#2a3f5f"
             },
             "line": {
              "color": "rgb(17,17,17)"
             }
            },
            "type": "table"
           }
          ],
          "barpolar": [
           {
            "marker": {
             "line": {
              "color": "rgb(17,17,17)",
              "width": 0.5
             },
             "pattern": {
              "fillmode": "overlay",
              "size": 10,
              "solidity": 0.2
             }
            },
            "type": "barpolar"
           }
          ],
          "pie": [
           {
            "automargin": true,
            "type": "pie"
           }
          ]
         },
         "layout": {
          "autotypenumbers": "strict",
          "colorway": [
           "#636efa",
           "#EF553B",
           "#00cc96",
           "#ab63fa",
           "#FFA15A",
           "#19d3f3",
           "#FF6692",
           "#B6E880",
           "#FF97FF",
           "#FECB52"
          ],
          "font": {
           "color": "#f2f5fa"
          },
          "hovermode": "closest",
          "hoverlabel": {
           "align": "left"
          },
          "paper_bgcolor": "rgb(17,17,17)",
          "plot_bgcolor": "rgb(17,17,17)",
          "polar": {
           "bgcolor": "rgb(17,17,17)",
           "angularaxis": {
            "gridcolor": "#506784",
            "linecolor": "#506784",
            "ticks": ""
           },
           "radialaxis": {
            "gridcolor": "#506784",
            "linecolor": "#506784",
            "ticks": ""
           }
          },
          "ternary": {
           "bgcolor": "rgb(17,17,17)",
           "aaxis": {
            "gridcolor": "#506784",
            "linecolor": "#506784",
            "ticks": ""
           },
           "baxis": {
            "gridcolor": "#506784",
            "linecolor": "#506784",
            "ticks": ""
           },
           "caxis": {
            "gridcolor": "#506784",
            "linecolor": "#506784",
            "ticks": ""
           }
          },
          "coloraxis": {
           "colorbar": {
            "outlinewidth": 0,
            "ticks": ""
           }
          },
          "colorscale": {
           "sequential": [
            [
             0.0,
             "#0d0887"
            ],
            [
             0.1111111111111111,
             "#46039f"
            ],
            [
             0.2222222222222222,
             "#7201a8"
            ],
            [
             0.3333333333333333,
             "#9c179e"
            ],
            [
             0.4444444444444444,
             "#bd3786"
            ],
            [
             0.5555555555555556,
             "#d8576b"
            ],
            [
             0.6666666666666666,
             "#ed7953"
            ],
            [
             0.7777777777777778,
             "#fb9f3a"
            ],
            [
             0.8888888888888888,
             "#fdca26"
            ],
            [
             1.0,
             "#f0f921"
            ]
           ],
           "sequentialminus": [
            [
             0.0,
             "#0d0887"
            ],
            [
             0.1111111111111111,
             "#46039f"
            ],
            [
             0.2222222222222222,
             "#7201a8"
            ],
            [
             0.3333333333333333,
             "#9c179e"
            ],
            [
             0.4444444444444444,
             "#bd3786"
            ],
            [
             0.5555555555555556,
             "#d8576b"
            ],
            [
             0.6666666666666666,
             "#ed7953"
            ],
            [
             0.7777777777777778,
             "#fb9f3a"
            ],
            [
             0.8888888888888888,
             "#fdca26"
            ],
            [
             1.0,
             "#f0f921"
            ]
           ],
           "diverging": [
            [
             0,
             "#8e0152"
            ],
            [
             0.1,
             "#c51b7d"
            ],
            [
             0.2,
             "#de77ae"
            ],
            [
             0.3,
             "#f1b6da"
            ],
            [
             0.4,
             "#fde0ef"
            ],
            [
             0.5,
             "#f7f7f7"
            ],
            [
             0.6,
             "#e6f5d0"
            ],
            [
             0.7,
             "#b8e186"
            ],
            [
             0.8,
             "#7fbc41"
            ],
            [
             0.9,
             "#4d9221"
            ],
            [
             1,
             "#276419"
            ]
           ]
          },
          "xaxis": {
           "gridcolor": "#283442",
           "linecolor": "#506784",
           "ticks": "",
           "title": {
            "standoff": 15
           },
           "zerolinecolor": "#283442",
           "automargin": true,
           "zerolinewidth": 2
          },
          "yaxis": {
           "gridcolor": "#283442",
           "linecolor": "#506784",
           "ticks": "",
           "title": {
            "standoff": 15
           },
           "zerolinecolor": "#283442",
           "automargin": true,
           "zerolinewidth": 2
          },
          "scene": {
           "xaxis": {
            "backgroundcolor": "rgb(17,17,17)",
            "gridcolor": "#506784",
            "linecolor": "#506784",
            "showbackground": true,
            "ticks": "",
            "zerolinecolor": "#C8D4E3",
            "gridwidth": 2
           },
           "yaxis": {
            "backgroundcolor": "rgb(17,17,17)",
            "gridcolor": "#506784",
            "linecolor": "#506784",
            "showbackground": true,
            "ticks": "",
            "zerolinecolor": "#C8D4E3",
            "gridwidth": 2
           },
           "zaxis": {
            "backgroundcolor": "rgb(17,17,17)",
            "gridcolor": "#506784",
            "linecolor": "#506784",
            "showbackground": true,
            "ticks": "",
            "zerolinecolor": "#C8D4E3",
            "gridwidth": 2
           }
          },
          "shapedefaults": {
           "line": {
            "color": "#f2f5fa"
           }
          },
          "annotationdefaults": {
           "arrowcolor": "#f2f5fa",
           "arrowhead": 0,
           "arrowwidth": 1
          },
          "geo": {
           "bgcolor": "rgb(17,17,17)",
           "landcolor": "rgb(17,17,17)",
           "subunitcolor": "#506784",
           "showland": true,
           "showlakes": true,
           "lakecolor": "rgb(17,17,17)"
          },
          "title": {
           "x": 0.05
          },
          "updatemenudefaults": {
           "bgcolor": "#506784",
           "borderwidth": 0
          },
          "sliderdefaults": {
           "bgcolor": "#C8D4E3",
           "borderwidth": 1,
           "bordercolor": "rgb(17,17,17)",
           "tickwidth": 0
          },
          "mapbox": {
           "style": "dark"
          }
         }
        },
        "title": {
         "text": "Interactive UMAP 3D Projection"
        },
        "scene": {
         "xaxis": {
          "title": {
           "text": "X"
          }
         },
         "yaxis": {
          "title": {
           "text": "Y"
          }
         },
         "zaxis": {
          "title": {
           "text": "Z"
          }
         }
        },
        "clickmode": "event+select"
       },
       "config": {
        "plotlyServerURL": "https://plot.ly"
       }
      }
     },
     "metadata": {},
     "output_type": "display_data",
     "jetTransient": {
      "display_id": null
     }
    }
   ],
   "execution_count": 2
  }
 ],
 "metadata": {
  "kernelspec": {
   "display_name": "Python 3",
   "language": "python",
   "name": "python3"
  },
  "language_info": {
   "codemirror_mode": {
    "name": "ipython",
    "version": 2
   },
   "file_extension": ".py",
   "mimetype": "text/x-python",
   "name": "python",
   "nbconvert_exporter": "python",
   "pygments_lexer": "ipython2",
   "version": "2.7.6"
  }
 },
 "nbformat": 4,
 "nbformat_minor": 5
}
