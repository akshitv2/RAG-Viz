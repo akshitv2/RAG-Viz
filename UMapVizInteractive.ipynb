{
 "cells": [
  {
   "cell_type": "code",
   "id": "initial_id",
   "metadata": {
    "collapsed": true,
    "ExecuteTime": {
     "end_time": "2025-10-15T10:31:54.801837Z",
     "start_time": "2025-10-15T10:31:44.010687Z"
    }
   },
   "source": [
    "import umap\n",
    "import numpy as np\n",
    "import plotly.express as px\n",
    "import plotly.graph_objects as go\n",
    "import pandas as pd\n",
    "\n",
    "# Example data: replace with your (n_samples, 384) array\n",
    "data = np.random.rand(100, 384)\n",
    "\n",
    "# Example metadata: replace with your own (e.g., labels, IDs, or other info)\n",
    "metadata = [f\"Sample_{i}\" for i in range(data.shape[0])]\n",
    "\n",
    "# Run UMAP to reduce to 2D\n",
    "umap_2d = umap.UMAP(n_components=2, random_state=42)\n",
    "embedding_2d = umap_2d.fit_transform(data)\n",
    "\n",
    "# Create a DataFrame for Plotly\n",
    "df = pd.DataFrame({\n",
    "    'x': embedding_2d[:, 0],\n",
    "    'y': embedding_2d[:, 1],\n",
    "    'metadata': metadata\n",
    "})\n",
    "\n",
    "# Create interactive scatter plot\n",
    "fig = px.scatter(\n",
    "    df,\n",
    "    x='x',\n",
    "    y='y',\n",
    "    hover_data=['metadata'],  # Display metadata on hover\n",
    "    title='Interactive UMAP 2D Projection'\n",
    ")\n",
    "\n",
    "# Optional: Add click interaction\n",
    "fig.update_traces(\n",
    "    marker=dict(size=8),\n",
    "    selector=dict(mode='markers'),\n",
    "    customdata=df[['metadata']].values  # Attach metadata for click events\n",
    ")\n",
    "\n",
    "# Add click event to display data\n",
    "fig.update_layout(\n",
    "    clickmode='event+select',\n",
    "    showlegend=False\n",
    ")\n",
    "\n",
    "# Show the plot\n",
    "fig.show()\n",
    "\n",
    "# Optional: Add a callback for clicking (for Jupyter or Dash integration)\n",
    "# This requires a Dash app or further customization for full click handling"
   ],
   "outputs": [
    {
     "name": "stderr",
     "output_type": "stream",
     "text": [
      "/mnt/85e3eeea-3bda-4255-95a1-833fffd20e34/dev/RAG-Viz/.venv/lib/python3.12/site-packages/umap/umap_.py:1952: UserWarning: n_jobs value 1 overridden to 1 by setting random_state. Use no seed for parallelism.\n",
      "  warn(\n"
     ]
    },
    {
     "data": {
      "application/vnd.plotly.v1+json": {
       "data": [
        {
         "customdata": [
          [
           "Sample_0"
          ],
          [
           "Sample_1"
          ],
          [
           "Sample_2"
          ],
          [
           "Sample_3"
          ],
          [
           "Sample_4"
          ],
          [
           "Sample_5"
          ],
          [
           "Sample_6"
          ],
          [
           "Sample_7"
          ],
          [
           "Sample_8"
          ],
          [
           "Sample_9"
          ],
          [
           "Sample_10"
          ],
          [
           "Sample_11"
          ],
          [
           "Sample_12"
          ],
          [
           "Sample_13"
          ],
          [
           "Sample_14"
          ],
          [
           "Sample_15"
          ],
          [
           "Sample_16"
          ],
          [
           "Sample_17"
          ],
          [
           "Sample_18"
          ],
          [
           "Sample_19"
          ],
          [
           "Sample_20"
          ],
          [
           "Sample_21"
          ],
          [
           "Sample_22"
          ],
          [
           "Sample_23"
          ],
          [
           "Sample_24"
          ],
          [
           "Sample_25"
          ],
          [
           "Sample_26"
          ],
          [
           "Sample_27"
          ],
          [
           "Sample_28"
          ],
          [
           "Sample_29"
          ],
          [
           "Sample_30"
          ],
          [
           "Sample_31"
          ],
          [
           "Sample_32"
          ],
          [
           "Sample_33"
          ],
          [
           "Sample_34"
          ],
          [
           "Sample_35"
          ],
          [
           "Sample_36"
          ],
          [
           "Sample_37"
          ],
          [
           "Sample_38"
          ],
          [
           "Sample_39"
          ],
          [
           "Sample_40"
          ],
          [
           "Sample_41"
          ],
          [
           "Sample_42"
          ],
          [
           "Sample_43"
          ],
          [
           "Sample_44"
          ],
          [
           "Sample_45"
          ],
          [
           "Sample_46"
          ],
          [
           "Sample_47"
          ],
          [
           "Sample_48"
          ],
          [
           "Sample_49"
          ],
          [
           "Sample_50"
          ],
          [
           "Sample_51"
          ],
          [
           "Sample_52"
          ],
          [
           "Sample_53"
          ],
          [
           "Sample_54"
          ],
          [
           "Sample_55"
          ],
          [
           "Sample_56"
          ],
          [
           "Sample_57"
          ],
          [
           "Sample_58"
          ],
          [
           "Sample_59"
          ],
          [
           "Sample_60"
          ],
          [
           "Sample_61"
          ],
          [
           "Sample_62"
          ],
          [
           "Sample_63"
          ],
          [
           "Sample_64"
          ],
          [
           "Sample_65"
          ],
          [
           "Sample_66"
          ],
          [
           "Sample_67"
          ],
          [
           "Sample_68"
          ],
          [
           "Sample_69"
          ],
          [
           "Sample_70"
          ],
          [
           "Sample_71"
          ],
          [
           "Sample_72"
          ],
          [
           "Sample_73"
          ],
          [
           "Sample_74"
          ],
          [
           "Sample_75"
          ],
          [
           "Sample_76"
          ],
          [
           "Sample_77"
          ],
          [
           "Sample_78"
          ],
          [
           "Sample_79"
          ],
          [
           "Sample_80"
          ],
          [
           "Sample_81"
          ],
          [
           "Sample_82"
          ],
          [
           "Sample_83"
          ],
          [
           "Sample_84"
          ],
          [
           "Sample_85"
          ],
          [
           "Sample_86"
          ],
          [
           "Sample_87"
          ],
          [
           "Sample_88"
          ],
          [
           "Sample_89"
          ],
          [
           "Sample_90"
          ],
          [
           "Sample_91"
          ],
          [
           "Sample_92"
          ],
          [
           "Sample_93"
          ],
          [
           "Sample_94"
          ],
          [
           "Sample_95"
          ],
          [
           "Sample_96"
          ],
          [
           "Sample_97"
          ],
          [
           "Sample_98"
          ],
          [
           "Sample_99"
          ]
         ],
         "hovertemplate": "x=%{x}<br>y=%{y}<br>metadata=%{customdata[0]}<extra></extra>",
         "legendgroup": "",
         "marker": {
          "color": "#636efa",
          "symbol": "circle",
          "size": 8
         },
         "mode": "markers",
         "name": "",
         "orientation": "v",
         "showlegend": false,
         "x": {
          "dtype": "f4",
          "bdata": "06djQGdywz9wDxRAC49NQG7/W0DHXDhAGEuxP9gzG0CHiD5A6w1FQERsiD8NH0NA9xQwQEnGOUDDhRdAFgzWPyQ/GUDnNRlACIL3P03ZmT90De4/4l9nQJN89j9y8rM/Rd7LPxYhOUDRzRdA60kLQPTi0T8D684/ciIqQIdxWT/s4qo/GeQ0PxZJ/z912A9AllgqQENcoT8j4RY+uNk5QGpieT+Rmfg/tm0yQF1OPj81k0dAiVhHPxv8Mj+VZuk+J0PiP2gCND9jG5s/tkFEQKlRI0CnHjZANDKFPme+gUALuVM+ACr6PzD8bkBcxYk+lIllQEITRUCQm3dA35YKQBMhHUDz+W0/nlAXPz78lj+43SlAddqjP4hBgUATwUxAM5/IP+lTtD8Y+4E/Lx6DP+rgIkBvWF5AtKdZQKJXJEDru1NAtmRUPTh2+z8JbJI/LfA/P0oIcEB9rVJAUqDTPiFt8D/uFYA/r8ttQMMZYUBG3SpA7SxTQC7ryT+b0kFAiOKIP58OH0BqhQ1AyhUHQA=="
         },
         "xaxis": "x",
         "y": {
          "dtype": "f4",
          "bdata": "VR2wQGuUmEDLjpxA18CZQC8RxUD9xp5ACTnMQAbFZkAc68lAUWdjQMx30kCo735AxjepQD2cqUBa2nlAb7nkQPC6wEBZA6NAUUDEQJectkD7W2pAqbabQBK8iUCDtZZAYb/BQLujx0BRctNATvyuQEQWukACBaVAgQtfQFBohkC9qYVAXaS1QP/qskCp9M9AoyKjQOK/kEDOJbFANS+NQM2er0B5hYxANMyZQBelj0CgOrdADztyQG2OpEDNF5VAjxPRQMpsuUAdKKhAoB90QA8D6EDTF1hAO32+QM1pmEA4MKRArYudQM90pkCdWo1AhGyRQD/Zo0DjZbpAgMS9QJBS1UA4NZxA08jNQCodpkCZ1oBABJ/YQMeih0AEUWZAcoaGQIGsakBBxpxAX4jAQOoI7UC4xIVAS6+QQHpS8EDEUdFAyWGRQOo5g0AcpmZAVonVQOfqf0DLrLxAavq5QGXl5UBA5tpAi4nRQM1epEDztpZACSLiQBBbtED2td9AkF1cQJzcwkAfZYxAI7BjQA=="
         },
         "yaxis": "y",
         "type": "scatter"
        }
       ],
       "layout": {
        "template": {
         "data": {
          "histogram2dcontour": [
           {
            "type": "histogram2dcontour",
            "colorbar": {
             "outlinewidth": 0,
             "ticks": ""
            },
            "colorscale": [
             [
              0.0,
              "#0d0887"
             ],
             [
              0.1111111111111111,
              "#46039f"
             ],
             [
              0.2222222222222222,
              "#7201a8"
             ],
             [
              0.3333333333333333,
              "#9c179e"
             ],
             [
              0.4444444444444444,
              "#bd3786"
             ],
             [
              0.5555555555555556,
              "#d8576b"
             ],
             [
              0.6666666666666666,
              "#ed7953"
             ],
             [
              0.7777777777777778,
              "#fb9f3a"
             ],
             [
              0.8888888888888888,
              "#fdca26"
             ],
             [
              1.0,
              "#f0f921"
             ]
            ]
           }
          ],
          "choropleth": [
           {
            "type": "choropleth",
            "colorbar": {
             "outlinewidth": 0,
             "ticks": ""
            }
           }
          ],
          "histogram2d": [
           {
            "type": "histogram2d",
            "colorbar": {
             "outlinewidth": 0,
             "ticks": ""
            },
            "colorscale": [
             [
              0.0,
              "#0d0887"
             ],
             [
              0.1111111111111111,
              "#46039f"
             ],
             [
              0.2222222222222222,
              "#7201a8"
             ],
             [
              0.3333333333333333,
              "#9c179e"
             ],
             [
              0.4444444444444444,
              "#bd3786"
             ],
             [
              0.5555555555555556,
              "#d8576b"
             ],
             [
              0.6666666666666666,
              "#ed7953"
             ],
             [
              0.7777777777777778,
              "#fb9f3a"
             ],
             [
              0.8888888888888888,
              "#fdca26"
             ],
             [
              1.0,
              "#f0f921"
             ]
            ]
           }
          ],
          "heatmap": [
           {
            "type": "heatmap",
            "colorbar": {
             "outlinewidth": 0,
             "ticks": ""
            },
            "colorscale": [
             [
              0.0,
              "#0d0887"
             ],
             [
              0.1111111111111111,
              "#46039f"
             ],
             [
              0.2222222222222222,
              "#7201a8"
             ],
             [
              0.3333333333333333,
              "#9c179e"
             ],
             [
              0.4444444444444444,
              "#bd3786"
             ],
             [
              0.5555555555555556,
              "#d8576b"
             ],
             [
              0.6666666666666666,
              "#ed7953"
             ],
             [
              0.7777777777777778,
              "#fb9f3a"
             ],
             [
              0.8888888888888888,
              "#fdca26"
             ],
             [
              1.0,
              "#f0f921"
             ]
            ]
           }
          ],
          "contourcarpet": [
           {
            "type": "contourcarpet",
            "colorbar": {
             "outlinewidth": 0,
             "ticks": ""
            }
           }
          ],
          "contour": [
           {
            "type": "contour",
            "colorbar": {
             "outlinewidth": 0,
             "ticks": ""
            },
            "colorscale": [
             [
              0.0,
              "#0d0887"
             ],
             [
              0.1111111111111111,
              "#46039f"
             ],
             [
              0.2222222222222222,
              "#7201a8"
             ],
             [
              0.3333333333333333,
              "#9c179e"
             ],
             [
              0.4444444444444444,
              "#bd3786"
             ],
             [
              0.5555555555555556,
              "#d8576b"
             ],
             [
              0.6666666666666666,
              "#ed7953"
             ],
             [
              0.7777777777777778,
              "#fb9f3a"
             ],
             [
              0.8888888888888888,
              "#fdca26"
             ],
             [
              1.0,
              "#f0f921"
             ]
            ]
           }
          ],
          "surface": [
           {
            "type": "surface",
            "colorbar": {
             "outlinewidth": 0,
             "ticks": ""
            },
            "colorscale": [
             [
              0.0,
              "#0d0887"
             ],
             [
              0.1111111111111111,
              "#46039f"
             ],
             [
              0.2222222222222222,
              "#7201a8"
             ],
             [
              0.3333333333333333,
              "#9c179e"
             ],
             [
              0.4444444444444444,
              "#bd3786"
             ],
             [
              0.5555555555555556,
              "#d8576b"
             ],
             [
              0.6666666666666666,
              "#ed7953"
             ],
             [
              0.7777777777777778,
              "#fb9f3a"
             ],
             [
              0.8888888888888888,
              "#fdca26"
             ],
             [
              1.0,
              "#f0f921"
             ]
            ]
           }
          ],
          "mesh3d": [
           {
            "type": "mesh3d",
            "colorbar": {
             "outlinewidth": 0,
             "ticks": ""
            }
           }
          ],
          "scatter": [
           {
            "marker": {
             "line": {
              "color": "#283442"
             }
            },
            "type": "scatter"
           }
          ],
          "parcoords": [
           {
            "type": "parcoords",
            "line": {
             "colorbar": {
              "outlinewidth": 0,
              "ticks": ""
             }
            }
           }
          ],
          "scatterpolargl": [
           {
            "type": "scatterpolargl",
            "marker": {
             "colorbar": {
              "outlinewidth": 0,
              "ticks": ""
             }
            }
           }
          ],
          "bar": [
           {
            "error_x": {
             "color": "#f2f5fa"
            },
            "error_y": {
             "color": "#f2f5fa"
            },
            "marker": {
             "line": {
              "color": "rgb(17,17,17)",
              "width": 0.5
             },
             "pattern": {
              "fillmode": "overlay",
              "size": 10,
              "solidity": 0.2
             }
            },
            "type": "bar"
           }
          ],
          "scattergeo": [
           {
            "type": "scattergeo",
            "marker": {
             "colorbar": {
              "outlinewidth": 0,
              "ticks": ""
             }
            }
           }
          ],
          "scatterpolar": [
           {
            "type": "scatterpolar",
            "marker": {
             "colorbar": {
              "outlinewidth": 0,
              "ticks": ""
             }
            }
           }
          ],
          "histogram": [
           {
            "marker": {
             "pattern": {
              "fillmode": "overlay",
              "size": 10,
              "solidity": 0.2
             }
            },
            "type": "histogram"
           }
          ],
          "scattergl": [
           {
            "marker": {
             "line": {
              "color": "#283442"
             }
            },
            "type": "scattergl"
           }
          ],
          "scatter3d": [
           {
            "type": "scatter3d",
            "line": {
             "colorbar": {
              "outlinewidth": 0,
              "ticks": ""
             }
            },
            "marker": {
             "colorbar": {
              "outlinewidth": 0,
              "ticks": ""
             }
            }
           }
          ],
          "scattermap": [
           {
            "type": "scattermap",
            "marker": {
             "colorbar": {
              "outlinewidth": 0,
              "ticks": ""
             }
            }
           }
          ],
          "scattermapbox": [
           {
            "type": "scattermapbox",
            "marker": {
             "colorbar": {
              "outlinewidth": 0,
              "ticks": ""
             }
            }
           }
          ],
          "scatterternary": [
           {
            "type": "scatterternary",
            "marker": {
             "colorbar": {
              "outlinewidth": 0,
              "ticks": ""
             }
            }
           }
          ],
          "scattercarpet": [
           {
            "type": "scattercarpet",
            "marker": {
             "colorbar": {
              "outlinewidth": 0,
              "ticks": ""
             }
            }
           }
          ],
          "carpet": [
           {
            "aaxis": {
             "endlinecolor": "#A2B1C6",
             "gridcolor": "#506784",
             "linecolor": "#506784",
             "minorgridcolor": "#506784",
             "startlinecolor": "#A2B1C6"
            },
            "baxis": {
             "endlinecolor": "#A2B1C6",
             "gridcolor": "#506784",
             "linecolor": "#506784",
             "minorgridcolor": "#506784",
             "startlinecolor": "#A2B1C6"
            },
            "type": "carpet"
           }
          ],
          "table": [
           {
            "cells": {
             "fill": {
              "color": "#506784"
             },
             "line": {
              "color": "rgb(17,17,17)"
             }
            },
            "header": {
             "fill": {
              "color": "#2a3f5f"
             },
             "line": {
              "color": "rgb(17,17,17)"
             }
            },
            "type": "table"
           }
          ],
          "barpolar": [
           {
            "marker": {
             "line": {
              "color": "rgb(17,17,17)",
              "width": 0.5
             },
             "pattern": {
              "fillmode": "overlay",
              "size": 10,
              "solidity": 0.2
             }
            },
            "type": "barpolar"
           }
          ],
          "pie": [
           {
            "automargin": true,
            "type": "pie"
           }
          ]
         },
         "layout": {
          "autotypenumbers": "strict",
          "colorway": [
           "#636efa",
           "#EF553B",
           "#00cc96",
           "#ab63fa",
           "#FFA15A",
           "#19d3f3",
           "#FF6692",
           "#B6E880",
           "#FF97FF",
           "#FECB52"
          ],
          "font": {
           "color": "#f2f5fa"
          },
          "hovermode": "closest",
          "hoverlabel": {
           "align": "left"
          },
          "paper_bgcolor": "rgb(17,17,17)",
          "plot_bgcolor": "rgb(17,17,17)",
          "polar": {
           "bgcolor": "rgb(17,17,17)",
           "angularaxis": {
            "gridcolor": "#506784",
            "linecolor": "#506784",
            "ticks": ""
           },
           "radialaxis": {
            "gridcolor": "#506784",
            "linecolor": "#506784",
            "ticks": ""
           }
          },
          "ternary": {
           "bgcolor": "rgb(17,17,17)",
           "aaxis": {
            "gridcolor": "#506784",
            "linecolor": "#506784",
            "ticks": ""
           },
           "baxis": {
            "gridcolor": "#506784",
            "linecolor": "#506784",
            "ticks": ""
           },
           "caxis": {
            "gridcolor": "#506784",
            "linecolor": "#506784",
            "ticks": ""
           }
          },
          "coloraxis": {
           "colorbar": {
            "outlinewidth": 0,
            "ticks": ""
           }
          },
          "colorscale": {
           "sequential": [
            [
             0.0,
             "#0d0887"
            ],
            [
             0.1111111111111111,
             "#46039f"
            ],
            [
             0.2222222222222222,
             "#7201a8"
            ],
            [
             0.3333333333333333,
             "#9c179e"
            ],
            [
             0.4444444444444444,
             "#bd3786"
            ],
            [
             0.5555555555555556,
             "#d8576b"
            ],
            [
             0.6666666666666666,
             "#ed7953"
            ],
            [
             0.7777777777777778,
             "#fb9f3a"
            ],
            [
             0.8888888888888888,
             "#fdca26"
            ],
            [
             1.0,
             "#f0f921"
            ]
           ],
           "sequentialminus": [
            [
             0.0,
             "#0d0887"
            ],
            [
             0.1111111111111111,
             "#46039f"
            ],
            [
             0.2222222222222222,
             "#7201a8"
            ],
            [
             0.3333333333333333,
             "#9c179e"
            ],
            [
             0.4444444444444444,
             "#bd3786"
            ],
            [
             0.5555555555555556,
             "#d8576b"
            ],
            [
             0.6666666666666666,
             "#ed7953"
            ],
            [
             0.7777777777777778,
             "#fb9f3a"
            ],
            [
             0.8888888888888888,
             "#fdca26"
            ],
            [
             1.0,
             "#f0f921"
            ]
           ],
           "diverging": [
            [
             0,
             "#8e0152"
            ],
            [
             0.1,
             "#c51b7d"
            ],
            [
             0.2,
             "#de77ae"
            ],
            [
             0.3,
             "#f1b6da"
            ],
            [
             0.4,
             "#fde0ef"
            ],
            [
             0.5,
             "#f7f7f7"
            ],
            [
             0.6,
             "#e6f5d0"
            ],
            [
             0.7,
             "#b8e186"
            ],
            [
             0.8,
             "#7fbc41"
            ],
            [
             0.9,
             "#4d9221"
            ],
            [
             1,
             "#276419"
            ]
           ]
          },
          "xaxis": {
           "gridcolor": "#283442",
           "linecolor": "#506784",
           "ticks": "",
           "title": {
            "standoff": 15
           },
           "zerolinecolor": "#283442",
           "automargin": true,
           "zerolinewidth": 2
          },
          "yaxis": {
           "gridcolor": "#283442",
           "linecolor": "#506784",
           "ticks": "",
           "title": {
            "standoff": 15
           },
           "zerolinecolor": "#283442",
           "automargin": true,
           "zerolinewidth": 2
          },
          "scene": {
           "xaxis": {
            "backgroundcolor": "rgb(17,17,17)",
            "gridcolor": "#506784",
            "linecolor": "#506784",
            "showbackground": true,
            "ticks": "",
            "zerolinecolor": "#C8D4E3",
            "gridwidth": 2
           },
           "yaxis": {
            "backgroundcolor": "rgb(17,17,17)",
            "gridcolor": "#506784",
            "linecolor": "#506784",
            "showbackground": true,
            "ticks": "",
            "zerolinecolor": "#C8D4E3",
            "gridwidth": 2
           },
           "zaxis": {
            "backgroundcolor": "rgb(17,17,17)",
            "gridcolor": "#506784",
            "linecolor": "#506784",
            "showbackground": true,
            "ticks": "",
            "zerolinecolor": "#C8D4E3",
            "gridwidth": 2
           }
          },
          "shapedefaults": {
           "line": {
            "color": "#f2f5fa"
           }
          },
          "annotationdefaults": {
           "arrowcolor": "#f2f5fa",
           "arrowhead": 0,
           "arrowwidth": 1
          },
          "geo": {
           "bgcolor": "rgb(17,17,17)",
           "landcolor": "rgb(17,17,17)",
           "subunitcolor": "#506784",
           "showland": true,
           "showlakes": true,
           "lakecolor": "rgb(17,17,17)"
          },
          "title": {
           "x": 0.05
          },
          "updatemenudefaults": {
           "bgcolor": "#506784",
           "borderwidth": 0
          },
          "sliderdefaults": {
           "bgcolor": "#C8D4E3",
           "borderwidth": 1,
           "bordercolor": "rgb(17,17,17)",
           "tickwidth": 0
          },
          "mapbox": {
           "style": "dark"
          }
         }
        },
        "xaxis": {
         "anchor": "y",
         "domain": [
          0.0,
          1.0
         ],
         "title": {
          "text": "x"
         }
        },
        "yaxis": {
         "anchor": "x",
         "domain": [
          0.0,
          1.0
         ],
         "title": {
          "text": "y"
         }
        },
        "legend": {
         "tracegroupgap": 0
        },
        "title": {
         "text": "Interactive UMAP 2D Projection"
        },
        "clickmode": "event+select",
        "showlegend": false
       },
       "config": {
        "plotlyServerURL": "https://plot.ly"
       }
      }
     },
     "metadata": {},
     "output_type": "display_data",
     "jetTransient": {
      "display_id": null
     }
    }
   ],
   "execution_count": 1
  }
 ],
 "metadata": {
  "kernelspec": {
   "display_name": "Python 3",
   "language": "python",
   "name": "python3"
  },
  "language_info": {
   "codemirror_mode": {
    "name": "ipython",
    "version": 2
   },
   "file_extension": ".py",
   "mimetype": "text/x-python",
   "name": "python",
   "nbconvert_exporter": "python",
   "pygments_lexer": "ipython2",
   "version": "2.7.6"
  }
 },
 "nbformat": 4,
 "nbformat_minor": 5
}
