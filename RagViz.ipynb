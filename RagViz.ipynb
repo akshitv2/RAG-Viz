{
 "cells": [
  {
   "cell_type": "code",
   "execution_count": null,
   "id": "initial_id",
   "metadata": {
    "collapsed": true
   },
   "outputs": [],
   "source": [
    "from fastembed import SparseTextEmbedding\n",
    "from RAG.RAG_query import *\n",
    "import os\n",
    "\n",
    "from RAG.RAG_query import get_topics_list\n",
    "from config.loadConfig import load_project_config\n",
    "from DB.qDrant import check_qdrant_status, QdrantConfig\n",
    "from qdrant_client import QdrantClient\n",
    "from sentence_transformers import SentenceTransformer\n",
    "# from RAG.RAG_Retrieve import custom_embed_function\n",
    "\n",
    "# Encode the query text using the same model\n",
    "\n",
    "# Connect to Qdrant\n",
    "config = load_project_config(os.path.join(os.getcwd(), \"config/config.yaml\"))\n",
    "qdrantConfig = QdrantConfig(\n",
    "    host=config[\"db\"][\"qdrant\"][\"connection\"][\"host\"],\n",
    "    port=config[\"db\"][\"qdrant\"][\"connection\"][\"port\"],\n",
    "    timeout=config[\"db\"][\"qdrant\"][\"connection\"][\"timeout\"]\n",
    ")\n",
    "status, client = check_qdrant_status(qdrantConfig)\n",
    "embedding_model = SentenceTransformer(config['embedding_model'])\n",
    "sparse_model = SparseTextEmbedding(model_name=\"Qdrant/bm25\")\n",
    "small_collection_name = config['db']['collections']['collection_small']['name']\n",
    "large_collection_name = config['db']['collections']['collection_large']['name']"
   ]
  }
 ],
 "metadata": {
  "kernelspec": {
   "display_name": "Python 3",
   "language": "python",
   "name": "python3"
  },
  "language_info": {
   "codemirror_mode": {
    "name": "ipython",
    "version": 2
   },
   "file_extension": ".py",
   "mimetype": "text/x-python",
   "name": "python",
   "nbconvert_exporter": "python",
   "pygments_lexer": "ipython2",
   "version": "2.7.6"
  }
 },
 "nbformat": 4,
 "nbformat_minor": 5
}
