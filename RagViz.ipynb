{
 "cells": [
  {
   "cell_type": "code",
   "id": "initial_id",
   "metadata": {
    "collapsed": true,
    "ExecuteTime": {
     "end_time": "2025-10-15T18:08:57.477968Z",
     "start_time": "2025-10-15T18:08:47.739443Z"
    }
   },
   "source": [
    "from RAG.RAG_query import *\n",
    "import os\n",
    "\n",
    "from RAG.RAG_query import get_topics_list\n",
    "from config.loadConfig import load_project_config\n",
    "from DB.qDrant import check_qdrant_status, QdrantConfig\n",
    "from sentence_transformers import SentenceTransformer\n",
    "\n",
    "\n",
    "# Connect to Qdrant\n",
    "config = load_project_config(os.path.join(os.getcwd(), \"config/config.yaml\"))\n",
    "qdrantConfig = QdrantConfig(\n",
    "    host=config[\"db\"][\"qdrant\"][\"connection\"][\"host\"],\n",
    "    port=config[\"db\"][\"qdrant\"][\"connection\"][\"port\"],\n",
    "    timeout=config[\"db\"][\"qdrant\"][\"connection\"][\"timeout\"]\n",
    ")\n",
    "status, client = check_qdrant_status(qdrantConfig)\n",
    "embedding_model = SentenceTransformer(config['embedding_model'])\n",
    "sparse_model = SparseTextEmbedding(model_name=\"Qdrant/bm25\")\n",
    "small_collection_name = config['db']['collections']['collection_small']['name']\n",
    "large_collection_name = config['db']['collections']['collection_large']['name']"
   ],
   "outputs": [
    {
     "name": "stdout",
     "output_type": "stream",
     "text": [
      "Connected. Collections: ['wiki_large_chunks', 'wiki_small_chunks']\n"
     ]
    }
   ],
   "execution_count": 1
  },
  {
   "metadata": {
    "ExecuteTime": {
     "end_time": "2025-10-15T18:24:48.904318Z",
     "start_time": "2025-10-15T18:24:44.895503Z"
    }
   },
   "cell_type": "code",
   "source": [
    "import numpy as np\n",
    "\n",
    "# Creating DB Of 10 points for each title\n",
    "dense_vectors = []\n",
    "labels = []\n",
    "texts = []\n",
    "topics_list = get_topics_list(client,1000)\n",
    "np.random.shuffle(topics_list)\n",
    "for i in topics_list:\n",
    "    large_chunks = get_point_with_common_title(client, large_collection_name, i)\n",
    "    small_chunks = []\n",
    "    for j in large_chunks[0]:\n",
    "        # print(j.id)\n",
    "        # [print(i) for i in get_point_with_common_parent_id(client=client, collection_name=small_collection_name, parent_id=j.id)[0]]\n",
    "        small_chunks.extend(get_point_with_common_parent_id(client, small_collection_name, j.id)[0])\n",
    "    for k in range(0,10):\n",
    "        labels.append(i)\n",
    "        dense_vectors.append(small_chunks[k].vector[\"dense\"])\n",
    "        texts.append(small_chunks[k].payload[\"text\"])\n",
    "        print(small_chunks[k].payload[\"text\"])"
   ],
   "id": "c4237712ace9d293",
   "outputs": [
    {
     "name": "stdout",
     "output_type": "stream",
     "text": [
      "Bomber\n",
      "Strategic bombing is done by heavy bombers primarily designed for long-range bombing missions against strategic targets such as supply bases, bridges, factories, shipyards, and cities themselves,  to diminish the enemy's ability to wage war by limiting access to resources through crippling infrastructure or reducing industrial output. Current examples include the strategic nuclear-armed bombers:\n",
      "Tactical\n",
      "During WWII with engine power as a major limitation, combined with the desire for accuracy and other operational factors, bomber designs tended to be tailored to specific roles. Early in the Cold War however, bombers were the only means of carrying nuclear weapons to enemy targets, and held the role of deterrence. With the advent of guided air-to-air missiles, bombers needed to avoid interception.\n",
      "include the strategic nuclear-armed bombers: B-2 Spirit, B-52 Stratofortress, Tupolev Tu-95 'Bear', Tupolev Tu-22M 'Backfire' and Tupolev Tu-160 \"Blackjack\"; historically notable examples are the: Gotha G.IV, Avro Lancaster, Heinkel He 111, Junkers Ju 88, Boeing B-17 Flying Fortress, Consolidated B-24 Liberator, Boeing B-29 Superfortress, and Tupolev Tu-16 'Badger'.\n",
      "Classification\n",
      "\n",
      "Strategic\n",
      "missiles, bombers needed to avoid interception. High-speed and high-altitude flying became a means of evading detection and attack. With the advent of ICBMs the role of the bomber was brought to a more tactical focus in close air support roles, and a focus on stealth technology for strategic bombers.\n",
      "night bomber – specially equipped to operate at night when opposing defences are limited\n",
      " maritime patrol – long range bombers that were used against enemy shipping, particularly submarines\n",
      " fighter-bomber – a modified fighter aircraft used as a light bomber\n",
      "Bombers of this era were not intended to attack other aircraft although most were fitted with defensive weapons. World War II saw the beginning of the widespread use of high speed bombers which began to minimize defensive weaponry in order to attain higher speed. Some smaller designs were used as the basis for night fighters. A number of fighters, such as the Hawker Hurricane were used as ground\n",
      "such as the Hawker Hurricane were used as ground attack aircraft, replacing earlier conventional light bombers that proved unable to defend themselves while carrying a useful bomb load.\n",
      "dive bomber – specially strengthened for vertical diving attacks for greater accuracy\n",
      " light bomber, medium bomber and heavy bomber – subjective definitions based on size and/or payload capacity\n",
      " torpedo bomber – specialized aircraft armed with torpedoes\n",
      " ground attack aircraft – aircraft used against targets on a battlefield such as troop or tank concentrations\n",
      "Aragonese language\n",
      "Latin -b- is maintained in past imperfect endings of verbs of the second and third conjugations:  ('he had', Sp. , Cat. ),  ('he was sleeping', Sp. , Cat. ).\n",
      "High Aragonese dialects () and some dialects of Gascon have preserved the voicelessness of many intervocalic stop consonants, e.g.  >  ('sheep hurdle', Cat. , Fr. ),  >  ('crested lark', Sp. , Cat. ).\n",
      "Vowels\n",
      "\n",
      "Consonants\n",
      "\n",
      "Orthography\n",
      "\n",
      "In 2010, the Academia de l'Aragonés (founded in 2006) established an orthographic standard to modernize medieval orthography and to make it more etymological. The new orthography is used by the Aragonese Wikipedia.\n",
      "Shared with Catalan and Spanish\n",
      "\n",
      "Open o, e from Romance result systematically in diphthongs , , e.g.  >  ('old woman', Sp. , Cat. , Pt. ). This includes before a palatal approximant, e.g.  >  ('eight', Sp. , Cat. , Pt. oito). Spanish diphthongizes except before yod, whereas Catalan only diphthongizes before yod.\n",
      "Voiced stops  may be lenited to approximants .\n",
      "\n",
      "Shared with Spanish\n",
      "Shared with Spanish\n",
      "\n",
      "Loss of final unstressed -e but not -o, e.g.  >  ('big'),  >  ('done').  Catalan loses both -e and -o (Cat. , ); Spanish preserves -o and sometimes -e (Sp. ,  ~ ).\n",
      "Former voiced sibilants become voiceless (, ).\n",
      "The palatal  is most often realized as a fricative .\n",
      "\n",
      "Shared with neither\n",
      "Several Aragonese dialects maintain Latin -ll- as geminate .\n",
      "The mid vowels  can be as open as , mainly in the Benasque dialect.\n",
      "No native word can begin with an , a trait shared with Gascon and Basque.\n",
      "The 19th and 20th centuries have seen a renaissance of Aragonese literature in several dialects. In 1844, Braulio Foz's novel  was published in the Almudévar (southern) dialect. The 20th century featured Domingo Miral's costumbrist comedies and Veremundo Méndez Coarasa's poetry, both in Hecho (western) Aragonese; Cleto Torrodellas' poetry and Tonón de Baldomera's popular writings in the Graus\n",
      "de Baldomera's popular writings in the Graus (eastern) dialect and Arnal Cavero's costumbrist stories and Juana Coscujuela's novel , also in the southern dialect.\n",
      "Contemporary literature\n",
      "Aragonese became a popular village language. During the 17th century, popular literature in the language began to appear. In a 1650 Huesca literary contest, Aragonese poems were submitted by Matías Pradas, Isabel de Rodas and \"Fileno, montañés\".\n",
      "Early modern period\n",
      "Since 1500, Spanish has been the cultural language of Aragon; many Aragonese wrote in Spanish, and during the 17th century the Argensola brothers went to Castile to teach Spanish.\n",
      "Canary Islands\n",
      "By the end of the 18th century, Canary Islanders had already emigrated to Spanish American territories, such as Havana, Veracruz, and Santo Domingo, San Antonio, Texas and St. Bernard Parish, Louisiana. These economic difficulties spurred mass emigration during the 19th and first half of the 20th century, primarily to the Americas. Between 1840 and 1890 as many as 40,000 Canary Islanders emigrated\n",
      "an example of Canarian culture still preserved in Puerto Rico. Similarly, many thousands of Canarians emigrated to the shores of Cuba. During the Spanish–American War of 1898, the Spanish fortified the islands against a possible American attack, but no such event took place.\n",
      "1890 as many as 40,000 Canary Islanders emigrated to Venezuela. Also, thousands of Canarians moved to Puerto Rico where the Spanish monarchy felt that Canarians would adapt to island life better than other immigrants from the mainland of Spain. Deeply entrenched traditions, such as the Mascaras Festival in the town of Hatillo, Puerto Rico, are an example of Canarian culture still preserved in\n",
      "Romantic period and scientific expeditions \n",
      "\n",
      "Sirera and Renn (2004) distinguish two different types of expeditions, or voyages, during the period 1770–1830, which they term \"the Romantic period\":\n",
      "in which Canarian products such as cochineal, sugarcane and rum were sold in American ports such as Veracruz, Campeche, La Guaira and Havana, among others.\n",
      "The sugar-based economy of the islands faced stiff competition from Spain's Caribbean colonies. Low sugar prices in the 19th century caused severe recessions on the islands. A new cash crop, cochineal (cochinilla), came into cultivation during this time, reinvigorating the islands' economy. During this time the Canarian-American trade was developed, in which Canarian products such as cochineal,\n",
      "18th to 19th century\n",
      "History\n",
      "\n",
      "Ancient and pre-Hispanic times \n",
      "\n",
      "Before the arrival of humans, the Canaries were inhabited by prehistoric animals; for example, the giant lizard (Gallotia goliath), the Tenerife and Gran Canaria giant rats, and giant prehistoric tortoises, Geochelone burchardi and Geochelone vulcanica.\n",
      "North African coast. Reaching the islands may have taken place using several small boats, landing on the easternmost islands Lanzarote and Fuerteventura. These groups came to be known collectively as the Guanches, although Guanches had been the name for only the indigenous inhabitants of Tenerife.\n",
      "Defence\n",
      "\n",
      "The defence of the territory is the responsibility of the Spanish Armed Forces. As such, various components of the Army, Navy, Air Force and the Civil Guard are based in the territory.\n",
      "\n",
      "History\n",
      "\n",
      "Ancient and pre-Hispanic times\n",
      "Blue Öyster Cult\n",
      "songs and Joe Bouchard and Donald Roeser singing lead on one each, Eric Bloom ended up taking the lead on only four of the album's ten songs.\n",
      "For the tour, the band added lasers to their light show, for which they became known. They were among the first acts to use lasers in performance.\n",
      "Their next studio album, Agents of Fortune (1976), was their first to go platinum and was again produced by David Lucas. It contained the hit single \"(Don't Fear) The Reaper\", which reached number 12 on the Billboard charts and has become a classic of the hard rock genre. Other major songs on the album were \"(This Ain't) The Summer of Love\", \"E.T.I. (Extra-Terrestrial Intelligence)\" and \"The\n",
      "still featured their trademark hard rock with sinister lyrics, the songs had become more conventional in structure, and the production was more polished.  For the first and only time, the album featured lead vocals from all five band members, with Allen Lanier singing lead on the song \"True Confessions.\" With Albert Bouchard singing lead on three songs and Joe Bouchard and Donald Roeser singing\n",
      "(Extra-Terrestrial Intelligence)\" and \"The Revenge of Vera Gemini\". Having recorded demos of the songs at home before recording the album, the band's songwriting process had become more individual, with none of the songs featuring the collaborative writing between the band members that had been common on their earlier albums.  Although the album still featured their trademark hard rock with\n",
      "saga. The band also did a co-headlining tour with Black Sabbath in support of the album, calling the tour \"Black and Blue\".\n",
      "Pearlman's association with Black Sabbath led to Sabbath's Heaven and Hell producer Martin Birch being hired for the next Blue Öyster Cult record. The album found the band returning to their hard rock roots, and although both of the Bouchard brothers and guitarist Roeser all got lead vocal turns, Bloom would sing the majority of the tracks. The result was positive, with Cultösaurus Erectus (1980)\n",
      "Roeser, the lead vocalist on the band's biggest hits, bigger prominence as a vocalist, singing lead on four of the nine songs.  However, the resulting album sales were disappointing.\n",
      "was positive, with Cultösaurus Erectus (1980) receiving good reviews. The album went to number 12 in the United Kingdom, but did not do as well in the United States. The song \"Black Blade\", which was written by Bloom with lyrics by science fiction and fantasy author Michael Moorcock, is a kind of retelling of Moorcock's epic Elric of Melniboné saga. The band also did a co-headlining tour with\n",
      "It was followed by the studio album Mirrors (1979). For Mirrors, instead of working with previous producers Sandy Pearlman (who instead went on to manage Black Sabbath) and Murray Krugman, Blue Öyster Cult chose Tom Werman, who had worked with acts such as Cheap Trick and Ted Nugent. It featured the band's glossiest production to date. It also gave Roeser, the lead vocalist on the band's biggest\n",
      "Alfred Russel Wallace\n",
      "comments on environment grew more urgent later in his career. In The World of Life (1911) he wrote that people should view nature \"as invested with a certain sanctity, to be used by us but not abused, and never to be recklessly destroyed or defaced.\"\n",
      "In 1881, Wallace was elected as the first president of the newly formed Land Nationalisation Society. In the next year, he published a book, Land Nationalisation; Its Necessity and Its Aims, on the subject. He criticised the UK's free trade policies for the negative impact they had on working-class people. In 1889, Wallace read Looking Backward by Edward Bellamy and declared himself a socialist,\n",
      "the most intelligent ...\"   He said, \"The world does not want the eugenicist to set it straight,\" \"Give the people good conditions, improve their environment, and all will tend towards the highest type. Eugenics is simply the meddlesome interference of an arrogant, scientific priestcraft.\"\n",
      "Social activism\n",
      "Edward Bellamy and declared himself a socialist, despite his earlier foray as a speculative investor. After reading Progress and Poverty, the bestselling book by the progressive land reformist Henry George, Wallace described it as \"Undoubtedly the most remarkable and important book of the present century.\"\n",
      "Wallace opposed eugenics, an idea supported by other prominent 19th-century evolutionary thinkers, on the grounds that contemporary society was too corrupt and unjust to allow any reasonable determination of who was fit or unfit. In his 1890 article \"Human Selection\" he wrote, \"Those who succeed in the race for wealth are by no means the best or the most intelligent ...\"   He said, \"The world\n",
      "disagreement. Darwin and Wallace agreed on the importance of natural selection, and some of the factors responsible for it: competition between species and geographical isolation. But Wallace believed that evolution had a purpose (\"teleology\") in maintaining species' fitness to their environment, whereas Darwin hesitated to attribute any purpose to a random natural process. Scientific discoveries\n",
      "a random natural process. Scientific discoveries since the 19th century support Darwin's viewpoint, by identifying additional mechanisms and triggers such as mutations triggered by environmental radiation or mutagenic chemicals. Wallace remained an ardent defender of natural selection for the rest of his life. By the 1880s, evolution was widely accepted in scientific circles, but natural\n",
      "in his day, whose ideas could not be ignored. One historian of science has pointed out that, through both private correspondence and published works, Darwin and Wallace exchanged knowledge and stimulated each other's ideas and theories over an extended period. Wallace is the most-cited naturalist in Darwin's Descent of Man, occasionally in strong disagreement. Darwin and Wallace agreed on the\n",
      "In many accounts of the development of evolutionary theory, Wallace is mentioned only in passing as simply being the stimulus to the publication of Darwin's own theory. In reality, Wallace developed his own distinct evolutionary views which diverged from Darwin's, and was considered by many (especially Darwin) to be a leading thinker on evolution in his day, whose ideas could not be ignored. One\n",
      "Antipsychotic\n",
      "Headaches\n",
      " Dizziness\n",
      " Diarrhea\n",
      " Anxiety\n",
      " Extrapyramidal side effects (particularly common with first-generation antipsychotics), which include:\n",
      "- Akathisia, an often distressing sense of inner restlessness.\n",
      "- Dystonia, an abnormal muscle contraction\n",
      "- Pseudoparkinsonism, symptoms that are similar to what people with Parkinson's disease experience, including tremulousness and drooling\n",
      "Hyperprolactinaemia (rare for those treated with clozapine, quetiapine and aripiprazole), which can cause:\n",
      "- Galactorrhoea, the unusual secretion of breast milk.\n",
      "- Gynaecomastia, abnormal growth of breast tissue\n",
      "- Sexual dysfunction (in both sexes)\n",
      "- Osteoporosis\n",
      " Orthostatic hypotension\n",
      " Weight gain (particularly prominent with clozapine, olanzapine, quetiapine and zotepine)\n",
      "Anticholinergic side-effects (common for olanzapine, clozapine; less likely on risperidone) such as:\n",
      "- Blurred vision\n",
      "- Constipation\n",
      "- Dry mouth (although hypersalivation may also occur)\n",
      "- Reduced perspiration\n",
      "By rate\n",
      "Common (≥ 1% and up to 50% incidence for most antipsychotic drugs) adverse effects of antipsychotics include:\n",
      " Dysphoria and apathy (due to dopamine receptor blockade) \n",
      " Sedation (particularly common with asenapine, clozapine, olanzapine, quetiapine, chlorpromazine and zotepine)\n",
      " Headaches\n",
      " Dizziness\n",
      " Diarrhea\n",
      " Anxiety\n",
      "tic disorder, bipolar disorder, psychosis), but the use of antipsychotics outside of those contexts (e.g. to treat behavioral problems) warrants significant caution.\n",
      "Antipsychotics are used to treat tics associated with Tourette syndrome. Aripiprazole, an atypical antipsychotic, is used as add-on medication to ameliorate sexual dysfunction as a symptom of selective serotonin reuptake inhibitor antidepressants in women. Quetiapine is used to treat generalized anxiety disorder.\n",
      "\n",
      "Schizophrenia\n",
      "Antipsychotics are generally not recommended for treating behavioral problems associated with dementia, given that the risk of use tends to be greater than the potential benefit. The same can be said for insomnia, in which they are not recommended as first-line therapy. There are evidence-based indications for using antipsychotics in children (e.g. tic disorder, bipolar disorder, psychosis), but\n",
      "Major depressive disorder\n",
      "of side effects with their use compared to using traditional antidepressants. The greater risk of serious side effects with antipsychotics is why, e.g., quetiapine was denied approval as monotherapy for major depressive disorder or generalized anxiety disorder, and instead was only approved as an adjunctive treatment in combination with traditional antidepressants.\n",
      "A number of atypical antipsychotics have some benefits when used in addition to other treatments in major depressive disorder. Aripiprazole, quetiapine extended-release, and olanzapine (when used in conjunction with fluoxetine) have received the Food and Drug Administration (FDA) labelling for this indication. There is, however, a greater risk of side effects with their use compared to using\n",
      "Muslim conquests of Afghanistan\n",
      "The earlier Arabs called Sistan as Sijistan, from the Persian word Sagestan. It is a lowland region, lying round and eastwards from the Zarah lake, which includes deltas of Helmand and other rivers which drain into it. The Muslim conquest of Sistan began in 23 AH (643-644 AD) when Asim bin Amr and Abdallah ibn Amir invaded the region and besieged Zaranj. The Sistanis concluded a treaty with\n",
      "In Afghanistan, the frontier of the Islamic conquest had become more or less stationary by the end of the first century of Hijri calendar. One reason was that the relative importance of Sistan and Baluchistan had begun to diminish by the time of Mu'awiyah I, when the conquests of Bactria and Transoxania were undertaken. In addition, the conquest in the eastern direction was extended to Makran and\n",
      "Sistan\n",
      "the eastern direction was extended to Makran and Sind, with Muslim colonies becoming established there in 711–12.\n",
      "Zaranj. The Sistanis concluded a treaty with Muslims, mandating them to pay the kharaj.\n",
      "for four months and wrested the town from its ruler, Abu 'Ali or Abu Bakr Lawik or Anuk. The origin of this chief was Turkic, though it is not known if he was a Samanid vassal or an independent ruler. Josef Markwart suggests he was a late representative of the Zunbils. The Lawik dynasty of Ghazni was linked to the Hindu Shahi dynasty through marriage. Alp-Tegin was accompanied by Sabuktigin\n",
      "Alp-Tegin proceeded with his small force of ghulams and ghazis (200 ghulams and 800 ghazis according to Siyasatnama, while Majma al-ansab of Muhammad b. Ali al-Shabankara'i (d. 1358) states 700 ghulams and 2,500 Tajiks). En route, he subdued the Iranian Sher of Bamiyan and the Hindu-Shahi king of Kabul. He then came to Ghazni, whose citadel he besieged for four months and wrested the town from its\n",
      "authority from the Samanids to mint coins only in an indirect way. He was succeeded by his son Abu Ishaq Ibrahim, who lost Ghazni to Abu Ali Lawik, the son of its expelled ruler. He recovered it however with Samanid help in 964–65.\n",
      "Minhaj al-Siraj Juzjani states that Alp-Tegin had his position regularised by Amir Mansur b. Nuh through an investiture, however Siyasatnama mentions an expedition against Alp-Tegin from Bukhara which was defeated outside Ghazni. His ambiguous, semi-rebel status seems to be reflected in his coins, with two of his coins minted at Parwan mentioning his authority from the Samanids to mint coins only\n",
      "marriage. Alp-Tegin was accompanied by Sabuktigin during the conquest of Ghazni.\n",
      "Economy of Cambodia\n",
      "from the country's garment industry, also increased. Although there was a constant economic growth, this growth translated to only about\n",
      "0.71% for the ASEAN economy in 2016, compared with her neighbor Indonesia, which contributed 37.62%.\n",
      "The economy of Cambodia ( ) currently follows an open market system (market economy) and has seen rapid economic progress in the last decade. Cambodia had a GDP of $28.54 billion in 2022. Per capita income, although rapidly increasing, is low compared with most neighboring countries. Cambodia's two largest industries are textiles and tourism, while agricultural activities remain the main source of\n",
      "In 1995, with a GDP of $2.92 billion the government transformed the country's economic system from a planned economy to its present market-driven system.  Following those changes, growth was estimated at a value of 7% while inflation dropped from 26% in 1994 to only 6% in 1995. Imports increased due to the influx of foreign aid, and exports, particularly from the country's garment industry, also\n",
      "agricultural activities remain the main source of income for many Cambodians living in rural areas.  The service sector is heavily concentrated on trading activities and catering-related services. Recently, Cambodia has reported that oil and natural gas reserves have been found off-shore.\n",
      "It will be challenging for Cambodia to enhance the technological capacity of the many small and medium-sized enterprises (SMEs) active in agriculture, engineering and the natural sciences. Whereas the large foreign firms in Cambodia that are the main source of value-added exports tend to specialize in electrical machinery and telecommunications, the principal task for science and technology\n",
      "Challenges for industrial development\n",
      "Although Cambodia exports mainly garments and products from agriculture and fisheries, it is striving to diversify the economy. There is some evidence of expansion in value-added exports from a low starting point, largely thanks to the manufacture of electrical goods and telecommunications by foreign multinationals implanted in the country. Between 2008 and 2013, high-tech exports climbed from\n",
      "the principal task for science and technology policy will be to facilitate spillovers in terms of skills and innovation capability from these large operators towards smaller firms and across other sectors.\n",
      "2008 and 2013, high-tech exports climbed from just US$3.8million to US$76.5 million.\n",
      "Aramaic\n",
      "Languages attested from the 10th century BC\n",
      "External links\n",
      "\n",
      " Ancient Aramaic Audio Files: Contains audio recordings of scripture.\n",
      " The Aramaic Language and Its Classification – Efrem Yildiz, Journal of Assyrian Academic Studies \n",
      " Comprehensive Aramaic Lexicon (including editions of Targums) at the Hebrew Union College, Cincinnati\n",
      " Dictionary of Judeo-Aramaic\n",
      " Jewish Language Research Website: Jewish Aramaic\n",
      "(VSO).  Imperial (Persian) Aramaic, however, tended to follow a S-O-V pattern (similar to Akkadian), which was the result of Persian syntactic influence.\n",
      "Not all verbs use all of these conjugations, and, in some, the G-stem is not used. In the chart below (on the root כת״ב K-T-B, meaning \"to write\"), the first form given is the usual form in Imperial Aramaic, while the second is Classical Syriac.\n",
      "In Imperial Aramaic, the participle began to be used for a historical present. Perhaps under influence from other languages, Middle Aramaic developed a system of composite tenses (combinations of forms of the verb with pronouns or an auxiliary verb), allowing for narrative that is more vivid. Aramaic syntax usually follows the order verb–subject–object (VSO).  Imperial (Persian) Aramaic, however,\n",
      "See also\n",
      "\n",
      "References\n",
      "\n",
      "Sources\n",
      "\n",
      " \n",
      " \n",
      " \n",
      " \n",
      " \n",
      " \n",
      " \n",
      " \n",
      " \n",
      " \n",
      " \n",
      " \n",
      " \n",
      " \n",
      " \n",
      " \n",
      " \n",
      " \n",
      " \n",
      " \n",
      " \n",
      " \n",
      " \n",
      " \n",
      " \n",
      " \n",
      " \n",
      " \n",
      " \n",
      " \n",
      " \n",
      " \n",
      " \n",
      " \n",
      " .\n",
      "\n",
      "External links\n",
      "Church, the Syriac Catholic Church, the Maronite Church, and also the Saint Thomas Christians (Native Christians) and Syrian Christians (K[Q]naya) of Kerala, India. One of Aramaic liturgical dialects was Mandaic, which besides becoming a vernacular (Neo-Mandaic) also remained the liturgical language of Mandaeism. Syriac was also the liturgical language of several now-extinct gnostic faiths, such\n",
      "to 2 million, with the main Akkadian influenced languages among Assyrians being Suret (240,000 speakers) and Turoyo (100,000 speakers); in addition to Western Neo-Aramaic (21,700) which persists in only three villages in the Anti-Lebanon Mountains region in western Syria. They have retained use of the once dominant lingua franca despite subsequent language shifts experienced throughout the Middle\n",
      "language shifts experienced throughout the Middle East.\n",
      "Some variants of Aramaic are also retained as sacred languages by certain religious communities. Most notable among them is Classical Syriac, the liturgical language of Syriac Christianity. It is used by several communities, including the Assyrian Church of the East, the Ancient Church of the East, the Chaldean Catholic Church, the Syriac Orthodox Church, the Syriac Catholic Church, the Maronite\n",
      "Apollos\n",
      "Before Paul's arrival, Apollos had moved from Ephesus to Achaia and was living in Corinth, the provincial capital of Achaia. Acts reports that Apollos arrived in Achaia with a letter of recommendation from the Ephesian Christians and \"greatly helped those who through grace had believed, for he powerfully refuted the Jews in public, showing by the Scriptures that the Christ was Jesus.\n",
      "Acts of the Apostles\n",
      "Apollos is first mentioned as a Christian preacher who had come to Ephesus (probably in AD 52 or 53), where he is described as \"being fervent in spirit: he spoke and taught accurately the things concerning Jesus, though he knew only the baptism of John\". Priscilla and Aquila, a Jewish Christian couple who had come to Ephesus with the Apostle Paul, instructed Apollos:\n",
      "\"When Priscilla and Aquila heard him, they took him aside and explained to him the way of God more adequately.\"\n",
      "\n",
      "The differences between the two understandings probably related to the Christian baptism, since Apollos \"knew only the baptism of John\". Later, during Apollos' absence, the writer of the Acts of the Apostles recounts an encounter between Paul and some disciples at Ephesus:\n",
      "Apollos () was a 1st-century Alexandrian Jewish Christian mentioned several times in the New Testament. A contemporary and colleague of Paul the Apostle, he played an important role in the early development of the churches of Ephesus and Corinth.\n",
      "\n",
      "Biblical account\n",
      "Significance\n",
      "Martin Luther and some modern scholars have proposed Apollos as the author of the Epistle to the Hebrews, rather than Paul or Barnabas. Both Apollos and Barnabas were Jewish Christians with sufficient intellectual authority. The Pulpit Commentary treats Apollos' authorship of Hebrews as \"generally believed\". Other than this, there are no known surviving texts attributed to Apollos.\n",
      "Apollos is regarded as a saint by several Christian churches, including the Lutheran Church–Missouri Synod, which hold a commemoration for him, together with saints Aquila and Priscilla, on 13 February. Apollos is considered one of the 70 apostles  and his feast day is December 8 in the Eastern Orthodox church.\n",
      "Apollos is not to be confused with St. Apollo of Egypt, a monk who died in 395 and whose feast day is January 25. Apollos does not have a feast day of his own in the traditional Roman Martyrology, nor is he reputed to have ever been a monk (as most monks come after St. Anthony the Great).\n",
      "\n",
      "Notes\n",
      "\n",
      "References\n",
      "Notes\n",
      "\n",
      "References\n",
      "\n",
      " Articles in\n",
      " Encyclopaedia Biblica\n",
      " Herzog-Hauck, Realencyklopadie\n",
      " The Jewish Encyclopedia (Jewish Encyclopedia: Apollos)\n",
      " James Hastings, Dictionary of the Bible\n",
      " Karl Heinrich von Weizsäcker, Das apostolische Zeitalter (1886)\n",
      " A. C. McGiffert, History of Christianity in the Apostolic Age.\n",
      " Initial text from Schaff-Herzog Encyclopedia of Religion\n",
      "1st-century bishops in Roman Achaea\n",
      "Christianity in Roman Corinth\n",
      "Early Jewish Christians\n",
      "People in the Pauline epistles\n",
      "Seventy disciples\n",
      "Converts to Christianity from Judaism\n",
      "Biblical apostles\n",
      "First Epistle to the Corinthians\n",
      "Paul's Epistle refers to a schism between four parties in the Corinthian church, of which two attached themselves to Paul and Apollos respectively, using their names (the third and fourth were Peter, identified as Cephas, and Jesus Christ himself). It is possible, though, that, as Msgr. Ronald Knox suggests, the parties were actually two, one claiming to follow Paul, the other claiming to follow\n"
     ]
    }
   ],
   "execution_count": 21
  },
  {
   "metadata": {
    "ExecuteTime": {
     "end_time": "2025-10-15T18:24:56.770890Z",
     "start_time": "2025-10-15T18:24:56.767066Z"
    }
   },
   "cell_type": "code",
   "source": [
    "print(labels[1])\n",
    "print(texts[1])"
   ],
   "id": "9d6ef1a4081717e9",
   "outputs": [
    {
     "name": "stdout",
     "output_type": "stream",
     "text": [
      "Bomber\n",
      "Tactical\n"
     ]
    }
   ],
   "execution_count": 25
  },
  {
   "metadata": {
    "ExecuteTime": {
     "end_time": "2025-10-15T18:14:56.787609Z",
     "start_time": "2025-10-15T18:14:56.648905Z"
    }
   },
   "cell_type": "code",
   "source": [
    "import umap\n",
    "import pandas as pd\n",
    "import plotly.express as px\n",
    "\n",
    "# Example metadata: replace with your own (e.g., labels, IDs, or other info)\n",
    "# metadata = [f\"Sample_{i}\" for i in range(data.shape[0])]\n",
    "\n",
    "# Run UMAP to reduce to 2D\n",
    "umap_2d = umap.UMAP(n_components=2, random_state=42)\n",
    "embedding_2d = umap_2d.fit_transform(dense_vectors)\n",
    "\n",
    "# Create a DataFrame for Plotly\n",
    "df = pd.DataFrame({\n",
    "    'x': embedding_2d[:, 0],\n",
    "    'y': embedding_2d[:, 1],\n",
    "    'metadata': texts,\n",
    "    'color': labels\n",
    "})\n",
    "\n",
    "# Create interactive scatter plot\n",
    "fig = px.scatter(\n",
    "    df,\n",
    "    x='x',\n",
    "    y='y',\n",
    "    color='color',\n",
    "    hover_data=['metadata'],  # Display metadata on hover\n",
    "    title='Interactive UMAP 2D Projection'\n",
    ")\n",
    "\n",
    "# Optional: Add click interaction\n",
    "fig.update_traces(\n",
    "    marker=dict(size=8),\n",
    "    selector=dict(mode='markers'),\n",
    "    customdata=df[['metadata']].values  # Attach metadata for click events\n",
    ")\n",
    "\n",
    "# Add click event to display data\n",
    "fig.update_layout(\n",
    "    clickmode='event+select',\n",
    "    showlegend=False\n",
    ")\n",
    "\n",
    "# Show the plot\n",
    "fig.show()\n",
    "\n",
    "# Optional: Add a callback for clicking (for Jupyter or Dash integration)\n",
    "# This requires a Dash app or further customization for full click handling"
   ],
   "id": "9613f508002566e6",
   "outputs": [
    {
     "name": "stderr",
     "output_type": "stream",
     "text": [
      "/mnt/85e3eeea-3bda-4255-95a1-833fffd20e34/dev/RAG-Viz/.venv/lib/python3.12/site-packages/umap/umap_.py:1952: UserWarning:\n",
      "\n",
      "n_jobs value 1 overridden to 1 by setting random_state. Use no seed for parallelism.\n",
      "\n"
     ]
    },
    {
     "data": {
      "application/vnd.plotly.v1+json": {
       "data": [
        {
         "customdata": [
          [
           "benzodiazepines and nonbenzodiazepines. Dependence upon and withdrawal from sedative-hypnotics can be medically severe and, as with alcohol withdrawal, there is a risk of psychosis or seizures if not properly managed."
          ],
          [
           "requires careful reduction in dosage to avoid benzodiazepine withdrawal syndrome and other health consequences. Dependence on other sedative-hypnotics such as zolpidem and zopiclone as well as opiates and illegal drugs is common in alcoholics. Alcohol itself is a sedative-hypnotic and is cross-tolerant with other sedative-hypnotics such as barbiturates, benzodiazepines and nonbenzodiazepines."
          ],
          [
           "Dual addictions and dependencies"
          ],
          [
           "Epidemiology"
          ],
          [
           "or clonazepam. These drugs are, like alcohol, depressants. Benzodiazepines may be used legally, if they are prescribed by doctors for anxiety problems or other mood disorders, or they may be purchased as illegal drugs. Benzodiazepine use increases cravings for alcohol and the volume of alcohol consumed by problem drinkers. Benzodiazepine dependency requires careful reduction in dosage to avoid"
          ],
          [
           "Alcoholics may also require treatment for other psychotropic drug addictions and drug dependencies. The most common dual dependence syndrome with alcohol dependence is benzodiazepine dependence, with studies showing 10–20% of alcohol-dependent individuals had problems of dependence and/or misuse problems of benzodiazepine drugs such as diazepam or clonazepam. These drugs are, like alcohol,"
          ],
          [
           "Alcohol withdrawal"
          ],
          [
           "Serious social problems arise from alcohol use disorder; these dilemmas are caused by the pathological changes in the brain and the intoxicating effects of alcohol. Alcohol misuse is associated with an increased risk of committing criminal offences, including child abuse, domestic violence, rape, burglary and assault. Alcoholism is associated with loss of employment, which can lead to financial"
          ],
          [
           "with alcohol use disorders can develop a number of emotional problems. For example, they can become afraid of their parents, because of their unstable mood behaviors. They may develop shame over their inadequacy to liberate their parents from alcoholism and, as a result of this, may develop self-image problems, which can lead to depression."
          ],
          [
           "loss of employment, which can lead to financial problems. Drinking at inappropriate times and behavior caused by reduced judgment can lead to legal consequences, such as criminal charges for drunk driving or public disorder, or civil penalties for tortious behavior. An alcoholic's behavior and mental impairment while drunk can profoundly affect those surrounding him and lead to isolation from"
          ],
          [
           "Former Misery ( )\nFuture Blessing ( )\nDivine Announcement: Zerubbabel Chosen as a Signet  ( )"
          ],
          [
           "Divine Announcement: The Command to Rebuild the Temple  ( )\nIntroduction: Reluctant Rebuilders  ( )\nConsider your ways: fruitless prosperity ( )\nPromise and Progress  ( )\nDivine Announcement: The Coming Glory of the Temple  ( )\nGod will fulfill his promise ( ) \nFuture Splendor of the temple ( )\nDivine Announcement: Blessings for a Defiled People  ( )\nFormer Misery ( )\nFuture Blessing ( )"
          ],
          [
           "Notes\n\nReferences\n\nWorks cited\n\nExternal links \n\nJewish translations:\n Chaggai – Haggai (Judaica Press) translation with Rashi's commentary at Chabad.org\nChristian translations:\nOnline Bible at GospelHall.org (ESV, KJV, Darby, American Standard Version, Bible in Basic English)\n  Various versions\n\n \n6th-century BC books\nTwelve Minor Prophets"
          ],
          [
           "Outline"
          ],
          [
           "Music \nThe King James Version of Haggai 2:6–7 is used in the libretto of the English-language oratorio \"Messiah\" by George Frideric Handel (HWV 56).\n\nSee also \nDarius I\nJoshua the High Priest , son of Jehozadak\nOld Testament messianic prophecies quoted in the New Testament\n\nNotes\n\nReferences\n\nWorks cited\n\nExternal links"
          ],
          [
           "75–50 BCE); and Wadi Murabba'at Minor Prophets (Mur88; MurXIIProph; 75-100 CE)."
          ],
          [
           "text is uncertain but most likely dates to within a generation of Haggai himself. Traditional consensus dates the completion of the text to c. 515 BC. Other scholars consider the book to be completed around 417 BC, as it did not refer to Darius I, but to Darius II (424-405 BC)."
          ],
          [
           "Date"
          ],
          [
           "The Book of Haggai records events in 520 BC, some 18 years after Cyrus had conquered Babylon and issued a decree in 538 BC, allowing the captive Judahites to return to Judea. Cyrus saw the restoration of the temple as necessary for the restoration of religious practices and a sense of peoplehood, after the long exile. The precise date of the written text is uncertain but most likely dates to"
          ],
          [
           "Some early manuscripts containing the text of this book in Biblical Hebrew are of the Masoretic Text, which includes the Codex Cairensis (895), the Petersburg Codex of the Prophets (916), and Codex Leningradensis (1008). Fragments of the Hebrew text of this book were found among the Dead Sea Scrolls, including 4Q77 (4QXIIb; 150–125 BCE) 4Q80 (4QXIIe; 75–50 BCE); and Wadi Murabba'at Minor Prophets"
          ],
          [
           "the phenomena of gravitational time dilation, gravitational redshift and gravitational lensing."
          ],
          [
           "In 1911, Einstein published another article \"On the Influence of Gravitation on the Propagation of Light\" expanding on the 1907 article, in which he estimated the amount of deflection of light by massive bodies. Thus, the theoretical prediction of general relativity could for the first time be tested experimentally."
          ],
          [
           "under special relativity. In that article titled \"On the Relativity Principle and the Conclusions Drawn from It\", he argued that free fall is really inertial motion, and that for a free-falling observer the rules of special relativity must apply. This argument is called the equivalence principle. In the same article, Einstein also predicted the phenomena of gravitational time dilation,"
          ],
          [
           "As Einstein later said, the reason for the development of general relativity was that the preference of inertial motions within special relativity was unsatisfactory, while a theory which from the outset prefers no state of motion (even accelerated ones) should appear more satisfactory. Consequently, in 1907 he published an article on acceleration under special relativity. In that article titled"
          ],
          [
           "as they were being denied citizenship elsewhere. In his speech he described Einstein as a \"citizen of the world\" who should be offered a temporary shelter in the UK. Both bills failed, however, and Einstein then accepted an earlier offer from the Institute for Advanced Study, in Princeton, New Jersey, US, to become a resident scholar."
          ],
          [
           "On 3 October 1933, Einstein delivered a speech on the importance of academic freedom before a packed audience at the Royal Albert Hall in London, with The Times reporting he was wildly cheered throughout. Four days later he returned to the US and took up a position at the Institute for Advanced Study, noted for having become a refuge for scientists fleeing Nazi Germany. At the time, most American"
          ],
          [
           "fleeing Nazi Germany. At the time, most American universities, including Harvard, Princeton and Yale, had minimal or no Jewish faculty or students, as a result of their Jewish quotas, which lasted until the late 1940s."
          ],
          [
           "Resident scholar at the Institute for Advanced Study"
          ],
          [
           "Locker-Lampson also submitted a bill to parliament to extend British citizenship to Einstein, during which period Einstein made a number of public appearances describing the crisis brewing in Europe. In one of his speeches he denounced Germany's treatment of Jews, while at the same time he introduced a bill promoting Jewish citizenship in Palestine, as they were being denied citizenship elsewhere."
          ],
          [
           "Einsteinium, one of the synthetic elements in the periodic table, was named in his honor.\n\nPublications\n\nScientific"
          ],
          [
           "In 1520, while attempting to circumnavigate the globe, Ferdinand Magellan discovered the southern passage now named after him (the Strait of Magellan) thus becoming the first European to set foot on what is now Chile. The next Europeans to reach Chile were Diego de Almagro and his band of Spanish conquistadors, who came from Peru in 1535 seeking gold. The Spanish encountered various cultures that"
          ],
          [
           "The Spanish encountered various cultures that supported themselves principally through slash-and-burn agriculture and hunting."
          ],
          [
           "Spanish colonization"
          ],
          [
           "The conquest of Chile began in earnest in 1540 and was carried out by Pedro de Valdivia, one of Francisco Pizarro's lieutenants, who founded the city of Santiago on 12 February 1541. Although the Spanish did not find the extensive gold and silver they sought, they recognized the agricultural potential of Chile's central valley, and Chile became part of the Spanish Empire."
          ],
          [
           "A military junta, led by General Augusto Pinochet, took control of the country. The first years of the regime were marked by human rights violations. Chile actively participated in Operation Condor. In October 1973, at least 72 people were murdered by the Caravan of Death. According to the Rettig Report and Valech Commission, at least 2,115 were killed, and at least 27,265 were tortured (including"
          ],
          [
           "A new Constitution was approved by a controversial plebiscite on 11 September 1980, and General Pinochet became president of the republic for an eight-year term. After Pinochet obtained rule of the country, several hundred committed Chilean revolutionaries joined the Sandinista army in Nicaragua, guerrilla forces in Argentina or training camps in Cuba, Eastern Europe and Northern Africa."
          ],
          [
           "and at least 27,265 were tortured (including 88 children younger than 12 years old). In 2011, Chile recognized an additional 9,800 victims, bringing the total number of killed, tortured or imprisoned for political reasons to 40,018. At the national stadium, filled with detainees, one of those tortured and killed was internationally known poet-singer Víctor Jara (see \"Music and Dance\", below)."
          ],
          [
           "In November 2005 the government launched a campaign under the brand \"Chile: All Ways Surprising\" intended to promote the country internationally for both business and tourism. Museums in Chile such as the Chilean National Museum of Fine Arts built in 1880, feature works by Chilean artists."
          ],
          [
           "Chile is home to the world-renowned Patagonian Trail that resides on the border between Argentina and Chile. Chile recently launched a massive scenic route for tourism in hopes of encouraging development based on conservation. The Route of Parks covers  and was designed by Tompkin Conservation (founders Douglas Tompkins and wife Kristine).\n\nTransport"
          ],
          [
           "access to Concepción and the large project of the Santiago urban highways network, opened between 2004 and 2006. Buses are now the main means of long-distance transportation in Chile, following the decline of its railway network. The bus system covers the entire country, from Arica to Santiago (a 30-hour journey) and from Santiago to Punta Arenas (about 40 hours, with a change at Osorno)."
          ],
          [
           "The Elephant Mountains\n\nChuŏr Phnum Dâmrei - A north-south-trending range of high hills, an extension of the Cardamom/Krâvanh Mountains, in south-eastern Cambodia,  rising to elevations of between 500 and 1,000 meters. Extending  north from the Gulf of Thailand, they reach a high point in the Bok Koŭ ridge at Mount Bokor  near the sea."
          ],
          [
           "The Cardamom Mountains form - including the north-western part of Chanthaburi Province, Thailand, the 'Soi Dao Mountains' - the Cardamom Mountains Moist Forests Ecoregion, that is considered to be one of the most species-rich and intact natural habitats in the region. The climate, size inaccessibility and seclusion of the mountains have allowed a rich variety of wildlife to thrive. The Cardamom"
          ],
          [
           "To the south-west of the Southern mountain ranges extends a narrow coastal plain that contains the Kampong Saom Bay area and the Sihanoukville peninsula, facing the Gulf of Thailand.\n\nNorthern Mountains\n\nThe Dangrek Mountains"
          ],
          [
           "rich variety of wildlife to thrive. The Cardamom and Elephant Mountains remain to be fully researched and documented."
          ],
          [
           "The Cardamom/Krâvanh Mountains"
          ],
          [
           "Occupying Koh Kong Province and Kampong Speu Province, running in a north-western to south-eastern direction and rising to more than . The highest mountain of Cambodia, Phnom Aural, at  is located in Aoral District in Kampong Speu Province."
          ],
          [
           "the absence of strict administrative control and indifference in law enforcement - not only in Cambodia but the entire region."
          ],
          [
           "Figures and assessments are numerous as are available sources.  as seen in numbers below, which provide a wide range for interpretation. About  (1%) of forest cover is planted forest. Overall Cambodia’s forests contain an estimated 464 million metric tonnes of carbon stock in living forest biomass. Approximately 40% of Cambodia’s Forests have some level of protection, while one of the Cambodia"
          ],
          [
           "level of protection, while one of the Cambodia Millennium Development Goals targets is to achieve a 60% forest cover by 2015."
          ],
          [
           "Cambodia has one of the highest levels of forest cover in the region as the interdependence of Cambodia’s geography and hydrology makes it rich in natural resources and biological diversity - among the bio-richest countries in Southeast Asia. The Royal Government of Cambodia estimates Cambodia contains approximately 10.36 million hectares of forest cover, representing approximately 57.07% of"
          ],
          [
           "capability, the aircraft received UK certification, and the first customer aircraft was delivered. Despite this success, the additional investment necessary for the final phase of full production was not forthcoming, the business went into receivership, and John Edgley was forced out. With new owners, aircraft on the production line were completed, and the Optica entered service."
          ],
          [
           "The Edgley EA-7 Optica is a British light aircraft designed for low-speed observation work, and intended as a low-cost alternative to helicopters. The Optica has a loiter speed of 130 km/h (70 kn; 81 mph) and a stall speed of 108 km/h (58 kn; 67 mph).\n\nDesign and development"
          ],
          [
           "The Optica project began in 1974 with a company, Edgley Aircraft Limited, formed by John Edgley who, with a small team, designed and built the original prototype. In 1982, institutional investors bought into the project and set up a production line at Old Sarum Airfield in Wiltshire. Over the next three years, the company was built up to full manufacturing capability, the aircraft received UK"
          ],
          [
           "with due diligence, appraisal and further steps to re launch the EA-7 Optica aircraft programme in the 2018–19 timeframe.  IFG planned to develop, market and support the Optica, outsourcing the fabrication and final assembly to an FAA/EASA Part 23 certified OEM. At the end of 2018, IFG modified its initial program re-launch efforts whilst, again, identifying and selecting a suitable OEM strategic"
          ],
          [
           "of intent, remains active in the search for strategic partners to"
          ],
          [
           "The Optica and the Sprint together then passed through other owners until, in 2007, they were offered to John Edgley who formed a new company, AeroElvira Limited, with three former employees of Edgley Aircraft (Chris Burleigh, Fin Colson and Dave Lee) who at that time were working on both projects for the then-owners.  The new company successfully put G-BOPO back into service as a UK demonstrator,"
          ],
          [
           "G-BOPO back into service as a UK demonstrator, with a first return-to-service flight on 3 June 2008. In August 2016 Interflight Global (IFG) announced plans to start a valuation of the dormant Optica programme with a view to relaunching production.  In December 2016, IFG completed its valuation and in June 2017, delivered an LOI to AeroElvira to continue with due diligence, appraisal and further"
          ],
          [
           "and selecting a suitable OEM strategic partner to update the Optica TC and to bring the aircraft into production. As of the end of 2019, IFG continues to seek for a strategic OEM partner to re-launch the program aligned with optionally piloted and powered by electric or hybrid electric powerplants. As of 2022, IFG, in a post COVID 19 Pandemic re assessment of intent, remains active in the search"
          ],
          [
           "1980s British special-purpose aircraft\nEdgley aircraft\nDucted fan-powered aircraft\nMid-wing aircraft\nAircraft first flown in 1979\nSingle-engined pusher aircraft"
          ],
          [
           "The Optica went through several changes of ownership, until FLS Aerospace (Lovaux Ltd) took over the rights, together with the design and manufacturing rights to the Sprint: a two-seat ab-initio trainer that had been designed by Sydney Holloway in Cornwall UK at about the same time as the Optica. Lovaux had intended to develop both aircraft, with the Sprint intended as the military trainer for the"
          ],
          [
           "Cinema\n\nThe Algerian state's interest in film-industry activities can be seen in the annual budget of DZD 200 million (EUR 1.3 million) allocated to production, specific measures and an ambitious programme plan implemented by the Ministry of Culture in order to promote national production, renovate the cinema stock and remedy the weak links in distribution and exploitation."
          ],
          [
           "singer. Other Algerian singers of the diaspora include Manel Filali in Germany and Kenza Farah in France. Tergui music is sung in Tuareg languages generally, Tinariwen had a worldwide success. Finally, the staïfi music is born in Sétif and remains a unique style of its kind."
          ],
          [
           "Modern music is available in several facets, Raï music is a style typical of western Algeria. Rap, a relatively recent style in Algeria, is experiencing significant growth.\n\nCinema"
          ],
          [
           "Folk music styles include Bedouin music, characterized by the poetic songs based on long kacida (poems); Kabyle music, based on a rich repertoire that is poetry and old tales passed through generations; Shawiya music, a folklore from diverse areas of the Aurès Mountains. Rahaba music style is unique to the Aures. Souad Massi is a rising Algerian folk singer. Other Algerian singers of the diaspora"
          ],
          [
           "Centuries of Arab migration to the Maghreb since the 7th century shifted the demographic scope in Algeria. The majority of the population of Algeria are Arabs (75% to 85% of the population). Berbers who make up 15% to 20% of the population are divided into many groups with varying languages. The largest of these are the Kabyles, who live in the Kabylie region east of Algiers, the Chaoui of"
          ],
          [
           "During the colonial period, there was a large (10% in 1960) European population who became known as Pied-Noirs. They were primarily of French, Spanish and Italian origin. Almost all of this population left during the war of independence or immediately after its end.\n\nLanguages"
          ],
          [
           "Languages\n\nModern Standard Arabic and Berber are the official languages. Algerian Arabic (Darja) is the language used by the majority of the population. Colloquial Algerian Arabic has some Berber loanwords which represent 8% to 9% of its vocabulary."
          ],
          [
           "the Kabylie region east of Algiers, the Chaoui of Northeast Algeria, the Tuaregs in the southern desert and the Shenwa people of North Algeria."
          ],
          [
           "The financial support provided by the state, through the Fund for the Development of the Arts, Techniques and the Film Industry (FDATIC) and the Algerian Agency for Cultural Influence (AARC), plays a key role in the promotion of national production. Between 2007 and 2013, FDATIC subsidised 98 films (feature films, documentaries and short films). In mid-2013, AARC had already supported a total of"
          ],
          [
           "According to the European Audiovisual Observatory's LUMIERE database, 41 Algerian films were distributed in Europe between 1996 and 2013; 21 films in this repertoire were Algerian-French co-productions. Days of Glory (2006) and Outside the Law (2010) recorded the highest number of admissions in the European Union, 3,172,612 and 474,722, respectively."
          ],
          [
           "Dwan has a star on the Hollywood Walk of Fame at 6263 Hollywood Boulevard.\n\nDaniel Eagan of Film Journal International described Dwan as one of the early pioneers of cinema, stating that his style \"is so basic as to seem invisible, but he treats his characters with uncommon sympathy and compassion.\"\n\nPartial filmography as director"
          ],
          [
           "The Restless Spirit (1913)\nBack to Life (1913)\nBloodhounds of the North (1913)\nThe Lie (1914)\nThe Honor of the Mounted (1914)\n The Unwelcome Mrs. Hatch (1914)\nRemember Mary Magdalen (1914)\nDiscord and Harmony (1914)\nThe Embezzler (1914)\nThe Lamb, the Woman, the Wolf (1914)\nThe End of the Feud (1914)\nThe Test (1914) (*writer)\nThe Tragedy of Whispering Creek (1914)\nThe Unlawful Trade (1914)"
          ],
          [
           "The Unlawful Trade (1914)\nThe Forbidden Room (1914)\nThe Hopes of Blind Alley (1914)\nRichelieu (1914)\n Wildflower (1914)\nA Small Town Girl (1915)\nDavid Harum (1915)\nA Girl of Yesterday (1915)\nThe Pretty Sister of Jose (1915)\n Jordan Is a Hard Road (1915)\nThe Habit of Happiness (1916)\nThe Good Bad Man (1916)\nAn Innocent Magdalene (1916)\nThe Half-Breed (1916)\nManhattan Madness (1916)"
          ],
          [
           "Summer Bachelors (1926)\nTin Gods (1926)\nFrench Dressing (1927)\nThe Joy Girl (1927)"
          ],
          [
           "The Forbidden Thing (1920) also producer\nA Splendid Hazard (1920)\nA Perfect Crime (1921)\n The Sin of Martha Queed (1921)\n A Broken Doll (1921)\nRobin Hood (1922)\nZaza (1923)\nBig Brother (1923)\nManhandled (1924)\nArgentine Love (1924)\nThe Coast of Folly (1925)\nNight Life of New York (1925)\nStage Struck (1925)\nPadlocked (1926)\nSea Horses (1926)\nSummer Bachelors (1926)\nTin Gods (1926)"
          ],
          [
           "The Half-Breed (1916)\nManhattan Madness (1916)\nAccusing Evidence (1916)\nPanthea (1917)\nA Modern Musketeer (1917)\nBound in Morocco (1918)\nHeadin' South (1918)\nMr. Fix-It (1918)\nHe Comes Up Smiling (1918)\nCheating Cheaters (1919)\nThe Dark Star (1919)\nGetting Mary Married (1919)\nSoldiers of Fortune (1919)\nIn The Heart of a Fool (1920) also producer\nThe Forbidden Thing (1920) also producer"
          ],
          [
           "short, also featuring Thomas Meighan and Henri de la Falaise, was produced as a joke, for the April 26, 1925 \"Lambs' Gambol\" for The Lambs, with the film showing Swanson crashing the all-male club."
          ],
          [
           "Following the introduction of the talkies, Dwan directed child-star Shirley Temple in Heidi (1937) and Rebecca of Sunnybrook Farm (1938)."
          ],
          [
           "Dwan helped launch the career of two other successful Hollywood directors, Victor Fleming, who went on to direct The Wizard of Oz and Gone With the Wind, and Marshall Neilan, who became an actor, director, writer and producer. Over a long career spanning almost 50 years, Dwan directed 125 motion pictures, some of which were highly acclaimed, such as the 1949 box office hit, Sands of Iwo Jima. He"
          ],
          [
           "After making a series of westerns and comedies, Dwan directed fellow Canadian-American Mary Pickford in several very successful movies as well as her husband, Douglas Fairbanks, notably in the acclaimed 1922 Robin Hood. Dwan directed Gloria Swanson in eight feature films, and one short film made in the short-lived sound-on-film process Phonofilm. This short, also featuring Thomas Meighan and Henri"
          ],
          [
           "to catering and various niche markets, the most significant being nautical tourism, as there are numerous marinas with more than 16 thousand berths, cultural tourism relying on appeal of medieval coastal cities and numerous cultural events taking place during the summer. Inland areas offer mountain resorts, agrotourism and spas. Zagreb is also a significant tourist destination, rivalling major"
          ],
          [
           "Croatia has unpolluted marine areas reflected through numerous nature reserves and 99 Blue Flag beaches and 28 Blue Flag marinas. Croatia is ranked as the 18th most popular tourist destination in the world. About 15% of these visitors (over one million per year) are involved with naturism, an industry for which Croatia is world-famous. It was also the first European country to develop commercial"
          ],
          [
           "the first European country to develop commercial naturist resorts."
          ],
          [
           "significant tourist destination, rivalling major coastal cities and resorts."
          ],
          [
           "The bulk of the tourist industry is concentrated along the Adriatic Sea coast. Opatija was the first holiday resort since the middle of the 19th century. By the 1890s, it became one of the most significant European health resorts. Later a large number of resorts sprang up along the coast and numerous islands, offering services ranging from mass tourism to catering and various niche markets, the"
          ],
          [
           "the Danube, representing the nation's outlet to the Pan-European transport corridor VII."
          ],
          [
           "Energy"
          ],
          [
           "Croatia has an extensive rail network spanning , including  of electrified railways and  of double track railways. The most significant railways in Croatia are found within the Pan-European transport corridors Vb and X connecting Rijeka to Budapest and Ljubljana to Belgrade, both via Zagreb. All rail services are operated by Croatian Railways."
          ],
          [
           "The busiest cargo seaport in Croatia is the Port of Rijeka and the busiest passenger ports are Split and Zadar. In addition to those, a large number of minor ports serve an extensive system of ferries connecting numerous islands and coastal cities in addition to ferry lines to several cities in Italy. The largest river port is Vukovar, located on the Danube, representing the nation's outlet to"
          ],
          [
           "There are international airports in Zagreb, Zadar, Split, Dubrovnik, Rijeka, Osijek and Pula. As of January 2011, Croatia complies with International Civil Aviation Organization aviation safety standards and the Federal Aviation Administration upgraded it to Category 1 rating."
          ],
          [
           "On 1 and 11 April 1895, the main rebel leaders landed on two expeditions in Oriente: Major Antonio Maceo and 22 members near Baracoa and Martí, Máximo Gómez and four other members in Playitas. Around that time, Spanish forces in Cuba numbered about 80,000, including 60,000 Spanish and Cuban volunteers. The latter were a locally enlisted force that took care of most of the guard and police duties"
          ],
          [
           "took care of most of the guard and police duties on the island. By December, 98,412 regular troops had been sent to the island and the number of volunteers had increased to 63,000 men. By the end of 1897, there were 240,000 regulars and 60,000 irregulars on the island. The revolutionaries were far outnumbered."
          ],
          [
           "The rebels came to be nicknamed \"Mambis\" after a black Spanish officer, Juan Ethninius Mamby, who joined the Dominicans in the fight for independence in 1846. When the Ten Years' War broke out in 1868, some of the same soldiers were assigned to Cuba, importing what had by then become a derogatory Spanish slur. The Cubans adopted the name with pride."
          ],
          [
           "These changes also entailed the rise of labour movements. The first Cuban labour organization, the Cigar Makers Guild, was created in 1878, followed by the Central Board of Artisans in 1879, and many more across the island. Abroad, a new trend of aggressive American influence emerged. Secretary of State James G. Blaine placed particular importance on the control of Cuba: \"If ever ceasing to be"
          ],
          [
           "on the control of Cuba: \"If ever ceasing to be Spanish, Cuba must necessarily become American and not fall under any other European domination\"."
          ],
          [
           "During the time of the so-called \"Rewarding Truce\", which encompassed the 17 years from the end of the Ten Years' War in 1878, fundamental changes took place in Cuban society. With the abolition of slavery in October 1886, former slaves joined the ranks of farmers and urban working class. Most wealthy Cubans lost their rural properties, and many of them joined the urban middle class. The number"
          ],
          [
           "of them joined the urban middle class. The number of sugar mills dropped and efficiency increased, with only companies and the most powerful plantation owners owning them. The numbers of campesinos and tenant farmers rose considerably. Furthermore, American capital began flowing into Cuba, mostly into the sugar and tobacco businesses and mining. By 1895, these investments totalled $50 million."
          ],
          [
           "By 1895, these investments totalled $50 million. Although Cuba remained Spanish politically, economically it became increasingly dependent on the United States."
          ],
          [
           "Conflicts in the late 19th century (1886–1900)"
          ],
          [
           "Background"
          ]
         ],
         "hovertemplate": "color=Alcoholism<br>x=%{x}<br>y=%{y}<br>metadata=%{customdata[0]}<extra></extra>",
         "legendgroup": "Alcoholism",
         "marker": {
          "color": "#636efa",
          "symbol": "circle",
          "size": 8
         },
         "mode": "markers",
         "name": "Alcoholism",
         "orientation": "v",
         "showlegend": true,
         "x": {
          "dtype": "f4",
          "bdata": "zt2oQO5zqEC5Zp1APkOVQPa1o0AYU6BAG2WkQHPMl0D9kJZAstqcQA=="
         },
         "xaxis": "x",
         "y": {
          "dtype": "f4",
          "bdata": "r4mkQCXhpkCD9rBAREoiQfRTrkAHm6lAsnCmQLBwpUDHI6JAylikQA=="
         },
         "yaxis": "y",
         "type": "scatter"
        },
        {
         "customdata": [
          [
           "benzodiazepines and nonbenzodiazepines. Dependence upon and withdrawal from sedative-hypnotics can be medically severe and, as with alcohol withdrawal, there is a risk of psychosis or seizures if not properly managed."
          ],
          [
           "requires careful reduction in dosage to avoid benzodiazepine withdrawal syndrome and other health consequences. Dependence on other sedative-hypnotics such as zolpidem and zopiclone as well as opiates and illegal drugs is common in alcoholics. Alcohol itself is a sedative-hypnotic and is cross-tolerant with other sedative-hypnotics such as barbiturates, benzodiazepines and nonbenzodiazepines."
          ],
          [
           "Dual addictions and dependencies"
          ],
          [
           "Epidemiology"
          ],
          [
           "or clonazepam. These drugs are, like alcohol, depressants. Benzodiazepines may be used legally, if they are prescribed by doctors for anxiety problems or other mood disorders, or they may be purchased as illegal drugs. Benzodiazepine use increases cravings for alcohol and the volume of alcohol consumed by problem drinkers. Benzodiazepine dependency requires careful reduction in dosage to avoid"
          ],
          [
           "Alcoholics may also require treatment for other psychotropic drug addictions and drug dependencies. The most common dual dependence syndrome with alcohol dependence is benzodiazepine dependence, with studies showing 10–20% of alcohol-dependent individuals had problems of dependence and/or misuse problems of benzodiazepine drugs such as diazepam or clonazepam. These drugs are, like alcohol,"
          ],
          [
           "Alcohol withdrawal"
          ],
          [
           "Serious social problems arise from alcohol use disorder; these dilemmas are caused by the pathological changes in the brain and the intoxicating effects of alcohol. Alcohol misuse is associated with an increased risk of committing criminal offences, including child abuse, domestic violence, rape, burglary and assault. Alcoholism is associated with loss of employment, which can lead to financial"
          ],
          [
           "with alcohol use disorders can develop a number of emotional problems. For example, they can become afraid of their parents, because of their unstable mood behaviors. They may develop shame over their inadequacy to liberate their parents from alcoholism and, as a result of this, may develop self-image problems, which can lead to depression."
          ],
          [
           "loss of employment, which can lead to financial problems. Drinking at inappropriate times and behavior caused by reduced judgment can lead to legal consequences, such as criminal charges for drunk driving or public disorder, or civil penalties for tortious behavior. An alcoholic's behavior and mental impairment while drunk can profoundly affect those surrounding him and lead to isolation from"
          ],
          [
           "Former Misery ( )\nFuture Blessing ( )\nDivine Announcement: Zerubbabel Chosen as a Signet  ( )"
          ],
          [
           "Divine Announcement: The Command to Rebuild the Temple  ( )\nIntroduction: Reluctant Rebuilders  ( )\nConsider your ways: fruitless prosperity ( )\nPromise and Progress  ( )\nDivine Announcement: The Coming Glory of the Temple  ( )\nGod will fulfill his promise ( ) \nFuture Splendor of the temple ( )\nDivine Announcement: Blessings for a Defiled People  ( )\nFormer Misery ( )\nFuture Blessing ( )"
          ],
          [
           "Notes\n\nReferences\n\nWorks cited\n\nExternal links \n\nJewish translations:\n Chaggai – Haggai (Judaica Press) translation with Rashi's commentary at Chabad.org\nChristian translations:\nOnline Bible at GospelHall.org (ESV, KJV, Darby, American Standard Version, Bible in Basic English)\n  Various versions\n\n \n6th-century BC books\nTwelve Minor Prophets"
          ],
          [
           "Outline"
          ],
          [
           "Music \nThe King James Version of Haggai 2:6–7 is used in the libretto of the English-language oratorio \"Messiah\" by George Frideric Handel (HWV 56).\n\nSee also \nDarius I\nJoshua the High Priest , son of Jehozadak\nOld Testament messianic prophecies quoted in the New Testament\n\nNotes\n\nReferences\n\nWorks cited\n\nExternal links"
          ],
          [
           "75–50 BCE); and Wadi Murabba'at Minor Prophets (Mur88; MurXIIProph; 75-100 CE)."
          ],
          [
           "text is uncertain but most likely dates to within a generation of Haggai himself. Traditional consensus dates the completion of the text to c. 515 BC. Other scholars consider the book to be completed around 417 BC, as it did not refer to Darius I, but to Darius II (424-405 BC)."
          ],
          [
           "Date"
          ],
          [
           "The Book of Haggai records events in 520 BC, some 18 years after Cyrus had conquered Babylon and issued a decree in 538 BC, allowing the captive Judahites to return to Judea. Cyrus saw the restoration of the temple as necessary for the restoration of religious practices and a sense of peoplehood, after the long exile. The precise date of the written text is uncertain but most likely dates to"
          ],
          [
           "Some early manuscripts containing the text of this book in Biblical Hebrew are of the Masoretic Text, which includes the Codex Cairensis (895), the Petersburg Codex of the Prophets (916), and Codex Leningradensis (1008). Fragments of the Hebrew text of this book were found among the Dead Sea Scrolls, including 4Q77 (4QXIIb; 150–125 BCE) 4Q80 (4QXIIe; 75–50 BCE); and Wadi Murabba'at Minor Prophets"
          ],
          [
           "the phenomena of gravitational time dilation, gravitational redshift and gravitational lensing."
          ],
          [
           "In 1911, Einstein published another article \"On the Influence of Gravitation on the Propagation of Light\" expanding on the 1907 article, in which he estimated the amount of deflection of light by massive bodies. Thus, the theoretical prediction of general relativity could for the first time be tested experimentally."
          ],
          [
           "under special relativity. In that article titled \"On the Relativity Principle and the Conclusions Drawn from It\", he argued that free fall is really inertial motion, and that for a free-falling observer the rules of special relativity must apply. This argument is called the equivalence principle. In the same article, Einstein also predicted the phenomena of gravitational time dilation,"
          ],
          [
           "As Einstein later said, the reason for the development of general relativity was that the preference of inertial motions within special relativity was unsatisfactory, while a theory which from the outset prefers no state of motion (even accelerated ones) should appear more satisfactory. Consequently, in 1907 he published an article on acceleration under special relativity. In that article titled"
          ],
          [
           "as they were being denied citizenship elsewhere. In his speech he described Einstein as a \"citizen of the world\" who should be offered a temporary shelter in the UK. Both bills failed, however, and Einstein then accepted an earlier offer from the Institute for Advanced Study, in Princeton, New Jersey, US, to become a resident scholar."
          ],
          [
           "On 3 October 1933, Einstein delivered a speech on the importance of academic freedom before a packed audience at the Royal Albert Hall in London, with The Times reporting he was wildly cheered throughout. Four days later he returned to the US and took up a position at the Institute for Advanced Study, noted for having become a refuge for scientists fleeing Nazi Germany. At the time, most American"
          ],
          [
           "fleeing Nazi Germany. At the time, most American universities, including Harvard, Princeton and Yale, had minimal or no Jewish faculty or students, as a result of their Jewish quotas, which lasted until the late 1940s."
          ],
          [
           "Resident scholar at the Institute for Advanced Study"
          ],
          [
           "Locker-Lampson also submitted a bill to parliament to extend British citizenship to Einstein, during which period Einstein made a number of public appearances describing the crisis brewing in Europe. In one of his speeches he denounced Germany's treatment of Jews, while at the same time he introduced a bill promoting Jewish citizenship in Palestine, as they were being denied citizenship elsewhere."
          ],
          [
           "Einsteinium, one of the synthetic elements in the periodic table, was named in his honor.\n\nPublications\n\nScientific"
          ],
          [
           "In 1520, while attempting to circumnavigate the globe, Ferdinand Magellan discovered the southern passage now named after him (the Strait of Magellan) thus becoming the first European to set foot on what is now Chile. The next Europeans to reach Chile were Diego de Almagro and his band of Spanish conquistadors, who came from Peru in 1535 seeking gold. The Spanish encountered various cultures that"
          ],
          [
           "The Spanish encountered various cultures that supported themselves principally through slash-and-burn agriculture and hunting."
          ],
          [
           "Spanish colonization"
          ],
          [
           "The conquest of Chile began in earnest in 1540 and was carried out by Pedro de Valdivia, one of Francisco Pizarro's lieutenants, who founded the city of Santiago on 12 February 1541. Although the Spanish did not find the extensive gold and silver they sought, they recognized the agricultural potential of Chile's central valley, and Chile became part of the Spanish Empire."
          ],
          [
           "A military junta, led by General Augusto Pinochet, took control of the country. The first years of the regime were marked by human rights violations. Chile actively participated in Operation Condor. In October 1973, at least 72 people were murdered by the Caravan of Death. According to the Rettig Report and Valech Commission, at least 2,115 were killed, and at least 27,265 were tortured (including"
          ],
          [
           "A new Constitution was approved by a controversial plebiscite on 11 September 1980, and General Pinochet became president of the republic for an eight-year term. After Pinochet obtained rule of the country, several hundred committed Chilean revolutionaries joined the Sandinista army in Nicaragua, guerrilla forces in Argentina or training camps in Cuba, Eastern Europe and Northern Africa."
          ],
          [
           "and at least 27,265 were tortured (including 88 children younger than 12 years old). In 2011, Chile recognized an additional 9,800 victims, bringing the total number of killed, tortured or imprisoned for political reasons to 40,018. At the national stadium, filled with detainees, one of those tortured and killed was internationally known poet-singer Víctor Jara (see \"Music and Dance\", below)."
          ],
          [
           "In November 2005 the government launched a campaign under the brand \"Chile: All Ways Surprising\" intended to promote the country internationally for both business and tourism. Museums in Chile such as the Chilean National Museum of Fine Arts built in 1880, feature works by Chilean artists."
          ],
          [
           "Chile is home to the world-renowned Patagonian Trail that resides on the border between Argentina and Chile. Chile recently launched a massive scenic route for tourism in hopes of encouraging development based on conservation. The Route of Parks covers  and was designed by Tompkin Conservation (founders Douglas Tompkins and wife Kristine).\n\nTransport"
          ],
          [
           "access to Concepción and the large project of the Santiago urban highways network, opened between 2004 and 2006. Buses are now the main means of long-distance transportation in Chile, following the decline of its railway network. The bus system covers the entire country, from Arica to Santiago (a 30-hour journey) and from Santiago to Punta Arenas (about 40 hours, with a change at Osorno)."
          ],
          [
           "The Elephant Mountains\n\nChuŏr Phnum Dâmrei - A north-south-trending range of high hills, an extension of the Cardamom/Krâvanh Mountains, in south-eastern Cambodia,  rising to elevations of between 500 and 1,000 meters. Extending  north from the Gulf of Thailand, they reach a high point in the Bok Koŭ ridge at Mount Bokor  near the sea."
          ],
          [
           "The Cardamom Mountains form - including the north-western part of Chanthaburi Province, Thailand, the 'Soi Dao Mountains' - the Cardamom Mountains Moist Forests Ecoregion, that is considered to be one of the most species-rich and intact natural habitats in the region. The climate, size inaccessibility and seclusion of the mountains have allowed a rich variety of wildlife to thrive. The Cardamom"
          ],
          [
           "To the south-west of the Southern mountain ranges extends a narrow coastal plain that contains the Kampong Saom Bay area and the Sihanoukville peninsula, facing the Gulf of Thailand.\n\nNorthern Mountains\n\nThe Dangrek Mountains"
          ],
          [
           "rich variety of wildlife to thrive. The Cardamom and Elephant Mountains remain to be fully researched and documented."
          ],
          [
           "The Cardamom/Krâvanh Mountains"
          ],
          [
           "Occupying Koh Kong Province and Kampong Speu Province, running in a north-western to south-eastern direction and rising to more than . The highest mountain of Cambodia, Phnom Aural, at  is located in Aoral District in Kampong Speu Province."
          ],
          [
           "the absence of strict administrative control and indifference in law enforcement - not only in Cambodia but the entire region."
          ],
          [
           "Figures and assessments are numerous as are available sources.  as seen in numbers below, which provide a wide range for interpretation. About  (1%) of forest cover is planted forest. Overall Cambodia’s forests contain an estimated 464 million metric tonnes of carbon stock in living forest biomass. Approximately 40% of Cambodia’s Forests have some level of protection, while one of the Cambodia"
          ],
          [
           "level of protection, while one of the Cambodia Millennium Development Goals targets is to achieve a 60% forest cover by 2015."
          ],
          [
           "Cambodia has one of the highest levels of forest cover in the region as the interdependence of Cambodia’s geography and hydrology makes it rich in natural resources and biological diversity - among the bio-richest countries in Southeast Asia. The Royal Government of Cambodia estimates Cambodia contains approximately 10.36 million hectares of forest cover, representing approximately 57.07% of"
          ],
          [
           "capability, the aircraft received UK certification, and the first customer aircraft was delivered. Despite this success, the additional investment necessary for the final phase of full production was not forthcoming, the business went into receivership, and John Edgley was forced out. With new owners, aircraft on the production line were completed, and the Optica entered service."
          ],
          [
           "The Edgley EA-7 Optica is a British light aircraft designed for low-speed observation work, and intended as a low-cost alternative to helicopters. The Optica has a loiter speed of 130 km/h (70 kn; 81 mph) and a stall speed of 108 km/h (58 kn; 67 mph).\n\nDesign and development"
          ],
          [
           "The Optica project began in 1974 with a company, Edgley Aircraft Limited, formed by John Edgley who, with a small team, designed and built the original prototype. In 1982, institutional investors bought into the project and set up a production line at Old Sarum Airfield in Wiltshire. Over the next three years, the company was built up to full manufacturing capability, the aircraft received UK"
          ],
          [
           "with due diligence, appraisal and further steps to re launch the EA-7 Optica aircraft programme in the 2018–19 timeframe.  IFG planned to develop, market and support the Optica, outsourcing the fabrication and final assembly to an FAA/EASA Part 23 certified OEM. At the end of 2018, IFG modified its initial program re-launch efforts whilst, again, identifying and selecting a suitable OEM strategic"
          ],
          [
           "of intent, remains active in the search for strategic partners to"
          ],
          [
           "The Optica and the Sprint together then passed through other owners until, in 2007, they were offered to John Edgley who formed a new company, AeroElvira Limited, with three former employees of Edgley Aircraft (Chris Burleigh, Fin Colson and Dave Lee) who at that time were working on both projects for the then-owners.  The new company successfully put G-BOPO back into service as a UK demonstrator,"
          ],
          [
           "G-BOPO back into service as a UK demonstrator, with a first return-to-service flight on 3 June 2008. In August 2016 Interflight Global (IFG) announced plans to start a valuation of the dormant Optica programme with a view to relaunching production.  In December 2016, IFG completed its valuation and in June 2017, delivered an LOI to AeroElvira to continue with due diligence, appraisal and further"
          ],
          [
           "and selecting a suitable OEM strategic partner to update the Optica TC and to bring the aircraft into production. As of the end of 2019, IFG continues to seek for a strategic OEM partner to re-launch the program aligned with optionally piloted and powered by electric or hybrid electric powerplants. As of 2022, IFG, in a post COVID 19 Pandemic re assessment of intent, remains active in the search"
          ],
          [
           "1980s British special-purpose aircraft\nEdgley aircraft\nDucted fan-powered aircraft\nMid-wing aircraft\nAircraft first flown in 1979\nSingle-engined pusher aircraft"
          ],
          [
           "The Optica went through several changes of ownership, until FLS Aerospace (Lovaux Ltd) took over the rights, together with the design and manufacturing rights to the Sprint: a two-seat ab-initio trainer that had been designed by Sydney Holloway in Cornwall UK at about the same time as the Optica. Lovaux had intended to develop both aircraft, with the Sprint intended as the military trainer for the"
          ],
          [
           "Cinema\n\nThe Algerian state's interest in film-industry activities can be seen in the annual budget of DZD 200 million (EUR 1.3 million) allocated to production, specific measures and an ambitious programme plan implemented by the Ministry of Culture in order to promote national production, renovate the cinema stock and remedy the weak links in distribution and exploitation."
          ],
          [
           "singer. Other Algerian singers of the diaspora include Manel Filali in Germany and Kenza Farah in France. Tergui music is sung in Tuareg languages generally, Tinariwen had a worldwide success. Finally, the staïfi music is born in Sétif and remains a unique style of its kind."
          ],
          [
           "Modern music is available in several facets, Raï music is a style typical of western Algeria. Rap, a relatively recent style in Algeria, is experiencing significant growth.\n\nCinema"
          ],
          [
           "Folk music styles include Bedouin music, characterized by the poetic songs based on long kacida (poems); Kabyle music, based on a rich repertoire that is poetry and old tales passed through generations; Shawiya music, a folklore from diverse areas of the Aurès Mountains. Rahaba music style is unique to the Aures. Souad Massi is a rising Algerian folk singer. Other Algerian singers of the diaspora"
          ],
          [
           "Centuries of Arab migration to the Maghreb since the 7th century shifted the demographic scope in Algeria. The majority of the population of Algeria are Arabs (75% to 85% of the population). Berbers who make up 15% to 20% of the population are divided into many groups with varying languages. The largest of these are the Kabyles, who live in the Kabylie region east of Algiers, the Chaoui of"
          ],
          [
           "During the colonial period, there was a large (10% in 1960) European population who became known as Pied-Noirs. They were primarily of French, Spanish and Italian origin. Almost all of this population left during the war of independence or immediately after its end.\n\nLanguages"
          ],
          [
           "Languages\n\nModern Standard Arabic and Berber are the official languages. Algerian Arabic (Darja) is the language used by the majority of the population. Colloquial Algerian Arabic has some Berber loanwords which represent 8% to 9% of its vocabulary."
          ],
          [
           "the Kabylie region east of Algiers, the Chaoui of Northeast Algeria, the Tuaregs in the southern desert and the Shenwa people of North Algeria."
          ],
          [
           "The financial support provided by the state, through the Fund for the Development of the Arts, Techniques and the Film Industry (FDATIC) and the Algerian Agency for Cultural Influence (AARC), plays a key role in the promotion of national production. Between 2007 and 2013, FDATIC subsidised 98 films (feature films, documentaries and short films). In mid-2013, AARC had already supported a total of"
          ],
          [
           "According to the European Audiovisual Observatory's LUMIERE database, 41 Algerian films were distributed in Europe between 1996 and 2013; 21 films in this repertoire were Algerian-French co-productions. Days of Glory (2006) and Outside the Law (2010) recorded the highest number of admissions in the European Union, 3,172,612 and 474,722, respectively."
          ],
          [
           "Dwan has a star on the Hollywood Walk of Fame at 6263 Hollywood Boulevard.\n\nDaniel Eagan of Film Journal International described Dwan as one of the early pioneers of cinema, stating that his style \"is so basic as to seem invisible, but he treats his characters with uncommon sympathy and compassion.\"\n\nPartial filmography as director"
          ],
          [
           "The Restless Spirit (1913)\nBack to Life (1913)\nBloodhounds of the North (1913)\nThe Lie (1914)\nThe Honor of the Mounted (1914)\n The Unwelcome Mrs. Hatch (1914)\nRemember Mary Magdalen (1914)\nDiscord and Harmony (1914)\nThe Embezzler (1914)\nThe Lamb, the Woman, the Wolf (1914)\nThe End of the Feud (1914)\nThe Test (1914) (*writer)\nThe Tragedy of Whispering Creek (1914)\nThe Unlawful Trade (1914)"
          ],
          [
           "The Unlawful Trade (1914)\nThe Forbidden Room (1914)\nThe Hopes of Blind Alley (1914)\nRichelieu (1914)\n Wildflower (1914)\nA Small Town Girl (1915)\nDavid Harum (1915)\nA Girl of Yesterday (1915)\nThe Pretty Sister of Jose (1915)\n Jordan Is a Hard Road (1915)\nThe Habit of Happiness (1916)\nThe Good Bad Man (1916)\nAn Innocent Magdalene (1916)\nThe Half-Breed (1916)\nManhattan Madness (1916)"
          ],
          [
           "Summer Bachelors (1926)\nTin Gods (1926)\nFrench Dressing (1927)\nThe Joy Girl (1927)"
          ],
          [
           "The Forbidden Thing (1920) also producer\nA Splendid Hazard (1920)\nA Perfect Crime (1921)\n The Sin of Martha Queed (1921)\n A Broken Doll (1921)\nRobin Hood (1922)\nZaza (1923)\nBig Brother (1923)\nManhandled (1924)\nArgentine Love (1924)\nThe Coast of Folly (1925)\nNight Life of New York (1925)\nStage Struck (1925)\nPadlocked (1926)\nSea Horses (1926)\nSummer Bachelors (1926)\nTin Gods (1926)"
          ],
          [
           "The Half-Breed (1916)\nManhattan Madness (1916)\nAccusing Evidence (1916)\nPanthea (1917)\nA Modern Musketeer (1917)\nBound in Morocco (1918)\nHeadin' South (1918)\nMr. Fix-It (1918)\nHe Comes Up Smiling (1918)\nCheating Cheaters (1919)\nThe Dark Star (1919)\nGetting Mary Married (1919)\nSoldiers of Fortune (1919)\nIn The Heart of a Fool (1920) also producer\nThe Forbidden Thing (1920) also producer"
          ],
          [
           "short, also featuring Thomas Meighan and Henri de la Falaise, was produced as a joke, for the April 26, 1925 \"Lambs' Gambol\" for The Lambs, with the film showing Swanson crashing the all-male club."
          ],
          [
           "Following the introduction of the talkies, Dwan directed child-star Shirley Temple in Heidi (1937) and Rebecca of Sunnybrook Farm (1938)."
          ],
          [
           "Dwan helped launch the career of two other successful Hollywood directors, Victor Fleming, who went on to direct The Wizard of Oz and Gone With the Wind, and Marshall Neilan, who became an actor, director, writer and producer. Over a long career spanning almost 50 years, Dwan directed 125 motion pictures, some of which were highly acclaimed, such as the 1949 box office hit, Sands of Iwo Jima. He"
          ],
          [
           "After making a series of westerns and comedies, Dwan directed fellow Canadian-American Mary Pickford in several very successful movies as well as her husband, Douglas Fairbanks, notably in the acclaimed 1922 Robin Hood. Dwan directed Gloria Swanson in eight feature films, and one short film made in the short-lived sound-on-film process Phonofilm. This short, also featuring Thomas Meighan and Henri"
          ],
          [
           "to catering and various niche markets, the most significant being nautical tourism, as there are numerous marinas with more than 16 thousand berths, cultural tourism relying on appeal of medieval coastal cities and numerous cultural events taking place during the summer. Inland areas offer mountain resorts, agrotourism and spas. Zagreb is also a significant tourist destination, rivalling major"
          ],
          [
           "Croatia has unpolluted marine areas reflected through numerous nature reserves and 99 Blue Flag beaches and 28 Blue Flag marinas. Croatia is ranked as the 18th most popular tourist destination in the world. About 15% of these visitors (over one million per year) are involved with naturism, an industry for which Croatia is world-famous. It was also the first European country to develop commercial"
          ],
          [
           "the first European country to develop commercial naturist resorts."
          ],
          [
           "significant tourist destination, rivalling major coastal cities and resorts."
          ],
          [
           "The bulk of the tourist industry is concentrated along the Adriatic Sea coast. Opatija was the first holiday resort since the middle of the 19th century. By the 1890s, it became one of the most significant European health resorts. Later a large number of resorts sprang up along the coast and numerous islands, offering services ranging from mass tourism to catering and various niche markets, the"
          ],
          [
           "the Danube, representing the nation's outlet to the Pan-European transport corridor VII."
          ],
          [
           "Energy"
          ],
          [
           "Croatia has an extensive rail network spanning , including  of electrified railways and  of double track railways. The most significant railways in Croatia are found within the Pan-European transport corridors Vb and X connecting Rijeka to Budapest and Ljubljana to Belgrade, both via Zagreb. All rail services are operated by Croatian Railways."
          ],
          [
           "The busiest cargo seaport in Croatia is the Port of Rijeka and the busiest passenger ports are Split and Zadar. In addition to those, a large number of minor ports serve an extensive system of ferries connecting numerous islands and coastal cities in addition to ferry lines to several cities in Italy. The largest river port is Vukovar, located on the Danube, representing the nation's outlet to"
          ],
          [
           "There are international airports in Zagreb, Zadar, Split, Dubrovnik, Rijeka, Osijek and Pula. As of January 2011, Croatia complies with International Civil Aviation Organization aviation safety standards and the Federal Aviation Administration upgraded it to Category 1 rating."
          ],
          [
           "On 1 and 11 April 1895, the main rebel leaders landed on two expeditions in Oriente: Major Antonio Maceo and 22 members near Baracoa and Martí, Máximo Gómez and four other members in Playitas. Around that time, Spanish forces in Cuba numbered about 80,000, including 60,000 Spanish and Cuban volunteers. The latter were a locally enlisted force that took care of most of the guard and police duties"
          ],
          [
           "took care of most of the guard and police duties on the island. By December, 98,412 regular troops had been sent to the island and the number of volunteers had increased to 63,000 men. By the end of 1897, there were 240,000 regulars and 60,000 irregulars on the island. The revolutionaries were far outnumbered."
          ],
          [
           "The rebels came to be nicknamed \"Mambis\" after a black Spanish officer, Juan Ethninius Mamby, who joined the Dominicans in the fight for independence in 1846. When the Ten Years' War broke out in 1868, some of the same soldiers were assigned to Cuba, importing what had by then become a derogatory Spanish slur. The Cubans adopted the name with pride."
          ],
          [
           "These changes also entailed the rise of labour movements. The first Cuban labour organization, the Cigar Makers Guild, was created in 1878, followed by the Central Board of Artisans in 1879, and many more across the island. Abroad, a new trend of aggressive American influence emerged. Secretary of State James G. Blaine placed particular importance on the control of Cuba: \"If ever ceasing to be"
          ],
          [
           "on the control of Cuba: \"If ever ceasing to be Spanish, Cuba must necessarily become American and not fall under any other European domination\"."
          ],
          [
           "During the time of the so-called \"Rewarding Truce\", which encompassed the 17 years from the end of the Ten Years' War in 1878, fundamental changes took place in Cuban society. With the abolition of slavery in October 1886, former slaves joined the ranks of farmers and urban working class. Most wealthy Cubans lost their rural properties, and many of them joined the urban middle class. The number"
          ],
          [
           "of them joined the urban middle class. The number of sugar mills dropped and efficiency increased, with only companies and the most powerful plantation owners owning them. The numbers of campesinos and tenant farmers rose considerably. Furthermore, American capital began flowing into Cuba, mostly into the sugar and tobacco businesses and mining. By 1895, these investments totalled $50 million."
          ],
          [
           "By 1895, these investments totalled $50 million. Although Cuba remained Spanish politically, economically it became increasingly dependent on the United States."
          ],
          [
           "Conflicts in the late 19th century (1886–1900)"
          ],
          [
           "Background"
          ]
         ],
         "hovertemplate": "color=Book of Haggai<br>x=%{x}<br>y=%{y}<br>metadata=%{customdata[0]}<extra></extra>",
         "legendgroup": "Book of Haggai",
         "marker": {
          "color": "#EF553B",
          "symbol": "circle",
          "size": 8
         },
         "mode": "markers",
         "name": "Book of Haggai",
         "orientation": "v",
         "showlegend": true,
         "x": {
          "dtype": "f4",
          "bdata": "sbSvQBihskAdpbVAW6iTQL7utkCYl6tAiFeyQOa1iUBC7bpAaQG4QA=="
         },
         "xaxis": "x",
         "y": {
          "dtype": "f4",
          "bdata": "FTLgQPze3kDggOxAZHgZQeM45kBgsu1A5djvQGpxFUFOqetAZy7pQA=="
         },
         "yaxis": "y",
         "type": "scatter"
        },
        {
         "customdata": [
          [
           "benzodiazepines and nonbenzodiazepines. Dependence upon and withdrawal from sedative-hypnotics can be medically severe and, as with alcohol withdrawal, there is a risk of psychosis or seizures if not properly managed."
          ],
          [
           "requires careful reduction in dosage to avoid benzodiazepine withdrawal syndrome and other health consequences. Dependence on other sedative-hypnotics such as zolpidem and zopiclone as well as opiates and illegal drugs is common in alcoholics. Alcohol itself is a sedative-hypnotic and is cross-tolerant with other sedative-hypnotics such as barbiturates, benzodiazepines and nonbenzodiazepines."
          ],
          [
           "Dual addictions and dependencies"
          ],
          [
           "Epidemiology"
          ],
          [
           "or clonazepam. These drugs are, like alcohol, depressants. Benzodiazepines may be used legally, if they are prescribed by doctors for anxiety problems or other mood disorders, or they may be purchased as illegal drugs. Benzodiazepine use increases cravings for alcohol and the volume of alcohol consumed by problem drinkers. Benzodiazepine dependency requires careful reduction in dosage to avoid"
          ],
          [
           "Alcoholics may also require treatment for other psychotropic drug addictions and drug dependencies. The most common dual dependence syndrome with alcohol dependence is benzodiazepine dependence, with studies showing 10–20% of alcohol-dependent individuals had problems of dependence and/or misuse problems of benzodiazepine drugs such as diazepam or clonazepam. These drugs are, like alcohol,"
          ],
          [
           "Alcohol withdrawal"
          ],
          [
           "Serious social problems arise from alcohol use disorder; these dilemmas are caused by the pathological changes in the brain and the intoxicating effects of alcohol. Alcohol misuse is associated with an increased risk of committing criminal offences, including child abuse, domestic violence, rape, burglary and assault. Alcoholism is associated with loss of employment, which can lead to financial"
          ],
          [
           "with alcohol use disorders can develop a number of emotional problems. For example, they can become afraid of their parents, because of their unstable mood behaviors. They may develop shame over their inadequacy to liberate their parents from alcoholism and, as a result of this, may develop self-image problems, which can lead to depression."
          ],
          [
           "loss of employment, which can lead to financial problems. Drinking at inappropriate times and behavior caused by reduced judgment can lead to legal consequences, such as criminal charges for drunk driving or public disorder, or civil penalties for tortious behavior. An alcoholic's behavior and mental impairment while drunk can profoundly affect those surrounding him and lead to isolation from"
          ],
          [
           "Former Misery ( )\nFuture Blessing ( )\nDivine Announcement: Zerubbabel Chosen as a Signet  ( )"
          ],
          [
           "Divine Announcement: The Command to Rebuild the Temple  ( )\nIntroduction: Reluctant Rebuilders  ( )\nConsider your ways: fruitless prosperity ( )\nPromise and Progress  ( )\nDivine Announcement: The Coming Glory of the Temple  ( )\nGod will fulfill his promise ( ) \nFuture Splendor of the temple ( )\nDivine Announcement: Blessings for a Defiled People  ( )\nFormer Misery ( )\nFuture Blessing ( )"
          ],
          [
           "Notes\n\nReferences\n\nWorks cited\n\nExternal links \n\nJewish translations:\n Chaggai – Haggai (Judaica Press) translation with Rashi's commentary at Chabad.org\nChristian translations:\nOnline Bible at GospelHall.org (ESV, KJV, Darby, American Standard Version, Bible in Basic English)\n  Various versions\n\n \n6th-century BC books\nTwelve Minor Prophets"
          ],
          [
           "Outline"
          ],
          [
           "Music \nThe King James Version of Haggai 2:6–7 is used in the libretto of the English-language oratorio \"Messiah\" by George Frideric Handel (HWV 56).\n\nSee also \nDarius I\nJoshua the High Priest , son of Jehozadak\nOld Testament messianic prophecies quoted in the New Testament\n\nNotes\n\nReferences\n\nWorks cited\n\nExternal links"
          ],
          [
           "75–50 BCE); and Wadi Murabba'at Minor Prophets (Mur88; MurXIIProph; 75-100 CE)."
          ],
          [
           "text is uncertain but most likely dates to within a generation of Haggai himself. Traditional consensus dates the completion of the text to c. 515 BC. Other scholars consider the book to be completed around 417 BC, as it did not refer to Darius I, but to Darius II (424-405 BC)."
          ],
          [
           "Date"
          ],
          [
           "The Book of Haggai records events in 520 BC, some 18 years after Cyrus had conquered Babylon and issued a decree in 538 BC, allowing the captive Judahites to return to Judea. Cyrus saw the restoration of the temple as necessary for the restoration of religious practices and a sense of peoplehood, after the long exile. The precise date of the written text is uncertain but most likely dates to"
          ],
          [
           "Some early manuscripts containing the text of this book in Biblical Hebrew are of the Masoretic Text, which includes the Codex Cairensis (895), the Petersburg Codex of the Prophets (916), and Codex Leningradensis (1008). Fragments of the Hebrew text of this book were found among the Dead Sea Scrolls, including 4Q77 (4QXIIb; 150–125 BCE) 4Q80 (4QXIIe; 75–50 BCE); and Wadi Murabba'at Minor Prophets"
          ],
          [
           "the phenomena of gravitational time dilation, gravitational redshift and gravitational lensing."
          ],
          [
           "In 1911, Einstein published another article \"On the Influence of Gravitation on the Propagation of Light\" expanding on the 1907 article, in which he estimated the amount of deflection of light by massive bodies. Thus, the theoretical prediction of general relativity could for the first time be tested experimentally."
          ],
          [
           "under special relativity. In that article titled \"On the Relativity Principle and the Conclusions Drawn from It\", he argued that free fall is really inertial motion, and that for a free-falling observer the rules of special relativity must apply. This argument is called the equivalence principle. In the same article, Einstein also predicted the phenomena of gravitational time dilation,"
          ],
          [
           "As Einstein later said, the reason for the development of general relativity was that the preference of inertial motions within special relativity was unsatisfactory, while a theory which from the outset prefers no state of motion (even accelerated ones) should appear more satisfactory. Consequently, in 1907 he published an article on acceleration under special relativity. In that article titled"
          ],
          [
           "as they were being denied citizenship elsewhere. In his speech he described Einstein as a \"citizen of the world\" who should be offered a temporary shelter in the UK. Both bills failed, however, and Einstein then accepted an earlier offer from the Institute for Advanced Study, in Princeton, New Jersey, US, to become a resident scholar."
          ],
          [
           "On 3 October 1933, Einstein delivered a speech on the importance of academic freedom before a packed audience at the Royal Albert Hall in London, with The Times reporting he was wildly cheered throughout. Four days later he returned to the US and took up a position at the Institute for Advanced Study, noted for having become a refuge for scientists fleeing Nazi Germany. At the time, most American"
          ],
          [
           "fleeing Nazi Germany. At the time, most American universities, including Harvard, Princeton and Yale, had minimal or no Jewish faculty or students, as a result of their Jewish quotas, which lasted until the late 1940s."
          ],
          [
           "Resident scholar at the Institute for Advanced Study"
          ],
          [
           "Locker-Lampson also submitted a bill to parliament to extend British citizenship to Einstein, during which period Einstein made a number of public appearances describing the crisis brewing in Europe. In one of his speeches he denounced Germany's treatment of Jews, while at the same time he introduced a bill promoting Jewish citizenship in Palestine, as they were being denied citizenship elsewhere."
          ],
          [
           "Einsteinium, one of the synthetic elements in the periodic table, was named in his honor.\n\nPublications\n\nScientific"
          ],
          [
           "In 1520, while attempting to circumnavigate the globe, Ferdinand Magellan discovered the southern passage now named after him (the Strait of Magellan) thus becoming the first European to set foot on what is now Chile. The next Europeans to reach Chile were Diego de Almagro and his band of Spanish conquistadors, who came from Peru in 1535 seeking gold. The Spanish encountered various cultures that"
          ],
          [
           "The Spanish encountered various cultures that supported themselves principally through slash-and-burn agriculture and hunting."
          ],
          [
           "Spanish colonization"
          ],
          [
           "The conquest of Chile began in earnest in 1540 and was carried out by Pedro de Valdivia, one of Francisco Pizarro's lieutenants, who founded the city of Santiago on 12 February 1541. Although the Spanish did not find the extensive gold and silver they sought, they recognized the agricultural potential of Chile's central valley, and Chile became part of the Spanish Empire."
          ],
          [
           "A military junta, led by General Augusto Pinochet, took control of the country. The first years of the regime were marked by human rights violations. Chile actively participated in Operation Condor. In October 1973, at least 72 people were murdered by the Caravan of Death. According to the Rettig Report and Valech Commission, at least 2,115 were killed, and at least 27,265 were tortured (including"
          ],
          [
           "A new Constitution was approved by a controversial plebiscite on 11 September 1980, and General Pinochet became president of the republic for an eight-year term. After Pinochet obtained rule of the country, several hundred committed Chilean revolutionaries joined the Sandinista army in Nicaragua, guerrilla forces in Argentina or training camps in Cuba, Eastern Europe and Northern Africa."
          ],
          [
           "and at least 27,265 were tortured (including 88 children younger than 12 years old). In 2011, Chile recognized an additional 9,800 victims, bringing the total number of killed, tortured or imprisoned for political reasons to 40,018. At the national stadium, filled with detainees, one of those tortured and killed was internationally known poet-singer Víctor Jara (see \"Music and Dance\", below)."
          ],
          [
           "In November 2005 the government launched a campaign under the brand \"Chile: All Ways Surprising\" intended to promote the country internationally for both business and tourism. Museums in Chile such as the Chilean National Museum of Fine Arts built in 1880, feature works by Chilean artists."
          ],
          [
           "Chile is home to the world-renowned Patagonian Trail that resides on the border between Argentina and Chile. Chile recently launched a massive scenic route for tourism in hopes of encouraging development based on conservation. The Route of Parks covers  and was designed by Tompkin Conservation (founders Douglas Tompkins and wife Kristine).\n\nTransport"
          ],
          [
           "access to Concepción and the large project of the Santiago urban highways network, opened between 2004 and 2006. Buses are now the main means of long-distance transportation in Chile, following the decline of its railway network. The bus system covers the entire country, from Arica to Santiago (a 30-hour journey) and from Santiago to Punta Arenas (about 40 hours, with a change at Osorno)."
          ],
          [
           "The Elephant Mountains\n\nChuŏr Phnum Dâmrei - A north-south-trending range of high hills, an extension of the Cardamom/Krâvanh Mountains, in south-eastern Cambodia,  rising to elevations of between 500 and 1,000 meters. Extending  north from the Gulf of Thailand, they reach a high point in the Bok Koŭ ridge at Mount Bokor  near the sea."
          ],
          [
           "The Cardamom Mountains form - including the north-western part of Chanthaburi Province, Thailand, the 'Soi Dao Mountains' - the Cardamom Mountains Moist Forests Ecoregion, that is considered to be one of the most species-rich and intact natural habitats in the region. The climate, size inaccessibility and seclusion of the mountains have allowed a rich variety of wildlife to thrive. The Cardamom"
          ],
          [
           "To the south-west of the Southern mountain ranges extends a narrow coastal plain that contains the Kampong Saom Bay area and the Sihanoukville peninsula, facing the Gulf of Thailand.\n\nNorthern Mountains\n\nThe Dangrek Mountains"
          ],
          [
           "rich variety of wildlife to thrive. The Cardamom and Elephant Mountains remain to be fully researched and documented."
          ],
          [
           "The Cardamom/Krâvanh Mountains"
          ],
          [
           "Occupying Koh Kong Province and Kampong Speu Province, running in a north-western to south-eastern direction and rising to more than . The highest mountain of Cambodia, Phnom Aural, at  is located in Aoral District in Kampong Speu Province."
          ],
          [
           "the absence of strict administrative control and indifference in law enforcement - not only in Cambodia but the entire region."
          ],
          [
           "Figures and assessments are numerous as are available sources.  as seen in numbers below, which provide a wide range for interpretation. About  (1%) of forest cover is planted forest. Overall Cambodia’s forests contain an estimated 464 million metric tonnes of carbon stock in living forest biomass. Approximately 40% of Cambodia’s Forests have some level of protection, while one of the Cambodia"
          ],
          [
           "level of protection, while one of the Cambodia Millennium Development Goals targets is to achieve a 60% forest cover by 2015."
          ],
          [
           "Cambodia has one of the highest levels of forest cover in the region as the interdependence of Cambodia’s geography and hydrology makes it rich in natural resources and biological diversity - among the bio-richest countries in Southeast Asia. The Royal Government of Cambodia estimates Cambodia contains approximately 10.36 million hectares of forest cover, representing approximately 57.07% of"
          ],
          [
           "capability, the aircraft received UK certification, and the first customer aircraft was delivered. Despite this success, the additional investment necessary for the final phase of full production was not forthcoming, the business went into receivership, and John Edgley was forced out. With new owners, aircraft on the production line were completed, and the Optica entered service."
          ],
          [
           "The Edgley EA-7 Optica is a British light aircraft designed for low-speed observation work, and intended as a low-cost alternative to helicopters. The Optica has a loiter speed of 130 km/h (70 kn; 81 mph) and a stall speed of 108 km/h (58 kn; 67 mph).\n\nDesign and development"
          ],
          [
           "The Optica project began in 1974 with a company, Edgley Aircraft Limited, formed by John Edgley who, with a small team, designed and built the original prototype. In 1982, institutional investors bought into the project and set up a production line at Old Sarum Airfield in Wiltshire. Over the next three years, the company was built up to full manufacturing capability, the aircraft received UK"
          ],
          [
           "with due diligence, appraisal and further steps to re launch the EA-7 Optica aircraft programme in the 2018–19 timeframe.  IFG planned to develop, market and support the Optica, outsourcing the fabrication and final assembly to an FAA/EASA Part 23 certified OEM. At the end of 2018, IFG modified its initial program re-launch efforts whilst, again, identifying and selecting a suitable OEM strategic"
          ],
          [
           "of intent, remains active in the search for strategic partners to"
          ],
          [
           "The Optica and the Sprint together then passed through other owners until, in 2007, they were offered to John Edgley who formed a new company, AeroElvira Limited, with three former employees of Edgley Aircraft (Chris Burleigh, Fin Colson and Dave Lee) who at that time were working on both projects for the then-owners.  The new company successfully put G-BOPO back into service as a UK demonstrator,"
          ],
          [
           "G-BOPO back into service as a UK demonstrator, with a first return-to-service flight on 3 June 2008. In August 2016 Interflight Global (IFG) announced plans to start a valuation of the dormant Optica programme with a view to relaunching production.  In December 2016, IFG completed its valuation and in June 2017, delivered an LOI to AeroElvira to continue with due diligence, appraisal and further"
          ],
          [
           "and selecting a suitable OEM strategic partner to update the Optica TC and to bring the aircraft into production. As of the end of 2019, IFG continues to seek for a strategic OEM partner to re-launch the program aligned with optionally piloted and powered by electric or hybrid electric powerplants. As of 2022, IFG, in a post COVID 19 Pandemic re assessment of intent, remains active in the search"
          ],
          [
           "1980s British special-purpose aircraft\nEdgley aircraft\nDucted fan-powered aircraft\nMid-wing aircraft\nAircraft first flown in 1979\nSingle-engined pusher aircraft"
          ],
          [
           "The Optica went through several changes of ownership, until FLS Aerospace (Lovaux Ltd) took over the rights, together with the design and manufacturing rights to the Sprint: a two-seat ab-initio trainer that had been designed by Sydney Holloway in Cornwall UK at about the same time as the Optica. Lovaux had intended to develop both aircraft, with the Sprint intended as the military trainer for the"
          ],
          [
           "Cinema\n\nThe Algerian state's interest in film-industry activities can be seen in the annual budget of DZD 200 million (EUR 1.3 million) allocated to production, specific measures and an ambitious programme plan implemented by the Ministry of Culture in order to promote national production, renovate the cinema stock and remedy the weak links in distribution and exploitation."
          ],
          [
           "singer. Other Algerian singers of the diaspora include Manel Filali in Germany and Kenza Farah in France. Tergui music is sung in Tuareg languages generally, Tinariwen had a worldwide success. Finally, the staïfi music is born in Sétif and remains a unique style of its kind."
          ],
          [
           "Modern music is available in several facets, Raï music is a style typical of western Algeria. Rap, a relatively recent style in Algeria, is experiencing significant growth.\n\nCinema"
          ],
          [
           "Folk music styles include Bedouin music, characterized by the poetic songs based on long kacida (poems); Kabyle music, based on a rich repertoire that is poetry and old tales passed through generations; Shawiya music, a folklore from diverse areas of the Aurès Mountains. Rahaba music style is unique to the Aures. Souad Massi is a rising Algerian folk singer. Other Algerian singers of the diaspora"
          ],
          [
           "Centuries of Arab migration to the Maghreb since the 7th century shifted the demographic scope in Algeria. The majority of the population of Algeria are Arabs (75% to 85% of the population). Berbers who make up 15% to 20% of the population are divided into many groups with varying languages. The largest of these are the Kabyles, who live in the Kabylie region east of Algiers, the Chaoui of"
          ],
          [
           "During the colonial period, there was a large (10% in 1960) European population who became known as Pied-Noirs. They were primarily of French, Spanish and Italian origin. Almost all of this population left during the war of independence or immediately after its end.\n\nLanguages"
          ],
          [
           "Languages\n\nModern Standard Arabic and Berber are the official languages. Algerian Arabic (Darja) is the language used by the majority of the population. Colloquial Algerian Arabic has some Berber loanwords which represent 8% to 9% of its vocabulary."
          ],
          [
           "the Kabylie region east of Algiers, the Chaoui of Northeast Algeria, the Tuaregs in the southern desert and the Shenwa people of North Algeria."
          ],
          [
           "The financial support provided by the state, through the Fund for the Development of the Arts, Techniques and the Film Industry (FDATIC) and the Algerian Agency for Cultural Influence (AARC), plays a key role in the promotion of national production. Between 2007 and 2013, FDATIC subsidised 98 films (feature films, documentaries and short films). In mid-2013, AARC had already supported a total of"
          ],
          [
           "According to the European Audiovisual Observatory's LUMIERE database, 41 Algerian films were distributed in Europe between 1996 and 2013; 21 films in this repertoire were Algerian-French co-productions. Days of Glory (2006) and Outside the Law (2010) recorded the highest number of admissions in the European Union, 3,172,612 and 474,722, respectively."
          ],
          [
           "Dwan has a star on the Hollywood Walk of Fame at 6263 Hollywood Boulevard.\n\nDaniel Eagan of Film Journal International described Dwan as one of the early pioneers of cinema, stating that his style \"is so basic as to seem invisible, but he treats his characters with uncommon sympathy and compassion.\"\n\nPartial filmography as director"
          ],
          [
           "The Restless Spirit (1913)\nBack to Life (1913)\nBloodhounds of the North (1913)\nThe Lie (1914)\nThe Honor of the Mounted (1914)\n The Unwelcome Mrs. Hatch (1914)\nRemember Mary Magdalen (1914)\nDiscord and Harmony (1914)\nThe Embezzler (1914)\nThe Lamb, the Woman, the Wolf (1914)\nThe End of the Feud (1914)\nThe Test (1914) (*writer)\nThe Tragedy of Whispering Creek (1914)\nThe Unlawful Trade (1914)"
          ],
          [
           "The Unlawful Trade (1914)\nThe Forbidden Room (1914)\nThe Hopes of Blind Alley (1914)\nRichelieu (1914)\n Wildflower (1914)\nA Small Town Girl (1915)\nDavid Harum (1915)\nA Girl of Yesterday (1915)\nThe Pretty Sister of Jose (1915)\n Jordan Is a Hard Road (1915)\nThe Habit of Happiness (1916)\nThe Good Bad Man (1916)\nAn Innocent Magdalene (1916)\nThe Half-Breed (1916)\nManhattan Madness (1916)"
          ],
          [
           "Summer Bachelors (1926)\nTin Gods (1926)\nFrench Dressing (1927)\nThe Joy Girl (1927)"
          ],
          [
           "The Forbidden Thing (1920) also producer\nA Splendid Hazard (1920)\nA Perfect Crime (1921)\n The Sin of Martha Queed (1921)\n A Broken Doll (1921)\nRobin Hood (1922)\nZaza (1923)\nBig Brother (1923)\nManhandled (1924)\nArgentine Love (1924)\nThe Coast of Folly (1925)\nNight Life of New York (1925)\nStage Struck (1925)\nPadlocked (1926)\nSea Horses (1926)\nSummer Bachelors (1926)\nTin Gods (1926)"
          ],
          [
           "The Half-Breed (1916)\nManhattan Madness (1916)\nAccusing Evidence (1916)\nPanthea (1917)\nA Modern Musketeer (1917)\nBound in Morocco (1918)\nHeadin' South (1918)\nMr. Fix-It (1918)\nHe Comes Up Smiling (1918)\nCheating Cheaters (1919)\nThe Dark Star (1919)\nGetting Mary Married (1919)\nSoldiers of Fortune (1919)\nIn The Heart of a Fool (1920) also producer\nThe Forbidden Thing (1920) also producer"
          ],
          [
           "short, also featuring Thomas Meighan and Henri de la Falaise, was produced as a joke, for the April 26, 1925 \"Lambs' Gambol\" for The Lambs, with the film showing Swanson crashing the all-male club."
          ],
          [
           "Following the introduction of the talkies, Dwan directed child-star Shirley Temple in Heidi (1937) and Rebecca of Sunnybrook Farm (1938)."
          ],
          [
           "Dwan helped launch the career of two other successful Hollywood directors, Victor Fleming, who went on to direct The Wizard of Oz and Gone With the Wind, and Marshall Neilan, who became an actor, director, writer and producer. Over a long career spanning almost 50 years, Dwan directed 125 motion pictures, some of which were highly acclaimed, such as the 1949 box office hit, Sands of Iwo Jima. He"
          ],
          [
           "After making a series of westerns and comedies, Dwan directed fellow Canadian-American Mary Pickford in several very successful movies as well as her husband, Douglas Fairbanks, notably in the acclaimed 1922 Robin Hood. Dwan directed Gloria Swanson in eight feature films, and one short film made in the short-lived sound-on-film process Phonofilm. This short, also featuring Thomas Meighan and Henri"
          ],
          [
           "to catering and various niche markets, the most significant being nautical tourism, as there are numerous marinas with more than 16 thousand berths, cultural tourism relying on appeal of medieval coastal cities and numerous cultural events taking place during the summer. Inland areas offer mountain resorts, agrotourism and spas. Zagreb is also a significant tourist destination, rivalling major"
          ],
          [
           "Croatia has unpolluted marine areas reflected through numerous nature reserves and 99 Blue Flag beaches and 28 Blue Flag marinas. Croatia is ranked as the 18th most popular tourist destination in the world. About 15% of these visitors (over one million per year) are involved with naturism, an industry for which Croatia is world-famous. It was also the first European country to develop commercial"
          ],
          [
           "the first European country to develop commercial naturist resorts."
          ],
          [
           "significant tourist destination, rivalling major coastal cities and resorts."
          ],
          [
           "The bulk of the tourist industry is concentrated along the Adriatic Sea coast. Opatija was the first holiday resort since the middle of the 19th century. By the 1890s, it became one of the most significant European health resorts. Later a large number of resorts sprang up along the coast and numerous islands, offering services ranging from mass tourism to catering and various niche markets, the"
          ],
          [
           "the Danube, representing the nation's outlet to the Pan-European transport corridor VII."
          ],
          [
           "Energy"
          ],
          [
           "Croatia has an extensive rail network spanning , including  of electrified railways and  of double track railways. The most significant railways in Croatia are found within the Pan-European transport corridors Vb and X connecting Rijeka to Budapest and Ljubljana to Belgrade, both via Zagreb. All rail services are operated by Croatian Railways."
          ],
          [
           "The busiest cargo seaport in Croatia is the Port of Rijeka and the busiest passenger ports are Split and Zadar. In addition to those, a large number of minor ports serve an extensive system of ferries connecting numerous islands and coastal cities in addition to ferry lines to several cities in Italy. The largest river port is Vukovar, located on the Danube, representing the nation's outlet to"
          ],
          [
           "There are international airports in Zagreb, Zadar, Split, Dubrovnik, Rijeka, Osijek and Pula. As of January 2011, Croatia complies with International Civil Aviation Organization aviation safety standards and the Federal Aviation Administration upgraded it to Category 1 rating."
          ],
          [
           "On 1 and 11 April 1895, the main rebel leaders landed on two expeditions in Oriente: Major Antonio Maceo and 22 members near Baracoa and Martí, Máximo Gómez and four other members in Playitas. Around that time, Spanish forces in Cuba numbered about 80,000, including 60,000 Spanish and Cuban volunteers. The latter were a locally enlisted force that took care of most of the guard and police duties"
          ],
          [
           "took care of most of the guard and police duties on the island. By December, 98,412 regular troops had been sent to the island and the number of volunteers had increased to 63,000 men. By the end of 1897, there were 240,000 regulars and 60,000 irregulars on the island. The revolutionaries were far outnumbered."
          ],
          [
           "The rebels came to be nicknamed \"Mambis\" after a black Spanish officer, Juan Ethninius Mamby, who joined the Dominicans in the fight for independence in 1846. When the Ten Years' War broke out in 1868, some of the same soldiers were assigned to Cuba, importing what had by then become a derogatory Spanish slur. The Cubans adopted the name with pride."
          ],
          [
           "These changes also entailed the rise of labour movements. The first Cuban labour organization, the Cigar Makers Guild, was created in 1878, followed by the Central Board of Artisans in 1879, and many more across the island. Abroad, a new trend of aggressive American influence emerged. Secretary of State James G. Blaine placed particular importance on the control of Cuba: \"If ever ceasing to be"
          ],
          [
           "on the control of Cuba: \"If ever ceasing to be Spanish, Cuba must necessarily become American and not fall under any other European domination\"."
          ],
          [
           "During the time of the so-called \"Rewarding Truce\", which encompassed the 17 years from the end of the Ten Years' War in 1878, fundamental changes took place in Cuban society. With the abolition of slavery in October 1886, former slaves joined the ranks of farmers and urban working class. Most wealthy Cubans lost their rural properties, and many of them joined the urban middle class. The number"
          ],
          [
           "of them joined the urban middle class. The number of sugar mills dropped and efficiency increased, with only companies and the most powerful plantation owners owning them. The numbers of campesinos and tenant farmers rose considerably. Furthermore, American capital began flowing into Cuba, mostly into the sugar and tobacco businesses and mining. By 1895, these investments totalled $50 million."
          ],
          [
           "By 1895, these investments totalled $50 million. Although Cuba remained Spanish politically, economically it became increasingly dependent on the United States."
          ],
          [
           "Conflicts in the late 19th century (1886–1900)"
          ],
          [
           "Background"
          ]
         ],
         "hovertemplate": "color=Albert Einstein<br>x=%{x}<br>y=%{y}<br>metadata=%{customdata[0]}<extra></extra>",
         "legendgroup": "Albert Einstein",
         "marker": {
          "color": "#00cc96",
          "symbol": "circle",
          "size": 8
         },
         "mode": "markers",
         "name": "Albert Einstein",
         "orientation": "v",
         "showlegend": true,
         "x": {
          "dtype": "f4",
          "bdata": "zl1aQHJkSUC9ekxAABRCQMw9UkCcRFRAsStQQOy/bUBeWUlAsKFAQA=="
         },
         "xaxis": "x",
         "y": {
          "dtype": "f4",
          "bdata": "lG8cQSwsH0Eb6x1BG8ccQSwZJEGw0SBBlI4nQaViJUHzyCVBtUYbQQ=="
         },
         "yaxis": "y",
         "type": "scatter"
        },
        {
         "customdata": [
          [
           "benzodiazepines and nonbenzodiazepines. Dependence upon and withdrawal from sedative-hypnotics can be medically severe and, as with alcohol withdrawal, there is a risk of psychosis or seizures if not properly managed."
          ],
          [
           "requires careful reduction in dosage to avoid benzodiazepine withdrawal syndrome and other health consequences. Dependence on other sedative-hypnotics such as zolpidem and zopiclone as well as opiates and illegal drugs is common in alcoholics. Alcohol itself is a sedative-hypnotic and is cross-tolerant with other sedative-hypnotics such as barbiturates, benzodiazepines and nonbenzodiazepines."
          ],
          [
           "Dual addictions and dependencies"
          ],
          [
           "Epidemiology"
          ],
          [
           "or clonazepam. These drugs are, like alcohol, depressants. Benzodiazepines may be used legally, if they are prescribed by doctors for anxiety problems or other mood disorders, or they may be purchased as illegal drugs. Benzodiazepine use increases cravings for alcohol and the volume of alcohol consumed by problem drinkers. Benzodiazepine dependency requires careful reduction in dosage to avoid"
          ],
          [
           "Alcoholics may also require treatment for other psychotropic drug addictions and drug dependencies. The most common dual dependence syndrome with alcohol dependence is benzodiazepine dependence, with studies showing 10–20% of alcohol-dependent individuals had problems of dependence and/or misuse problems of benzodiazepine drugs such as diazepam or clonazepam. These drugs are, like alcohol,"
          ],
          [
           "Alcohol withdrawal"
          ],
          [
           "Serious social problems arise from alcohol use disorder; these dilemmas are caused by the pathological changes in the brain and the intoxicating effects of alcohol. Alcohol misuse is associated with an increased risk of committing criminal offences, including child abuse, domestic violence, rape, burglary and assault. Alcoholism is associated with loss of employment, which can lead to financial"
          ],
          [
           "with alcohol use disorders can develop a number of emotional problems. For example, they can become afraid of their parents, because of their unstable mood behaviors. They may develop shame over their inadequacy to liberate their parents from alcoholism and, as a result of this, may develop self-image problems, which can lead to depression."
          ],
          [
           "loss of employment, which can lead to financial problems. Drinking at inappropriate times and behavior caused by reduced judgment can lead to legal consequences, such as criminal charges for drunk driving or public disorder, or civil penalties for tortious behavior. An alcoholic's behavior and mental impairment while drunk can profoundly affect those surrounding him and lead to isolation from"
          ],
          [
           "Former Misery ( )\nFuture Blessing ( )\nDivine Announcement: Zerubbabel Chosen as a Signet  ( )"
          ],
          [
           "Divine Announcement: The Command to Rebuild the Temple  ( )\nIntroduction: Reluctant Rebuilders  ( )\nConsider your ways: fruitless prosperity ( )\nPromise and Progress  ( )\nDivine Announcement: The Coming Glory of the Temple  ( )\nGod will fulfill his promise ( ) \nFuture Splendor of the temple ( )\nDivine Announcement: Blessings for a Defiled People  ( )\nFormer Misery ( )\nFuture Blessing ( )"
          ],
          [
           "Notes\n\nReferences\n\nWorks cited\n\nExternal links \n\nJewish translations:\n Chaggai – Haggai (Judaica Press) translation with Rashi's commentary at Chabad.org\nChristian translations:\nOnline Bible at GospelHall.org (ESV, KJV, Darby, American Standard Version, Bible in Basic English)\n  Various versions\n\n \n6th-century BC books\nTwelve Minor Prophets"
          ],
          [
           "Outline"
          ],
          [
           "Music \nThe King James Version of Haggai 2:6–7 is used in the libretto of the English-language oratorio \"Messiah\" by George Frideric Handel (HWV 56).\n\nSee also \nDarius I\nJoshua the High Priest , son of Jehozadak\nOld Testament messianic prophecies quoted in the New Testament\n\nNotes\n\nReferences\n\nWorks cited\n\nExternal links"
          ],
          [
           "75–50 BCE); and Wadi Murabba'at Minor Prophets (Mur88; MurXIIProph; 75-100 CE)."
          ],
          [
           "text is uncertain but most likely dates to within a generation of Haggai himself. Traditional consensus dates the completion of the text to c. 515 BC. Other scholars consider the book to be completed around 417 BC, as it did not refer to Darius I, but to Darius II (424-405 BC)."
          ],
          [
           "Date"
          ],
          [
           "The Book of Haggai records events in 520 BC, some 18 years after Cyrus had conquered Babylon and issued a decree in 538 BC, allowing the captive Judahites to return to Judea. Cyrus saw the restoration of the temple as necessary for the restoration of religious practices and a sense of peoplehood, after the long exile. The precise date of the written text is uncertain but most likely dates to"
          ],
          [
           "Some early manuscripts containing the text of this book in Biblical Hebrew are of the Masoretic Text, which includes the Codex Cairensis (895), the Petersburg Codex of the Prophets (916), and Codex Leningradensis (1008). Fragments of the Hebrew text of this book were found among the Dead Sea Scrolls, including 4Q77 (4QXIIb; 150–125 BCE) 4Q80 (4QXIIe; 75–50 BCE); and Wadi Murabba'at Minor Prophets"
          ],
          [
           "the phenomena of gravitational time dilation, gravitational redshift and gravitational lensing."
          ],
          [
           "In 1911, Einstein published another article \"On the Influence of Gravitation on the Propagation of Light\" expanding on the 1907 article, in which he estimated the amount of deflection of light by massive bodies. Thus, the theoretical prediction of general relativity could for the first time be tested experimentally."
          ],
          [
           "under special relativity. In that article titled \"On the Relativity Principle and the Conclusions Drawn from It\", he argued that free fall is really inertial motion, and that for a free-falling observer the rules of special relativity must apply. This argument is called the equivalence principle. In the same article, Einstein also predicted the phenomena of gravitational time dilation,"
          ],
          [
           "As Einstein later said, the reason for the development of general relativity was that the preference of inertial motions within special relativity was unsatisfactory, while a theory which from the outset prefers no state of motion (even accelerated ones) should appear more satisfactory. Consequently, in 1907 he published an article on acceleration under special relativity. In that article titled"
          ],
          [
           "as they were being denied citizenship elsewhere. In his speech he described Einstein as a \"citizen of the world\" who should be offered a temporary shelter in the UK. Both bills failed, however, and Einstein then accepted an earlier offer from the Institute for Advanced Study, in Princeton, New Jersey, US, to become a resident scholar."
          ],
          [
           "On 3 October 1933, Einstein delivered a speech on the importance of academic freedom before a packed audience at the Royal Albert Hall in London, with The Times reporting he was wildly cheered throughout. Four days later he returned to the US and took up a position at the Institute for Advanced Study, noted for having become a refuge for scientists fleeing Nazi Germany. At the time, most American"
          ],
          [
           "fleeing Nazi Germany. At the time, most American universities, including Harvard, Princeton and Yale, had minimal or no Jewish faculty or students, as a result of their Jewish quotas, which lasted until the late 1940s."
          ],
          [
           "Resident scholar at the Institute for Advanced Study"
          ],
          [
           "Locker-Lampson also submitted a bill to parliament to extend British citizenship to Einstein, during which period Einstein made a number of public appearances describing the crisis brewing in Europe. In one of his speeches he denounced Germany's treatment of Jews, while at the same time he introduced a bill promoting Jewish citizenship in Palestine, as they were being denied citizenship elsewhere."
          ],
          [
           "Einsteinium, one of the synthetic elements in the periodic table, was named in his honor.\n\nPublications\n\nScientific"
          ],
          [
           "In 1520, while attempting to circumnavigate the globe, Ferdinand Magellan discovered the southern passage now named after him (the Strait of Magellan) thus becoming the first European to set foot on what is now Chile. The next Europeans to reach Chile were Diego de Almagro and his band of Spanish conquistadors, who came from Peru in 1535 seeking gold. The Spanish encountered various cultures that"
          ],
          [
           "The Spanish encountered various cultures that supported themselves principally through slash-and-burn agriculture and hunting."
          ],
          [
           "Spanish colonization"
          ],
          [
           "The conquest of Chile began in earnest in 1540 and was carried out by Pedro de Valdivia, one of Francisco Pizarro's lieutenants, who founded the city of Santiago on 12 February 1541. Although the Spanish did not find the extensive gold and silver they sought, they recognized the agricultural potential of Chile's central valley, and Chile became part of the Spanish Empire."
          ],
          [
           "A military junta, led by General Augusto Pinochet, took control of the country. The first years of the regime were marked by human rights violations. Chile actively participated in Operation Condor. In October 1973, at least 72 people were murdered by the Caravan of Death. According to the Rettig Report and Valech Commission, at least 2,115 were killed, and at least 27,265 were tortured (including"
          ],
          [
           "A new Constitution was approved by a controversial plebiscite on 11 September 1980, and General Pinochet became president of the republic for an eight-year term. After Pinochet obtained rule of the country, several hundred committed Chilean revolutionaries joined the Sandinista army in Nicaragua, guerrilla forces in Argentina or training camps in Cuba, Eastern Europe and Northern Africa."
          ],
          [
           "and at least 27,265 were tortured (including 88 children younger than 12 years old). In 2011, Chile recognized an additional 9,800 victims, bringing the total number of killed, tortured or imprisoned for political reasons to 40,018. At the national stadium, filled with detainees, one of those tortured and killed was internationally known poet-singer Víctor Jara (see \"Music and Dance\", below)."
          ],
          [
           "In November 2005 the government launched a campaign under the brand \"Chile: All Ways Surprising\" intended to promote the country internationally for both business and tourism. Museums in Chile such as the Chilean National Museum of Fine Arts built in 1880, feature works by Chilean artists."
          ],
          [
           "Chile is home to the world-renowned Patagonian Trail that resides on the border between Argentina and Chile. Chile recently launched a massive scenic route for tourism in hopes of encouraging development based on conservation. The Route of Parks covers  and was designed by Tompkin Conservation (founders Douglas Tompkins and wife Kristine).\n\nTransport"
          ],
          [
           "access to Concepción and the large project of the Santiago urban highways network, opened between 2004 and 2006. Buses are now the main means of long-distance transportation in Chile, following the decline of its railway network. The bus system covers the entire country, from Arica to Santiago (a 30-hour journey) and from Santiago to Punta Arenas (about 40 hours, with a change at Osorno)."
          ],
          [
           "The Elephant Mountains\n\nChuŏr Phnum Dâmrei - A north-south-trending range of high hills, an extension of the Cardamom/Krâvanh Mountains, in south-eastern Cambodia,  rising to elevations of between 500 and 1,000 meters. Extending  north from the Gulf of Thailand, they reach a high point in the Bok Koŭ ridge at Mount Bokor  near the sea."
          ],
          [
           "The Cardamom Mountains form - including the north-western part of Chanthaburi Province, Thailand, the 'Soi Dao Mountains' - the Cardamom Mountains Moist Forests Ecoregion, that is considered to be one of the most species-rich and intact natural habitats in the region. The climate, size inaccessibility and seclusion of the mountains have allowed a rich variety of wildlife to thrive. The Cardamom"
          ],
          [
           "To the south-west of the Southern mountain ranges extends a narrow coastal plain that contains the Kampong Saom Bay area and the Sihanoukville peninsula, facing the Gulf of Thailand.\n\nNorthern Mountains\n\nThe Dangrek Mountains"
          ],
          [
           "rich variety of wildlife to thrive. The Cardamom and Elephant Mountains remain to be fully researched and documented."
          ],
          [
           "The Cardamom/Krâvanh Mountains"
          ],
          [
           "Occupying Koh Kong Province and Kampong Speu Province, running in a north-western to south-eastern direction and rising to more than . The highest mountain of Cambodia, Phnom Aural, at  is located in Aoral District in Kampong Speu Province."
          ],
          [
           "the absence of strict administrative control and indifference in law enforcement - not only in Cambodia but the entire region."
          ],
          [
           "Figures and assessments are numerous as are available sources.  as seen in numbers below, which provide a wide range for interpretation. About  (1%) of forest cover is planted forest. Overall Cambodia’s forests contain an estimated 464 million metric tonnes of carbon stock in living forest biomass. Approximately 40% of Cambodia’s Forests have some level of protection, while one of the Cambodia"
          ],
          [
           "level of protection, while one of the Cambodia Millennium Development Goals targets is to achieve a 60% forest cover by 2015."
          ],
          [
           "Cambodia has one of the highest levels of forest cover in the region as the interdependence of Cambodia’s geography and hydrology makes it rich in natural resources and biological diversity - among the bio-richest countries in Southeast Asia. The Royal Government of Cambodia estimates Cambodia contains approximately 10.36 million hectares of forest cover, representing approximately 57.07% of"
          ],
          [
           "capability, the aircraft received UK certification, and the first customer aircraft was delivered. Despite this success, the additional investment necessary for the final phase of full production was not forthcoming, the business went into receivership, and John Edgley was forced out. With new owners, aircraft on the production line were completed, and the Optica entered service."
          ],
          [
           "The Edgley EA-7 Optica is a British light aircraft designed for low-speed observation work, and intended as a low-cost alternative to helicopters. The Optica has a loiter speed of 130 km/h (70 kn; 81 mph) and a stall speed of 108 km/h (58 kn; 67 mph).\n\nDesign and development"
          ],
          [
           "The Optica project began in 1974 with a company, Edgley Aircraft Limited, formed by John Edgley who, with a small team, designed and built the original prototype. In 1982, institutional investors bought into the project and set up a production line at Old Sarum Airfield in Wiltshire. Over the next three years, the company was built up to full manufacturing capability, the aircraft received UK"
          ],
          [
           "with due diligence, appraisal and further steps to re launch the EA-7 Optica aircraft programme in the 2018–19 timeframe.  IFG planned to develop, market and support the Optica, outsourcing the fabrication and final assembly to an FAA/EASA Part 23 certified OEM. At the end of 2018, IFG modified its initial program re-launch efforts whilst, again, identifying and selecting a suitable OEM strategic"
          ],
          [
           "of intent, remains active in the search for strategic partners to"
          ],
          [
           "The Optica and the Sprint together then passed through other owners until, in 2007, they were offered to John Edgley who formed a new company, AeroElvira Limited, with three former employees of Edgley Aircraft (Chris Burleigh, Fin Colson and Dave Lee) who at that time were working on both projects for the then-owners.  The new company successfully put G-BOPO back into service as a UK demonstrator,"
          ],
          [
           "G-BOPO back into service as a UK demonstrator, with a first return-to-service flight on 3 June 2008. In August 2016 Interflight Global (IFG) announced plans to start a valuation of the dormant Optica programme with a view to relaunching production.  In December 2016, IFG completed its valuation and in June 2017, delivered an LOI to AeroElvira to continue with due diligence, appraisal and further"
          ],
          [
           "and selecting a suitable OEM strategic partner to update the Optica TC and to bring the aircraft into production. As of the end of 2019, IFG continues to seek for a strategic OEM partner to re-launch the program aligned with optionally piloted and powered by electric or hybrid electric powerplants. As of 2022, IFG, in a post COVID 19 Pandemic re assessment of intent, remains active in the search"
          ],
          [
           "1980s British special-purpose aircraft\nEdgley aircraft\nDucted fan-powered aircraft\nMid-wing aircraft\nAircraft first flown in 1979\nSingle-engined pusher aircraft"
          ],
          [
           "The Optica went through several changes of ownership, until FLS Aerospace (Lovaux Ltd) took over the rights, together with the design and manufacturing rights to the Sprint: a two-seat ab-initio trainer that had been designed by Sydney Holloway in Cornwall UK at about the same time as the Optica. Lovaux had intended to develop both aircraft, with the Sprint intended as the military trainer for the"
          ],
          [
           "Cinema\n\nThe Algerian state's interest in film-industry activities can be seen in the annual budget of DZD 200 million (EUR 1.3 million) allocated to production, specific measures and an ambitious programme plan implemented by the Ministry of Culture in order to promote national production, renovate the cinema stock and remedy the weak links in distribution and exploitation."
          ],
          [
           "singer. Other Algerian singers of the diaspora include Manel Filali in Germany and Kenza Farah in France. Tergui music is sung in Tuareg languages generally, Tinariwen had a worldwide success. Finally, the staïfi music is born in Sétif and remains a unique style of its kind."
          ],
          [
           "Modern music is available in several facets, Raï music is a style typical of western Algeria. Rap, a relatively recent style in Algeria, is experiencing significant growth.\n\nCinema"
          ],
          [
           "Folk music styles include Bedouin music, characterized by the poetic songs based on long kacida (poems); Kabyle music, based on a rich repertoire that is poetry and old tales passed through generations; Shawiya music, a folklore from diverse areas of the Aurès Mountains. Rahaba music style is unique to the Aures. Souad Massi is a rising Algerian folk singer. Other Algerian singers of the diaspora"
          ],
          [
           "Centuries of Arab migration to the Maghreb since the 7th century shifted the demographic scope in Algeria. The majority of the population of Algeria are Arabs (75% to 85% of the population). Berbers who make up 15% to 20% of the population are divided into many groups with varying languages. The largest of these are the Kabyles, who live in the Kabylie region east of Algiers, the Chaoui of"
          ],
          [
           "During the colonial period, there was a large (10% in 1960) European population who became known as Pied-Noirs. They were primarily of French, Spanish and Italian origin. Almost all of this population left during the war of independence or immediately after its end.\n\nLanguages"
          ],
          [
           "Languages\n\nModern Standard Arabic and Berber are the official languages. Algerian Arabic (Darja) is the language used by the majority of the population. Colloquial Algerian Arabic has some Berber loanwords which represent 8% to 9% of its vocabulary."
          ],
          [
           "the Kabylie region east of Algiers, the Chaoui of Northeast Algeria, the Tuaregs in the southern desert and the Shenwa people of North Algeria."
          ],
          [
           "The financial support provided by the state, through the Fund for the Development of the Arts, Techniques and the Film Industry (FDATIC) and the Algerian Agency for Cultural Influence (AARC), plays a key role in the promotion of national production. Between 2007 and 2013, FDATIC subsidised 98 films (feature films, documentaries and short films). In mid-2013, AARC had already supported a total of"
          ],
          [
           "According to the European Audiovisual Observatory's LUMIERE database, 41 Algerian films were distributed in Europe between 1996 and 2013; 21 films in this repertoire were Algerian-French co-productions. Days of Glory (2006) and Outside the Law (2010) recorded the highest number of admissions in the European Union, 3,172,612 and 474,722, respectively."
          ],
          [
           "Dwan has a star on the Hollywood Walk of Fame at 6263 Hollywood Boulevard.\n\nDaniel Eagan of Film Journal International described Dwan as one of the early pioneers of cinema, stating that his style \"is so basic as to seem invisible, but he treats his characters with uncommon sympathy and compassion.\"\n\nPartial filmography as director"
          ],
          [
           "The Restless Spirit (1913)\nBack to Life (1913)\nBloodhounds of the North (1913)\nThe Lie (1914)\nThe Honor of the Mounted (1914)\n The Unwelcome Mrs. Hatch (1914)\nRemember Mary Magdalen (1914)\nDiscord and Harmony (1914)\nThe Embezzler (1914)\nThe Lamb, the Woman, the Wolf (1914)\nThe End of the Feud (1914)\nThe Test (1914) (*writer)\nThe Tragedy of Whispering Creek (1914)\nThe Unlawful Trade (1914)"
          ],
          [
           "The Unlawful Trade (1914)\nThe Forbidden Room (1914)\nThe Hopes of Blind Alley (1914)\nRichelieu (1914)\n Wildflower (1914)\nA Small Town Girl (1915)\nDavid Harum (1915)\nA Girl of Yesterday (1915)\nThe Pretty Sister of Jose (1915)\n Jordan Is a Hard Road (1915)\nThe Habit of Happiness (1916)\nThe Good Bad Man (1916)\nAn Innocent Magdalene (1916)\nThe Half-Breed (1916)\nManhattan Madness (1916)"
          ],
          [
           "Summer Bachelors (1926)\nTin Gods (1926)\nFrench Dressing (1927)\nThe Joy Girl (1927)"
          ],
          [
           "The Forbidden Thing (1920) also producer\nA Splendid Hazard (1920)\nA Perfect Crime (1921)\n The Sin of Martha Queed (1921)\n A Broken Doll (1921)\nRobin Hood (1922)\nZaza (1923)\nBig Brother (1923)\nManhandled (1924)\nArgentine Love (1924)\nThe Coast of Folly (1925)\nNight Life of New York (1925)\nStage Struck (1925)\nPadlocked (1926)\nSea Horses (1926)\nSummer Bachelors (1926)\nTin Gods (1926)"
          ],
          [
           "The Half-Breed (1916)\nManhattan Madness (1916)\nAccusing Evidence (1916)\nPanthea (1917)\nA Modern Musketeer (1917)\nBound in Morocco (1918)\nHeadin' South (1918)\nMr. Fix-It (1918)\nHe Comes Up Smiling (1918)\nCheating Cheaters (1919)\nThe Dark Star (1919)\nGetting Mary Married (1919)\nSoldiers of Fortune (1919)\nIn The Heart of a Fool (1920) also producer\nThe Forbidden Thing (1920) also producer"
          ],
          [
           "short, also featuring Thomas Meighan and Henri de la Falaise, was produced as a joke, for the April 26, 1925 \"Lambs' Gambol\" for The Lambs, with the film showing Swanson crashing the all-male club."
          ],
          [
           "Following the introduction of the talkies, Dwan directed child-star Shirley Temple in Heidi (1937) and Rebecca of Sunnybrook Farm (1938)."
          ],
          [
           "Dwan helped launch the career of two other successful Hollywood directors, Victor Fleming, who went on to direct The Wizard of Oz and Gone With the Wind, and Marshall Neilan, who became an actor, director, writer and producer. Over a long career spanning almost 50 years, Dwan directed 125 motion pictures, some of which were highly acclaimed, such as the 1949 box office hit, Sands of Iwo Jima. He"
          ],
          [
           "After making a series of westerns and comedies, Dwan directed fellow Canadian-American Mary Pickford in several very successful movies as well as her husband, Douglas Fairbanks, notably in the acclaimed 1922 Robin Hood. Dwan directed Gloria Swanson in eight feature films, and one short film made in the short-lived sound-on-film process Phonofilm. This short, also featuring Thomas Meighan and Henri"
          ],
          [
           "to catering and various niche markets, the most significant being nautical tourism, as there are numerous marinas with more than 16 thousand berths, cultural tourism relying on appeal of medieval coastal cities and numerous cultural events taking place during the summer. Inland areas offer mountain resorts, agrotourism and spas. Zagreb is also a significant tourist destination, rivalling major"
          ],
          [
           "Croatia has unpolluted marine areas reflected through numerous nature reserves and 99 Blue Flag beaches and 28 Blue Flag marinas. Croatia is ranked as the 18th most popular tourist destination in the world. About 15% of these visitors (over one million per year) are involved with naturism, an industry for which Croatia is world-famous. It was also the first European country to develop commercial"
          ],
          [
           "the first European country to develop commercial naturist resorts."
          ],
          [
           "significant tourist destination, rivalling major coastal cities and resorts."
          ],
          [
           "The bulk of the tourist industry is concentrated along the Adriatic Sea coast. Opatija was the first holiday resort since the middle of the 19th century. By the 1890s, it became one of the most significant European health resorts. Later a large number of resorts sprang up along the coast and numerous islands, offering services ranging from mass tourism to catering and various niche markets, the"
          ],
          [
           "the Danube, representing the nation's outlet to the Pan-European transport corridor VII."
          ],
          [
           "Energy"
          ],
          [
           "Croatia has an extensive rail network spanning , including  of electrified railways and  of double track railways. The most significant railways in Croatia are found within the Pan-European transport corridors Vb and X connecting Rijeka to Budapest and Ljubljana to Belgrade, both via Zagreb. All rail services are operated by Croatian Railways."
          ],
          [
           "The busiest cargo seaport in Croatia is the Port of Rijeka and the busiest passenger ports are Split and Zadar. In addition to those, a large number of minor ports serve an extensive system of ferries connecting numerous islands and coastal cities in addition to ferry lines to several cities in Italy. The largest river port is Vukovar, located on the Danube, representing the nation's outlet to"
          ],
          [
           "There are international airports in Zagreb, Zadar, Split, Dubrovnik, Rijeka, Osijek and Pula. As of January 2011, Croatia complies with International Civil Aviation Organization aviation safety standards and the Federal Aviation Administration upgraded it to Category 1 rating."
          ],
          [
           "On 1 and 11 April 1895, the main rebel leaders landed on two expeditions in Oriente: Major Antonio Maceo and 22 members near Baracoa and Martí, Máximo Gómez and four other members in Playitas. Around that time, Spanish forces in Cuba numbered about 80,000, including 60,000 Spanish and Cuban volunteers. The latter were a locally enlisted force that took care of most of the guard and police duties"
          ],
          [
           "took care of most of the guard and police duties on the island. By December, 98,412 regular troops had been sent to the island and the number of volunteers had increased to 63,000 men. By the end of 1897, there were 240,000 regulars and 60,000 irregulars on the island. The revolutionaries were far outnumbered."
          ],
          [
           "The rebels came to be nicknamed \"Mambis\" after a black Spanish officer, Juan Ethninius Mamby, who joined the Dominicans in the fight for independence in 1846. When the Ten Years' War broke out in 1868, some of the same soldiers were assigned to Cuba, importing what had by then become a derogatory Spanish slur. The Cubans adopted the name with pride."
          ],
          [
           "These changes also entailed the rise of labour movements. The first Cuban labour organization, the Cigar Makers Guild, was created in 1878, followed by the Central Board of Artisans in 1879, and many more across the island. Abroad, a new trend of aggressive American influence emerged. Secretary of State James G. Blaine placed particular importance on the control of Cuba: \"If ever ceasing to be"
          ],
          [
           "on the control of Cuba: \"If ever ceasing to be Spanish, Cuba must necessarily become American and not fall under any other European domination\"."
          ],
          [
           "During the time of the so-called \"Rewarding Truce\", which encompassed the 17 years from the end of the Ten Years' War in 1878, fundamental changes took place in Cuban society. With the abolition of slavery in October 1886, former slaves joined the ranks of farmers and urban working class. Most wealthy Cubans lost their rural properties, and many of them joined the urban middle class. The number"
          ],
          [
           "of them joined the urban middle class. The number of sugar mills dropped and efficiency increased, with only companies and the most powerful plantation owners owning them. The numbers of campesinos and tenant farmers rose considerably. Furthermore, American capital began flowing into Cuba, mostly into the sugar and tobacco businesses and mining. By 1895, these investments totalled $50 million."
          ],
          [
           "By 1895, these investments totalled $50 million. Although Cuba remained Spanish politically, economically it became increasingly dependent on the United States."
          ],
          [
           "Conflicts in the late 19th century (1886–1900)"
          ],
          [
           "Background"
          ]
         ],
         "hovertemplate": "color=Chile<br>x=%{x}<br>y=%{y}<br>metadata=%{customdata[0]}<extra></extra>",
         "legendgroup": "Chile",
         "marker": {
          "color": "#ab63fa",
          "symbol": "circle",
          "size": 8
         },
         "mode": "markers",
         "name": "Chile",
         "orientation": "v",
         "showlegend": true,
         "x": {
          "dtype": "f4",
          "bdata": "5Ji5QOZXp0BWqKdANMq8QIKAvEA15sNAyMysQCkNy0A0WNFAes/NQA=="
         },
         "xaxis": "x",
         "y": {
          "dtype": "f4",
          "bdata": "e4wtQb5bL0FLWTBBjl4uQdycNEG1vTBBswMnQVE/KUHXuiZBzxwrQQ=="
         },
         "yaxis": "y",
         "type": "scatter"
        },
        {
         "customdata": [
          [
           "benzodiazepines and nonbenzodiazepines. Dependence upon and withdrawal from sedative-hypnotics can be medically severe and, as with alcohol withdrawal, there is a risk of psychosis or seizures if not properly managed."
          ],
          [
           "requires careful reduction in dosage to avoid benzodiazepine withdrawal syndrome and other health consequences. Dependence on other sedative-hypnotics such as zolpidem and zopiclone as well as opiates and illegal drugs is common in alcoholics. Alcohol itself is a sedative-hypnotic and is cross-tolerant with other sedative-hypnotics such as barbiturates, benzodiazepines and nonbenzodiazepines."
          ],
          [
           "Dual addictions and dependencies"
          ],
          [
           "Epidemiology"
          ],
          [
           "or clonazepam. These drugs are, like alcohol, depressants. Benzodiazepines may be used legally, if they are prescribed by doctors for anxiety problems or other mood disorders, or they may be purchased as illegal drugs. Benzodiazepine use increases cravings for alcohol and the volume of alcohol consumed by problem drinkers. Benzodiazepine dependency requires careful reduction in dosage to avoid"
          ],
          [
           "Alcoholics may also require treatment for other psychotropic drug addictions and drug dependencies. The most common dual dependence syndrome with alcohol dependence is benzodiazepine dependence, with studies showing 10–20% of alcohol-dependent individuals had problems of dependence and/or misuse problems of benzodiazepine drugs such as diazepam or clonazepam. These drugs are, like alcohol,"
          ],
          [
           "Alcohol withdrawal"
          ],
          [
           "Serious social problems arise from alcohol use disorder; these dilemmas are caused by the pathological changes in the brain and the intoxicating effects of alcohol. Alcohol misuse is associated with an increased risk of committing criminal offences, including child abuse, domestic violence, rape, burglary and assault. Alcoholism is associated with loss of employment, which can lead to financial"
          ],
          [
           "with alcohol use disorders can develop a number of emotional problems. For example, they can become afraid of their parents, because of their unstable mood behaviors. They may develop shame over their inadequacy to liberate their parents from alcoholism and, as a result of this, may develop self-image problems, which can lead to depression."
          ],
          [
           "loss of employment, which can lead to financial problems. Drinking at inappropriate times and behavior caused by reduced judgment can lead to legal consequences, such as criminal charges for drunk driving or public disorder, or civil penalties for tortious behavior. An alcoholic's behavior and mental impairment while drunk can profoundly affect those surrounding him and lead to isolation from"
          ],
          [
           "Former Misery ( )\nFuture Blessing ( )\nDivine Announcement: Zerubbabel Chosen as a Signet  ( )"
          ],
          [
           "Divine Announcement: The Command to Rebuild the Temple  ( )\nIntroduction: Reluctant Rebuilders  ( )\nConsider your ways: fruitless prosperity ( )\nPromise and Progress  ( )\nDivine Announcement: The Coming Glory of the Temple  ( )\nGod will fulfill his promise ( ) \nFuture Splendor of the temple ( )\nDivine Announcement: Blessings for a Defiled People  ( )\nFormer Misery ( )\nFuture Blessing ( )"
          ],
          [
           "Notes\n\nReferences\n\nWorks cited\n\nExternal links \n\nJewish translations:\n Chaggai – Haggai (Judaica Press) translation with Rashi's commentary at Chabad.org\nChristian translations:\nOnline Bible at GospelHall.org (ESV, KJV, Darby, American Standard Version, Bible in Basic English)\n  Various versions\n\n \n6th-century BC books\nTwelve Minor Prophets"
          ],
          [
           "Outline"
          ],
          [
           "Music \nThe King James Version of Haggai 2:6–7 is used in the libretto of the English-language oratorio \"Messiah\" by George Frideric Handel (HWV 56).\n\nSee also \nDarius I\nJoshua the High Priest , son of Jehozadak\nOld Testament messianic prophecies quoted in the New Testament\n\nNotes\n\nReferences\n\nWorks cited\n\nExternal links"
          ],
          [
           "75–50 BCE); and Wadi Murabba'at Minor Prophets (Mur88; MurXIIProph; 75-100 CE)."
          ],
          [
           "text is uncertain but most likely dates to within a generation of Haggai himself. Traditional consensus dates the completion of the text to c. 515 BC. Other scholars consider the book to be completed around 417 BC, as it did not refer to Darius I, but to Darius II (424-405 BC)."
          ],
          [
           "Date"
          ],
          [
           "The Book of Haggai records events in 520 BC, some 18 years after Cyrus had conquered Babylon and issued a decree in 538 BC, allowing the captive Judahites to return to Judea. Cyrus saw the restoration of the temple as necessary for the restoration of religious practices and a sense of peoplehood, after the long exile. The precise date of the written text is uncertain but most likely dates to"
          ],
          [
           "Some early manuscripts containing the text of this book in Biblical Hebrew are of the Masoretic Text, which includes the Codex Cairensis (895), the Petersburg Codex of the Prophets (916), and Codex Leningradensis (1008). Fragments of the Hebrew text of this book were found among the Dead Sea Scrolls, including 4Q77 (4QXIIb; 150–125 BCE) 4Q80 (4QXIIe; 75–50 BCE); and Wadi Murabba'at Minor Prophets"
          ],
          [
           "the phenomena of gravitational time dilation, gravitational redshift and gravitational lensing."
          ],
          [
           "In 1911, Einstein published another article \"On the Influence of Gravitation on the Propagation of Light\" expanding on the 1907 article, in which he estimated the amount of deflection of light by massive bodies. Thus, the theoretical prediction of general relativity could for the first time be tested experimentally."
          ],
          [
           "under special relativity. In that article titled \"On the Relativity Principle and the Conclusions Drawn from It\", he argued that free fall is really inertial motion, and that for a free-falling observer the rules of special relativity must apply. This argument is called the equivalence principle. In the same article, Einstein also predicted the phenomena of gravitational time dilation,"
          ],
          [
           "As Einstein later said, the reason for the development of general relativity was that the preference of inertial motions within special relativity was unsatisfactory, while a theory which from the outset prefers no state of motion (even accelerated ones) should appear more satisfactory. Consequently, in 1907 he published an article on acceleration under special relativity. In that article titled"
          ],
          [
           "as they were being denied citizenship elsewhere. In his speech he described Einstein as a \"citizen of the world\" who should be offered a temporary shelter in the UK. Both bills failed, however, and Einstein then accepted an earlier offer from the Institute for Advanced Study, in Princeton, New Jersey, US, to become a resident scholar."
          ],
          [
           "On 3 October 1933, Einstein delivered a speech on the importance of academic freedom before a packed audience at the Royal Albert Hall in London, with The Times reporting he was wildly cheered throughout. Four days later he returned to the US and took up a position at the Institute for Advanced Study, noted for having become a refuge for scientists fleeing Nazi Germany. At the time, most American"
          ],
          [
           "fleeing Nazi Germany. At the time, most American universities, including Harvard, Princeton and Yale, had minimal or no Jewish faculty or students, as a result of their Jewish quotas, which lasted until the late 1940s."
          ],
          [
           "Resident scholar at the Institute for Advanced Study"
          ],
          [
           "Locker-Lampson also submitted a bill to parliament to extend British citizenship to Einstein, during which period Einstein made a number of public appearances describing the crisis brewing in Europe. In one of his speeches he denounced Germany's treatment of Jews, while at the same time he introduced a bill promoting Jewish citizenship in Palestine, as they were being denied citizenship elsewhere."
          ],
          [
           "Einsteinium, one of the synthetic elements in the periodic table, was named in his honor.\n\nPublications\n\nScientific"
          ],
          [
           "In 1520, while attempting to circumnavigate the globe, Ferdinand Magellan discovered the southern passage now named after him (the Strait of Magellan) thus becoming the first European to set foot on what is now Chile. The next Europeans to reach Chile were Diego de Almagro and his band of Spanish conquistadors, who came from Peru in 1535 seeking gold. The Spanish encountered various cultures that"
          ],
          [
           "The Spanish encountered various cultures that supported themselves principally through slash-and-burn agriculture and hunting."
          ],
          [
           "Spanish colonization"
          ],
          [
           "The conquest of Chile began in earnest in 1540 and was carried out by Pedro de Valdivia, one of Francisco Pizarro's lieutenants, who founded the city of Santiago on 12 February 1541. Although the Spanish did not find the extensive gold and silver they sought, they recognized the agricultural potential of Chile's central valley, and Chile became part of the Spanish Empire."
          ],
          [
           "A military junta, led by General Augusto Pinochet, took control of the country. The first years of the regime were marked by human rights violations. Chile actively participated in Operation Condor. In October 1973, at least 72 people were murdered by the Caravan of Death. According to the Rettig Report and Valech Commission, at least 2,115 were killed, and at least 27,265 were tortured (including"
          ],
          [
           "A new Constitution was approved by a controversial plebiscite on 11 September 1980, and General Pinochet became president of the republic for an eight-year term. After Pinochet obtained rule of the country, several hundred committed Chilean revolutionaries joined the Sandinista army in Nicaragua, guerrilla forces in Argentina or training camps in Cuba, Eastern Europe and Northern Africa."
          ],
          [
           "and at least 27,265 were tortured (including 88 children younger than 12 years old). In 2011, Chile recognized an additional 9,800 victims, bringing the total number of killed, tortured or imprisoned for political reasons to 40,018. At the national stadium, filled with detainees, one of those tortured and killed was internationally known poet-singer Víctor Jara (see \"Music and Dance\", below)."
          ],
          [
           "In November 2005 the government launched a campaign under the brand \"Chile: All Ways Surprising\" intended to promote the country internationally for both business and tourism. Museums in Chile such as the Chilean National Museum of Fine Arts built in 1880, feature works by Chilean artists."
          ],
          [
           "Chile is home to the world-renowned Patagonian Trail that resides on the border between Argentina and Chile. Chile recently launched a massive scenic route for tourism in hopes of encouraging development based on conservation. The Route of Parks covers  and was designed by Tompkin Conservation (founders Douglas Tompkins and wife Kristine).\n\nTransport"
          ],
          [
           "access to Concepción and the large project of the Santiago urban highways network, opened between 2004 and 2006. Buses are now the main means of long-distance transportation in Chile, following the decline of its railway network. The bus system covers the entire country, from Arica to Santiago (a 30-hour journey) and from Santiago to Punta Arenas (about 40 hours, with a change at Osorno)."
          ],
          [
           "The Elephant Mountains\n\nChuŏr Phnum Dâmrei - A north-south-trending range of high hills, an extension of the Cardamom/Krâvanh Mountains, in south-eastern Cambodia,  rising to elevations of between 500 and 1,000 meters. Extending  north from the Gulf of Thailand, they reach a high point in the Bok Koŭ ridge at Mount Bokor  near the sea."
          ],
          [
           "The Cardamom Mountains form - including the north-western part of Chanthaburi Province, Thailand, the 'Soi Dao Mountains' - the Cardamom Mountains Moist Forests Ecoregion, that is considered to be one of the most species-rich and intact natural habitats in the region. The climate, size inaccessibility and seclusion of the mountains have allowed a rich variety of wildlife to thrive. The Cardamom"
          ],
          [
           "To the south-west of the Southern mountain ranges extends a narrow coastal plain that contains the Kampong Saom Bay area and the Sihanoukville peninsula, facing the Gulf of Thailand.\n\nNorthern Mountains\n\nThe Dangrek Mountains"
          ],
          [
           "rich variety of wildlife to thrive. The Cardamom and Elephant Mountains remain to be fully researched and documented."
          ],
          [
           "The Cardamom/Krâvanh Mountains"
          ],
          [
           "Occupying Koh Kong Province and Kampong Speu Province, running in a north-western to south-eastern direction and rising to more than . The highest mountain of Cambodia, Phnom Aural, at  is located in Aoral District in Kampong Speu Province."
          ],
          [
           "the absence of strict administrative control and indifference in law enforcement - not only in Cambodia but the entire region."
          ],
          [
           "Figures and assessments are numerous as are available sources.  as seen in numbers below, which provide a wide range for interpretation. About  (1%) of forest cover is planted forest. Overall Cambodia’s forests contain an estimated 464 million metric tonnes of carbon stock in living forest biomass. Approximately 40% of Cambodia’s Forests have some level of protection, while one of the Cambodia"
          ],
          [
           "level of protection, while one of the Cambodia Millennium Development Goals targets is to achieve a 60% forest cover by 2015."
          ],
          [
           "Cambodia has one of the highest levels of forest cover in the region as the interdependence of Cambodia’s geography and hydrology makes it rich in natural resources and biological diversity - among the bio-richest countries in Southeast Asia. The Royal Government of Cambodia estimates Cambodia contains approximately 10.36 million hectares of forest cover, representing approximately 57.07% of"
          ],
          [
           "capability, the aircraft received UK certification, and the first customer aircraft was delivered. Despite this success, the additional investment necessary for the final phase of full production was not forthcoming, the business went into receivership, and John Edgley was forced out. With new owners, aircraft on the production line were completed, and the Optica entered service."
          ],
          [
           "The Edgley EA-7 Optica is a British light aircraft designed for low-speed observation work, and intended as a low-cost alternative to helicopters. The Optica has a loiter speed of 130 km/h (70 kn; 81 mph) and a stall speed of 108 km/h (58 kn; 67 mph).\n\nDesign and development"
          ],
          [
           "The Optica project began in 1974 with a company, Edgley Aircraft Limited, formed by John Edgley who, with a small team, designed and built the original prototype. In 1982, institutional investors bought into the project and set up a production line at Old Sarum Airfield in Wiltshire. Over the next three years, the company was built up to full manufacturing capability, the aircraft received UK"
          ],
          [
           "with due diligence, appraisal and further steps to re launch the EA-7 Optica aircraft programme in the 2018–19 timeframe.  IFG planned to develop, market and support the Optica, outsourcing the fabrication and final assembly to an FAA/EASA Part 23 certified OEM. At the end of 2018, IFG modified its initial program re-launch efforts whilst, again, identifying and selecting a suitable OEM strategic"
          ],
          [
           "of intent, remains active in the search for strategic partners to"
          ],
          [
           "The Optica and the Sprint together then passed through other owners until, in 2007, they were offered to John Edgley who formed a new company, AeroElvira Limited, with three former employees of Edgley Aircraft (Chris Burleigh, Fin Colson and Dave Lee) who at that time were working on both projects for the then-owners.  The new company successfully put G-BOPO back into service as a UK demonstrator,"
          ],
          [
           "G-BOPO back into service as a UK demonstrator, with a first return-to-service flight on 3 June 2008. In August 2016 Interflight Global (IFG) announced plans to start a valuation of the dormant Optica programme with a view to relaunching production.  In December 2016, IFG completed its valuation and in June 2017, delivered an LOI to AeroElvira to continue with due diligence, appraisal and further"
          ],
          [
           "and selecting a suitable OEM strategic partner to update the Optica TC and to bring the aircraft into production. As of the end of 2019, IFG continues to seek for a strategic OEM partner to re-launch the program aligned with optionally piloted and powered by electric or hybrid electric powerplants. As of 2022, IFG, in a post COVID 19 Pandemic re assessment of intent, remains active in the search"
          ],
          [
           "1980s British special-purpose aircraft\nEdgley aircraft\nDucted fan-powered aircraft\nMid-wing aircraft\nAircraft first flown in 1979\nSingle-engined pusher aircraft"
          ],
          [
           "The Optica went through several changes of ownership, until FLS Aerospace (Lovaux Ltd) took over the rights, together with the design and manufacturing rights to the Sprint: a two-seat ab-initio trainer that had been designed by Sydney Holloway in Cornwall UK at about the same time as the Optica. Lovaux had intended to develop both aircraft, with the Sprint intended as the military trainer for the"
          ],
          [
           "Cinema\n\nThe Algerian state's interest in film-industry activities can be seen in the annual budget of DZD 200 million (EUR 1.3 million) allocated to production, specific measures and an ambitious programme plan implemented by the Ministry of Culture in order to promote national production, renovate the cinema stock and remedy the weak links in distribution and exploitation."
          ],
          [
           "singer. Other Algerian singers of the diaspora include Manel Filali in Germany and Kenza Farah in France. Tergui music is sung in Tuareg languages generally, Tinariwen had a worldwide success. Finally, the staïfi music is born in Sétif and remains a unique style of its kind."
          ],
          [
           "Modern music is available in several facets, Raï music is a style typical of western Algeria. Rap, a relatively recent style in Algeria, is experiencing significant growth.\n\nCinema"
          ],
          [
           "Folk music styles include Bedouin music, characterized by the poetic songs based on long kacida (poems); Kabyle music, based on a rich repertoire that is poetry and old tales passed through generations; Shawiya music, a folklore from diverse areas of the Aurès Mountains. Rahaba music style is unique to the Aures. Souad Massi is a rising Algerian folk singer. Other Algerian singers of the diaspora"
          ],
          [
           "Centuries of Arab migration to the Maghreb since the 7th century shifted the demographic scope in Algeria. The majority of the population of Algeria are Arabs (75% to 85% of the population). Berbers who make up 15% to 20% of the population are divided into many groups with varying languages. The largest of these are the Kabyles, who live in the Kabylie region east of Algiers, the Chaoui of"
          ],
          [
           "During the colonial period, there was a large (10% in 1960) European population who became known as Pied-Noirs. They were primarily of French, Spanish and Italian origin. Almost all of this population left during the war of independence or immediately after its end.\n\nLanguages"
          ],
          [
           "Languages\n\nModern Standard Arabic and Berber are the official languages. Algerian Arabic (Darja) is the language used by the majority of the population. Colloquial Algerian Arabic has some Berber loanwords which represent 8% to 9% of its vocabulary."
          ],
          [
           "the Kabylie region east of Algiers, the Chaoui of Northeast Algeria, the Tuaregs in the southern desert and the Shenwa people of North Algeria."
          ],
          [
           "The financial support provided by the state, through the Fund for the Development of the Arts, Techniques and the Film Industry (FDATIC) and the Algerian Agency for Cultural Influence (AARC), plays a key role in the promotion of national production. Between 2007 and 2013, FDATIC subsidised 98 films (feature films, documentaries and short films). In mid-2013, AARC had already supported a total of"
          ],
          [
           "According to the European Audiovisual Observatory's LUMIERE database, 41 Algerian films were distributed in Europe between 1996 and 2013; 21 films in this repertoire were Algerian-French co-productions. Days of Glory (2006) and Outside the Law (2010) recorded the highest number of admissions in the European Union, 3,172,612 and 474,722, respectively."
          ],
          [
           "Dwan has a star on the Hollywood Walk of Fame at 6263 Hollywood Boulevard.\n\nDaniel Eagan of Film Journal International described Dwan as one of the early pioneers of cinema, stating that his style \"is so basic as to seem invisible, but he treats his characters with uncommon sympathy and compassion.\"\n\nPartial filmography as director"
          ],
          [
           "The Restless Spirit (1913)\nBack to Life (1913)\nBloodhounds of the North (1913)\nThe Lie (1914)\nThe Honor of the Mounted (1914)\n The Unwelcome Mrs. Hatch (1914)\nRemember Mary Magdalen (1914)\nDiscord and Harmony (1914)\nThe Embezzler (1914)\nThe Lamb, the Woman, the Wolf (1914)\nThe End of the Feud (1914)\nThe Test (1914) (*writer)\nThe Tragedy of Whispering Creek (1914)\nThe Unlawful Trade (1914)"
          ],
          [
           "The Unlawful Trade (1914)\nThe Forbidden Room (1914)\nThe Hopes of Blind Alley (1914)\nRichelieu (1914)\n Wildflower (1914)\nA Small Town Girl (1915)\nDavid Harum (1915)\nA Girl of Yesterday (1915)\nThe Pretty Sister of Jose (1915)\n Jordan Is a Hard Road (1915)\nThe Habit of Happiness (1916)\nThe Good Bad Man (1916)\nAn Innocent Magdalene (1916)\nThe Half-Breed (1916)\nManhattan Madness (1916)"
          ],
          [
           "Summer Bachelors (1926)\nTin Gods (1926)\nFrench Dressing (1927)\nThe Joy Girl (1927)"
          ],
          [
           "The Forbidden Thing (1920) also producer\nA Splendid Hazard (1920)\nA Perfect Crime (1921)\n The Sin of Martha Queed (1921)\n A Broken Doll (1921)\nRobin Hood (1922)\nZaza (1923)\nBig Brother (1923)\nManhandled (1924)\nArgentine Love (1924)\nThe Coast of Folly (1925)\nNight Life of New York (1925)\nStage Struck (1925)\nPadlocked (1926)\nSea Horses (1926)\nSummer Bachelors (1926)\nTin Gods (1926)"
          ],
          [
           "The Half-Breed (1916)\nManhattan Madness (1916)\nAccusing Evidence (1916)\nPanthea (1917)\nA Modern Musketeer (1917)\nBound in Morocco (1918)\nHeadin' South (1918)\nMr. Fix-It (1918)\nHe Comes Up Smiling (1918)\nCheating Cheaters (1919)\nThe Dark Star (1919)\nGetting Mary Married (1919)\nSoldiers of Fortune (1919)\nIn The Heart of a Fool (1920) also producer\nThe Forbidden Thing (1920) also producer"
          ],
          [
           "short, also featuring Thomas Meighan and Henri de la Falaise, was produced as a joke, for the April 26, 1925 \"Lambs' Gambol\" for The Lambs, with the film showing Swanson crashing the all-male club."
          ],
          [
           "Following the introduction of the talkies, Dwan directed child-star Shirley Temple in Heidi (1937) and Rebecca of Sunnybrook Farm (1938)."
          ],
          [
           "Dwan helped launch the career of two other successful Hollywood directors, Victor Fleming, who went on to direct The Wizard of Oz and Gone With the Wind, and Marshall Neilan, who became an actor, director, writer and producer. Over a long career spanning almost 50 years, Dwan directed 125 motion pictures, some of which were highly acclaimed, such as the 1949 box office hit, Sands of Iwo Jima. He"
          ],
          [
           "After making a series of westerns and comedies, Dwan directed fellow Canadian-American Mary Pickford in several very successful movies as well as her husband, Douglas Fairbanks, notably in the acclaimed 1922 Robin Hood. Dwan directed Gloria Swanson in eight feature films, and one short film made in the short-lived sound-on-film process Phonofilm. This short, also featuring Thomas Meighan and Henri"
          ],
          [
           "to catering and various niche markets, the most significant being nautical tourism, as there are numerous marinas with more than 16 thousand berths, cultural tourism relying on appeal of medieval coastal cities and numerous cultural events taking place during the summer. Inland areas offer mountain resorts, agrotourism and spas. Zagreb is also a significant tourist destination, rivalling major"
          ],
          [
           "Croatia has unpolluted marine areas reflected through numerous nature reserves and 99 Blue Flag beaches and 28 Blue Flag marinas. Croatia is ranked as the 18th most popular tourist destination in the world. About 15% of these visitors (over one million per year) are involved with naturism, an industry for which Croatia is world-famous. It was also the first European country to develop commercial"
          ],
          [
           "the first European country to develop commercial naturist resorts."
          ],
          [
           "significant tourist destination, rivalling major coastal cities and resorts."
          ],
          [
           "The bulk of the tourist industry is concentrated along the Adriatic Sea coast. Opatija was the first holiday resort since the middle of the 19th century. By the 1890s, it became one of the most significant European health resorts. Later a large number of resorts sprang up along the coast and numerous islands, offering services ranging from mass tourism to catering and various niche markets, the"
          ],
          [
           "the Danube, representing the nation's outlet to the Pan-European transport corridor VII."
          ],
          [
           "Energy"
          ],
          [
           "Croatia has an extensive rail network spanning , including  of electrified railways and  of double track railways. The most significant railways in Croatia are found within the Pan-European transport corridors Vb and X connecting Rijeka to Budapest and Ljubljana to Belgrade, both via Zagreb. All rail services are operated by Croatian Railways."
          ],
          [
           "The busiest cargo seaport in Croatia is the Port of Rijeka and the busiest passenger ports are Split and Zadar. In addition to those, a large number of minor ports serve an extensive system of ferries connecting numerous islands and coastal cities in addition to ferry lines to several cities in Italy. The largest river port is Vukovar, located on the Danube, representing the nation's outlet to"
          ],
          [
           "There are international airports in Zagreb, Zadar, Split, Dubrovnik, Rijeka, Osijek and Pula. As of January 2011, Croatia complies with International Civil Aviation Organization aviation safety standards and the Federal Aviation Administration upgraded it to Category 1 rating."
          ],
          [
           "On 1 and 11 April 1895, the main rebel leaders landed on two expeditions in Oriente: Major Antonio Maceo and 22 members near Baracoa and Martí, Máximo Gómez and four other members in Playitas. Around that time, Spanish forces in Cuba numbered about 80,000, including 60,000 Spanish and Cuban volunteers. The latter were a locally enlisted force that took care of most of the guard and police duties"
          ],
          [
           "took care of most of the guard and police duties on the island. By December, 98,412 regular troops had been sent to the island and the number of volunteers had increased to 63,000 men. By the end of 1897, there were 240,000 regulars and 60,000 irregulars on the island. The revolutionaries were far outnumbered."
          ],
          [
           "The rebels came to be nicknamed \"Mambis\" after a black Spanish officer, Juan Ethninius Mamby, who joined the Dominicans in the fight for independence in 1846. When the Ten Years' War broke out in 1868, some of the same soldiers were assigned to Cuba, importing what had by then become a derogatory Spanish slur. The Cubans adopted the name with pride."
          ],
          [
           "These changes also entailed the rise of labour movements. The first Cuban labour organization, the Cigar Makers Guild, was created in 1878, followed by the Central Board of Artisans in 1879, and many more across the island. Abroad, a new trend of aggressive American influence emerged. Secretary of State James G. Blaine placed particular importance on the control of Cuba: \"If ever ceasing to be"
          ],
          [
           "on the control of Cuba: \"If ever ceasing to be Spanish, Cuba must necessarily become American and not fall under any other European domination\"."
          ],
          [
           "During the time of the so-called \"Rewarding Truce\", which encompassed the 17 years from the end of the Ten Years' War in 1878, fundamental changes took place in Cuban society. With the abolition of slavery in October 1886, former slaves joined the ranks of farmers and urban working class. Most wealthy Cubans lost their rural properties, and many of them joined the urban middle class. The number"
          ],
          [
           "of them joined the urban middle class. The number of sugar mills dropped and efficiency increased, with only companies and the most powerful plantation owners owning them. The numbers of campesinos and tenant farmers rose considerably. Furthermore, American capital began flowing into Cuba, mostly into the sugar and tobacco businesses and mining. By 1895, these investments totalled $50 million."
          ],
          [
           "By 1895, these investments totalled $50 million. Although Cuba remained Spanish politically, economically it became increasingly dependent on the United States."
          ],
          [
           "Conflicts in the late 19th century (1886–1900)"
          ],
          [
           "Background"
          ]
         ],
         "hovertemplate": "color=Geography of Cambodia<br>x=%{x}<br>y=%{y}<br>metadata=%{customdata[0]}<extra></extra>",
         "legendgroup": "Geography of Cambodia",
         "marker": {
          "color": "#FFA15A",
          "symbol": "circle",
          "size": 8
         },
         "mode": "markers",
         "name": "Geography of Cambodia",
         "orientation": "v",
         "showlegend": true,
         "x": {
          "dtype": "f4",
          "bdata": "CZbrQNQH8ECKeORAhWjvQB3R30BSZO5AWdX3QDwA/ECxbv1AMfv/QA=="
         },
         "xaxis": "x",
         "y": {
          "dtype": "f4",
          "bdata": "bQkBQd0N+UDOSQFBKX/7QO8j/UCouQJB1KsDQYXmBEGGpAVB25gCQQ=="
         },
         "yaxis": "y",
         "type": "scatter"
        },
        {
         "customdata": [
          [
           "benzodiazepines and nonbenzodiazepines. Dependence upon and withdrawal from sedative-hypnotics can be medically severe and, as with alcohol withdrawal, there is a risk of psychosis or seizures if not properly managed."
          ],
          [
           "requires careful reduction in dosage to avoid benzodiazepine withdrawal syndrome and other health consequences. Dependence on other sedative-hypnotics such as zolpidem and zopiclone as well as opiates and illegal drugs is common in alcoholics. Alcohol itself is a sedative-hypnotic and is cross-tolerant with other sedative-hypnotics such as barbiturates, benzodiazepines and nonbenzodiazepines."
          ],
          [
           "Dual addictions and dependencies"
          ],
          [
           "Epidemiology"
          ],
          [
           "or clonazepam. These drugs are, like alcohol, depressants. Benzodiazepines may be used legally, if they are prescribed by doctors for anxiety problems or other mood disorders, or they may be purchased as illegal drugs. Benzodiazepine use increases cravings for alcohol and the volume of alcohol consumed by problem drinkers. Benzodiazepine dependency requires careful reduction in dosage to avoid"
          ],
          [
           "Alcoholics may also require treatment for other psychotropic drug addictions and drug dependencies. The most common dual dependence syndrome with alcohol dependence is benzodiazepine dependence, with studies showing 10–20% of alcohol-dependent individuals had problems of dependence and/or misuse problems of benzodiazepine drugs such as diazepam or clonazepam. These drugs are, like alcohol,"
          ],
          [
           "Alcohol withdrawal"
          ],
          [
           "Serious social problems arise from alcohol use disorder; these dilemmas are caused by the pathological changes in the brain and the intoxicating effects of alcohol. Alcohol misuse is associated with an increased risk of committing criminal offences, including child abuse, domestic violence, rape, burglary and assault. Alcoholism is associated with loss of employment, which can lead to financial"
          ],
          [
           "with alcohol use disorders can develop a number of emotional problems. For example, they can become afraid of their parents, because of their unstable mood behaviors. They may develop shame over their inadequacy to liberate their parents from alcoholism and, as a result of this, may develop self-image problems, which can lead to depression."
          ],
          [
           "loss of employment, which can lead to financial problems. Drinking at inappropriate times and behavior caused by reduced judgment can lead to legal consequences, such as criminal charges for drunk driving or public disorder, or civil penalties for tortious behavior. An alcoholic's behavior and mental impairment while drunk can profoundly affect those surrounding him and lead to isolation from"
          ],
          [
           "Former Misery ( )\nFuture Blessing ( )\nDivine Announcement: Zerubbabel Chosen as a Signet  ( )"
          ],
          [
           "Divine Announcement: The Command to Rebuild the Temple  ( )\nIntroduction: Reluctant Rebuilders  ( )\nConsider your ways: fruitless prosperity ( )\nPromise and Progress  ( )\nDivine Announcement: The Coming Glory of the Temple  ( )\nGod will fulfill his promise ( ) \nFuture Splendor of the temple ( )\nDivine Announcement: Blessings for a Defiled People  ( )\nFormer Misery ( )\nFuture Blessing ( )"
          ],
          [
           "Notes\n\nReferences\n\nWorks cited\n\nExternal links \n\nJewish translations:\n Chaggai – Haggai (Judaica Press) translation with Rashi's commentary at Chabad.org\nChristian translations:\nOnline Bible at GospelHall.org (ESV, KJV, Darby, American Standard Version, Bible in Basic English)\n  Various versions\n\n \n6th-century BC books\nTwelve Minor Prophets"
          ],
          [
           "Outline"
          ],
          [
           "Music \nThe King James Version of Haggai 2:6–7 is used in the libretto of the English-language oratorio \"Messiah\" by George Frideric Handel (HWV 56).\n\nSee also \nDarius I\nJoshua the High Priest , son of Jehozadak\nOld Testament messianic prophecies quoted in the New Testament\n\nNotes\n\nReferences\n\nWorks cited\n\nExternal links"
          ],
          [
           "75–50 BCE); and Wadi Murabba'at Minor Prophets (Mur88; MurXIIProph; 75-100 CE)."
          ],
          [
           "text is uncertain but most likely dates to within a generation of Haggai himself. Traditional consensus dates the completion of the text to c. 515 BC. Other scholars consider the book to be completed around 417 BC, as it did not refer to Darius I, but to Darius II (424-405 BC)."
          ],
          [
           "Date"
          ],
          [
           "The Book of Haggai records events in 520 BC, some 18 years after Cyrus had conquered Babylon and issued a decree in 538 BC, allowing the captive Judahites to return to Judea. Cyrus saw the restoration of the temple as necessary for the restoration of religious practices and a sense of peoplehood, after the long exile. The precise date of the written text is uncertain but most likely dates to"
          ],
          [
           "Some early manuscripts containing the text of this book in Biblical Hebrew are of the Masoretic Text, which includes the Codex Cairensis (895), the Petersburg Codex of the Prophets (916), and Codex Leningradensis (1008). Fragments of the Hebrew text of this book were found among the Dead Sea Scrolls, including 4Q77 (4QXIIb; 150–125 BCE) 4Q80 (4QXIIe; 75–50 BCE); and Wadi Murabba'at Minor Prophets"
          ],
          [
           "the phenomena of gravitational time dilation, gravitational redshift and gravitational lensing."
          ],
          [
           "In 1911, Einstein published another article \"On the Influence of Gravitation on the Propagation of Light\" expanding on the 1907 article, in which he estimated the amount of deflection of light by massive bodies. Thus, the theoretical prediction of general relativity could for the first time be tested experimentally."
          ],
          [
           "under special relativity. In that article titled \"On the Relativity Principle and the Conclusions Drawn from It\", he argued that free fall is really inertial motion, and that for a free-falling observer the rules of special relativity must apply. This argument is called the equivalence principle. In the same article, Einstein also predicted the phenomena of gravitational time dilation,"
          ],
          [
           "As Einstein later said, the reason for the development of general relativity was that the preference of inertial motions within special relativity was unsatisfactory, while a theory which from the outset prefers no state of motion (even accelerated ones) should appear more satisfactory. Consequently, in 1907 he published an article on acceleration under special relativity. In that article titled"
          ],
          [
           "as they were being denied citizenship elsewhere. In his speech he described Einstein as a \"citizen of the world\" who should be offered a temporary shelter in the UK. Both bills failed, however, and Einstein then accepted an earlier offer from the Institute for Advanced Study, in Princeton, New Jersey, US, to become a resident scholar."
          ],
          [
           "On 3 October 1933, Einstein delivered a speech on the importance of academic freedom before a packed audience at the Royal Albert Hall in London, with The Times reporting he was wildly cheered throughout. Four days later he returned to the US and took up a position at the Institute for Advanced Study, noted for having become a refuge for scientists fleeing Nazi Germany. At the time, most American"
          ],
          [
           "fleeing Nazi Germany. At the time, most American universities, including Harvard, Princeton and Yale, had minimal or no Jewish faculty or students, as a result of their Jewish quotas, which lasted until the late 1940s."
          ],
          [
           "Resident scholar at the Institute for Advanced Study"
          ],
          [
           "Locker-Lampson also submitted a bill to parliament to extend British citizenship to Einstein, during which period Einstein made a number of public appearances describing the crisis brewing in Europe. In one of his speeches he denounced Germany's treatment of Jews, while at the same time he introduced a bill promoting Jewish citizenship in Palestine, as they were being denied citizenship elsewhere."
          ],
          [
           "Einsteinium, one of the synthetic elements in the periodic table, was named in his honor.\n\nPublications\n\nScientific"
          ],
          [
           "In 1520, while attempting to circumnavigate the globe, Ferdinand Magellan discovered the southern passage now named after him (the Strait of Magellan) thus becoming the first European to set foot on what is now Chile. The next Europeans to reach Chile were Diego de Almagro and his band of Spanish conquistadors, who came from Peru in 1535 seeking gold. The Spanish encountered various cultures that"
          ],
          [
           "The Spanish encountered various cultures that supported themselves principally through slash-and-burn agriculture and hunting."
          ],
          [
           "Spanish colonization"
          ],
          [
           "The conquest of Chile began in earnest in 1540 and was carried out by Pedro de Valdivia, one of Francisco Pizarro's lieutenants, who founded the city of Santiago on 12 February 1541. Although the Spanish did not find the extensive gold and silver they sought, they recognized the agricultural potential of Chile's central valley, and Chile became part of the Spanish Empire."
          ],
          [
           "A military junta, led by General Augusto Pinochet, took control of the country. The first years of the regime were marked by human rights violations. Chile actively participated in Operation Condor. In October 1973, at least 72 people were murdered by the Caravan of Death. According to the Rettig Report and Valech Commission, at least 2,115 were killed, and at least 27,265 were tortured (including"
          ],
          [
           "A new Constitution was approved by a controversial plebiscite on 11 September 1980, and General Pinochet became president of the republic for an eight-year term. After Pinochet obtained rule of the country, several hundred committed Chilean revolutionaries joined the Sandinista army in Nicaragua, guerrilla forces in Argentina or training camps in Cuba, Eastern Europe and Northern Africa."
          ],
          [
           "and at least 27,265 were tortured (including 88 children younger than 12 years old). In 2011, Chile recognized an additional 9,800 victims, bringing the total number of killed, tortured or imprisoned for political reasons to 40,018. At the national stadium, filled with detainees, one of those tortured and killed was internationally known poet-singer Víctor Jara (see \"Music and Dance\", below)."
          ],
          [
           "In November 2005 the government launched a campaign under the brand \"Chile: All Ways Surprising\" intended to promote the country internationally for both business and tourism. Museums in Chile such as the Chilean National Museum of Fine Arts built in 1880, feature works by Chilean artists."
          ],
          [
           "Chile is home to the world-renowned Patagonian Trail that resides on the border between Argentina and Chile. Chile recently launched a massive scenic route for tourism in hopes of encouraging development based on conservation. The Route of Parks covers  and was designed by Tompkin Conservation (founders Douglas Tompkins and wife Kristine).\n\nTransport"
          ],
          [
           "access to Concepción and the large project of the Santiago urban highways network, opened between 2004 and 2006. Buses are now the main means of long-distance transportation in Chile, following the decline of its railway network. The bus system covers the entire country, from Arica to Santiago (a 30-hour journey) and from Santiago to Punta Arenas (about 40 hours, with a change at Osorno)."
          ],
          [
           "The Elephant Mountains\n\nChuŏr Phnum Dâmrei - A north-south-trending range of high hills, an extension of the Cardamom/Krâvanh Mountains, in south-eastern Cambodia,  rising to elevations of between 500 and 1,000 meters. Extending  north from the Gulf of Thailand, they reach a high point in the Bok Koŭ ridge at Mount Bokor  near the sea."
          ],
          [
           "The Cardamom Mountains form - including the north-western part of Chanthaburi Province, Thailand, the 'Soi Dao Mountains' - the Cardamom Mountains Moist Forests Ecoregion, that is considered to be one of the most species-rich and intact natural habitats in the region. The climate, size inaccessibility and seclusion of the mountains have allowed a rich variety of wildlife to thrive. The Cardamom"
          ],
          [
           "To the south-west of the Southern mountain ranges extends a narrow coastal plain that contains the Kampong Saom Bay area and the Sihanoukville peninsula, facing the Gulf of Thailand.\n\nNorthern Mountains\n\nThe Dangrek Mountains"
          ],
          [
           "rich variety of wildlife to thrive. The Cardamom and Elephant Mountains remain to be fully researched and documented."
          ],
          [
           "The Cardamom/Krâvanh Mountains"
          ],
          [
           "Occupying Koh Kong Province and Kampong Speu Province, running in a north-western to south-eastern direction and rising to more than . The highest mountain of Cambodia, Phnom Aural, at  is located in Aoral District in Kampong Speu Province."
          ],
          [
           "the absence of strict administrative control and indifference in law enforcement - not only in Cambodia but the entire region."
          ],
          [
           "Figures and assessments are numerous as are available sources.  as seen in numbers below, which provide a wide range for interpretation. About  (1%) of forest cover is planted forest. Overall Cambodia’s forests contain an estimated 464 million metric tonnes of carbon stock in living forest biomass. Approximately 40% of Cambodia’s Forests have some level of protection, while one of the Cambodia"
          ],
          [
           "level of protection, while one of the Cambodia Millennium Development Goals targets is to achieve a 60% forest cover by 2015."
          ],
          [
           "Cambodia has one of the highest levels of forest cover in the region as the interdependence of Cambodia’s geography and hydrology makes it rich in natural resources and biological diversity - among the bio-richest countries in Southeast Asia. The Royal Government of Cambodia estimates Cambodia contains approximately 10.36 million hectares of forest cover, representing approximately 57.07% of"
          ],
          [
           "capability, the aircraft received UK certification, and the first customer aircraft was delivered. Despite this success, the additional investment necessary for the final phase of full production was not forthcoming, the business went into receivership, and John Edgley was forced out. With new owners, aircraft on the production line were completed, and the Optica entered service."
          ],
          [
           "The Edgley EA-7 Optica is a British light aircraft designed for low-speed observation work, and intended as a low-cost alternative to helicopters. The Optica has a loiter speed of 130 km/h (70 kn; 81 mph) and a stall speed of 108 km/h (58 kn; 67 mph).\n\nDesign and development"
          ],
          [
           "The Optica project began in 1974 with a company, Edgley Aircraft Limited, formed by John Edgley who, with a small team, designed and built the original prototype. In 1982, institutional investors bought into the project and set up a production line at Old Sarum Airfield in Wiltshire. Over the next three years, the company was built up to full manufacturing capability, the aircraft received UK"
          ],
          [
           "with due diligence, appraisal and further steps to re launch the EA-7 Optica aircraft programme in the 2018–19 timeframe.  IFG planned to develop, market and support the Optica, outsourcing the fabrication and final assembly to an FAA/EASA Part 23 certified OEM. At the end of 2018, IFG modified its initial program re-launch efforts whilst, again, identifying and selecting a suitable OEM strategic"
          ],
          [
           "of intent, remains active in the search for strategic partners to"
          ],
          [
           "The Optica and the Sprint together then passed through other owners until, in 2007, they were offered to John Edgley who formed a new company, AeroElvira Limited, with three former employees of Edgley Aircraft (Chris Burleigh, Fin Colson and Dave Lee) who at that time were working on both projects for the then-owners.  The new company successfully put G-BOPO back into service as a UK demonstrator,"
          ],
          [
           "G-BOPO back into service as a UK demonstrator, with a first return-to-service flight on 3 June 2008. In August 2016 Interflight Global (IFG) announced plans to start a valuation of the dormant Optica programme with a view to relaunching production.  In December 2016, IFG completed its valuation and in June 2017, delivered an LOI to AeroElvira to continue with due diligence, appraisal and further"
          ],
          [
           "and selecting a suitable OEM strategic partner to update the Optica TC and to bring the aircraft into production. As of the end of 2019, IFG continues to seek for a strategic OEM partner to re-launch the program aligned with optionally piloted and powered by electric or hybrid electric powerplants. As of 2022, IFG, in a post COVID 19 Pandemic re assessment of intent, remains active in the search"
          ],
          [
           "1980s British special-purpose aircraft\nEdgley aircraft\nDucted fan-powered aircraft\nMid-wing aircraft\nAircraft first flown in 1979\nSingle-engined pusher aircraft"
          ],
          [
           "The Optica went through several changes of ownership, until FLS Aerospace (Lovaux Ltd) took over the rights, together with the design and manufacturing rights to the Sprint: a two-seat ab-initio trainer that had been designed by Sydney Holloway in Cornwall UK at about the same time as the Optica. Lovaux had intended to develop both aircraft, with the Sprint intended as the military trainer for the"
          ],
          [
           "Cinema\n\nThe Algerian state's interest in film-industry activities can be seen in the annual budget of DZD 200 million (EUR 1.3 million) allocated to production, specific measures and an ambitious programme plan implemented by the Ministry of Culture in order to promote national production, renovate the cinema stock and remedy the weak links in distribution and exploitation."
          ],
          [
           "singer. Other Algerian singers of the diaspora include Manel Filali in Germany and Kenza Farah in France. Tergui music is sung in Tuareg languages generally, Tinariwen had a worldwide success. Finally, the staïfi music is born in Sétif and remains a unique style of its kind."
          ],
          [
           "Modern music is available in several facets, Raï music is a style typical of western Algeria. Rap, a relatively recent style in Algeria, is experiencing significant growth.\n\nCinema"
          ],
          [
           "Folk music styles include Bedouin music, characterized by the poetic songs based on long kacida (poems); Kabyle music, based on a rich repertoire that is poetry and old tales passed through generations; Shawiya music, a folklore from diverse areas of the Aurès Mountains. Rahaba music style is unique to the Aures. Souad Massi is a rising Algerian folk singer. Other Algerian singers of the diaspora"
          ],
          [
           "Centuries of Arab migration to the Maghreb since the 7th century shifted the demographic scope in Algeria. The majority of the population of Algeria are Arabs (75% to 85% of the population). Berbers who make up 15% to 20% of the population are divided into many groups with varying languages. The largest of these are the Kabyles, who live in the Kabylie region east of Algiers, the Chaoui of"
          ],
          [
           "During the colonial period, there was a large (10% in 1960) European population who became known as Pied-Noirs. They were primarily of French, Spanish and Italian origin. Almost all of this population left during the war of independence or immediately after its end.\n\nLanguages"
          ],
          [
           "Languages\n\nModern Standard Arabic and Berber are the official languages. Algerian Arabic (Darja) is the language used by the majority of the population. Colloquial Algerian Arabic has some Berber loanwords which represent 8% to 9% of its vocabulary."
          ],
          [
           "the Kabylie region east of Algiers, the Chaoui of Northeast Algeria, the Tuaregs in the southern desert and the Shenwa people of North Algeria."
          ],
          [
           "The financial support provided by the state, through the Fund for the Development of the Arts, Techniques and the Film Industry (FDATIC) and the Algerian Agency for Cultural Influence (AARC), plays a key role in the promotion of national production. Between 2007 and 2013, FDATIC subsidised 98 films (feature films, documentaries and short films). In mid-2013, AARC had already supported a total of"
          ],
          [
           "According to the European Audiovisual Observatory's LUMIERE database, 41 Algerian films were distributed in Europe between 1996 and 2013; 21 films in this repertoire were Algerian-French co-productions. Days of Glory (2006) and Outside the Law (2010) recorded the highest number of admissions in the European Union, 3,172,612 and 474,722, respectively."
          ],
          [
           "Dwan has a star on the Hollywood Walk of Fame at 6263 Hollywood Boulevard.\n\nDaniel Eagan of Film Journal International described Dwan as one of the early pioneers of cinema, stating that his style \"is so basic as to seem invisible, but he treats his characters with uncommon sympathy and compassion.\"\n\nPartial filmography as director"
          ],
          [
           "The Restless Spirit (1913)\nBack to Life (1913)\nBloodhounds of the North (1913)\nThe Lie (1914)\nThe Honor of the Mounted (1914)\n The Unwelcome Mrs. Hatch (1914)\nRemember Mary Magdalen (1914)\nDiscord and Harmony (1914)\nThe Embezzler (1914)\nThe Lamb, the Woman, the Wolf (1914)\nThe End of the Feud (1914)\nThe Test (1914) (*writer)\nThe Tragedy of Whispering Creek (1914)\nThe Unlawful Trade (1914)"
          ],
          [
           "The Unlawful Trade (1914)\nThe Forbidden Room (1914)\nThe Hopes of Blind Alley (1914)\nRichelieu (1914)\n Wildflower (1914)\nA Small Town Girl (1915)\nDavid Harum (1915)\nA Girl of Yesterday (1915)\nThe Pretty Sister of Jose (1915)\n Jordan Is a Hard Road (1915)\nThe Habit of Happiness (1916)\nThe Good Bad Man (1916)\nAn Innocent Magdalene (1916)\nThe Half-Breed (1916)\nManhattan Madness (1916)"
          ],
          [
           "Summer Bachelors (1926)\nTin Gods (1926)\nFrench Dressing (1927)\nThe Joy Girl (1927)"
          ],
          [
           "The Forbidden Thing (1920) also producer\nA Splendid Hazard (1920)\nA Perfect Crime (1921)\n The Sin of Martha Queed (1921)\n A Broken Doll (1921)\nRobin Hood (1922)\nZaza (1923)\nBig Brother (1923)\nManhandled (1924)\nArgentine Love (1924)\nThe Coast of Folly (1925)\nNight Life of New York (1925)\nStage Struck (1925)\nPadlocked (1926)\nSea Horses (1926)\nSummer Bachelors (1926)\nTin Gods (1926)"
          ],
          [
           "The Half-Breed (1916)\nManhattan Madness (1916)\nAccusing Evidence (1916)\nPanthea (1917)\nA Modern Musketeer (1917)\nBound in Morocco (1918)\nHeadin' South (1918)\nMr. Fix-It (1918)\nHe Comes Up Smiling (1918)\nCheating Cheaters (1919)\nThe Dark Star (1919)\nGetting Mary Married (1919)\nSoldiers of Fortune (1919)\nIn The Heart of a Fool (1920) also producer\nThe Forbidden Thing (1920) also producer"
          ],
          [
           "short, also featuring Thomas Meighan and Henri de la Falaise, was produced as a joke, for the April 26, 1925 \"Lambs' Gambol\" for The Lambs, with the film showing Swanson crashing the all-male club."
          ],
          [
           "Following the introduction of the talkies, Dwan directed child-star Shirley Temple in Heidi (1937) and Rebecca of Sunnybrook Farm (1938)."
          ],
          [
           "Dwan helped launch the career of two other successful Hollywood directors, Victor Fleming, who went on to direct The Wizard of Oz and Gone With the Wind, and Marshall Neilan, who became an actor, director, writer and producer. Over a long career spanning almost 50 years, Dwan directed 125 motion pictures, some of which were highly acclaimed, such as the 1949 box office hit, Sands of Iwo Jima. He"
          ],
          [
           "After making a series of westerns and comedies, Dwan directed fellow Canadian-American Mary Pickford in several very successful movies as well as her husband, Douglas Fairbanks, notably in the acclaimed 1922 Robin Hood. Dwan directed Gloria Swanson in eight feature films, and one short film made in the short-lived sound-on-film process Phonofilm. This short, also featuring Thomas Meighan and Henri"
          ],
          [
           "to catering and various niche markets, the most significant being nautical tourism, as there are numerous marinas with more than 16 thousand berths, cultural tourism relying on appeal of medieval coastal cities and numerous cultural events taking place during the summer. Inland areas offer mountain resorts, agrotourism and spas. Zagreb is also a significant tourist destination, rivalling major"
          ],
          [
           "Croatia has unpolluted marine areas reflected through numerous nature reserves and 99 Blue Flag beaches and 28 Blue Flag marinas. Croatia is ranked as the 18th most popular tourist destination in the world. About 15% of these visitors (over one million per year) are involved with naturism, an industry for which Croatia is world-famous. It was also the first European country to develop commercial"
          ],
          [
           "the first European country to develop commercial naturist resorts."
          ],
          [
           "significant tourist destination, rivalling major coastal cities and resorts."
          ],
          [
           "The bulk of the tourist industry is concentrated along the Adriatic Sea coast. Opatija was the first holiday resort since the middle of the 19th century. By the 1890s, it became one of the most significant European health resorts. Later a large number of resorts sprang up along the coast and numerous islands, offering services ranging from mass tourism to catering and various niche markets, the"
          ],
          [
           "the Danube, representing the nation's outlet to the Pan-European transport corridor VII."
          ],
          [
           "Energy"
          ],
          [
           "Croatia has an extensive rail network spanning , including  of electrified railways and  of double track railways. The most significant railways in Croatia are found within the Pan-European transport corridors Vb and X connecting Rijeka to Budapest and Ljubljana to Belgrade, both via Zagreb. All rail services are operated by Croatian Railways."
          ],
          [
           "The busiest cargo seaport in Croatia is the Port of Rijeka and the busiest passenger ports are Split and Zadar. In addition to those, a large number of minor ports serve an extensive system of ferries connecting numerous islands and coastal cities in addition to ferry lines to several cities in Italy. The largest river port is Vukovar, located on the Danube, representing the nation's outlet to"
          ],
          [
           "There are international airports in Zagreb, Zadar, Split, Dubrovnik, Rijeka, Osijek and Pula. As of January 2011, Croatia complies with International Civil Aviation Organization aviation safety standards and the Federal Aviation Administration upgraded it to Category 1 rating."
          ],
          [
           "On 1 and 11 April 1895, the main rebel leaders landed on two expeditions in Oriente: Major Antonio Maceo and 22 members near Baracoa and Martí, Máximo Gómez and four other members in Playitas. Around that time, Spanish forces in Cuba numbered about 80,000, including 60,000 Spanish and Cuban volunteers. The latter were a locally enlisted force that took care of most of the guard and police duties"
          ],
          [
           "took care of most of the guard and police duties on the island. By December, 98,412 regular troops had been sent to the island and the number of volunteers had increased to 63,000 men. By the end of 1897, there were 240,000 regulars and 60,000 irregulars on the island. The revolutionaries were far outnumbered."
          ],
          [
           "The rebels came to be nicknamed \"Mambis\" after a black Spanish officer, Juan Ethninius Mamby, who joined the Dominicans in the fight for independence in 1846. When the Ten Years' War broke out in 1868, some of the same soldiers were assigned to Cuba, importing what had by then become a derogatory Spanish slur. The Cubans adopted the name with pride."
          ],
          [
           "These changes also entailed the rise of labour movements. The first Cuban labour organization, the Cigar Makers Guild, was created in 1878, followed by the Central Board of Artisans in 1879, and many more across the island. Abroad, a new trend of aggressive American influence emerged. Secretary of State James G. Blaine placed particular importance on the control of Cuba: \"If ever ceasing to be"
          ],
          [
           "on the control of Cuba: \"If ever ceasing to be Spanish, Cuba must necessarily become American and not fall under any other European domination\"."
          ],
          [
           "During the time of the so-called \"Rewarding Truce\", which encompassed the 17 years from the end of the Ten Years' War in 1878, fundamental changes took place in Cuban society. With the abolition of slavery in October 1886, former slaves joined the ranks of farmers and urban working class. Most wealthy Cubans lost their rural properties, and many of them joined the urban middle class. The number"
          ],
          [
           "of them joined the urban middle class. The number of sugar mills dropped and efficiency increased, with only companies and the most powerful plantation owners owning them. The numbers of campesinos and tenant farmers rose considerably. Furthermore, American capital began flowing into Cuba, mostly into the sugar and tobacco businesses and mining. By 1895, these investments totalled $50 million."
          ],
          [
           "By 1895, these investments totalled $50 million. Although Cuba remained Spanish politically, economically it became increasingly dependent on the United States."
          ],
          [
           "Conflicts in the late 19th century (1886–1900)"
          ],
          [
           "Background"
          ]
         ],
         "hovertemplate": "color=Edgley Optica<br>x=%{x}<br>y=%{y}<br>metadata=%{customdata[0]}<extra></extra>",
         "legendgroup": "Edgley Optica",
         "marker": {
          "color": "#19d3f3",
          "symbol": "circle",
          "size": 8
         },
         "mode": "markers",
         "name": "Edgley Optica",
         "orientation": "v",
         "showlegend": true,
         "x": {
          "dtype": "f4",
          "bdata": "3XHeQBBW1kAX1NRAEIfTQHNZ1UCBOddACJTSQHyK2EBJVdxAszzSQA=="
         },
         "xaxis": "x",
         "y": {
          "dtype": "f4",
          "bdata": "lexaQRdmXEGhg11ByPhZQa9lT0E/UldBHupVQfqYVEHQE19BLFpdQQ=="
         },
         "yaxis": "y",
         "type": "scatter"
        },
        {
         "customdata": [
          [
           "benzodiazepines and nonbenzodiazepines. Dependence upon and withdrawal from sedative-hypnotics can be medically severe and, as with alcohol withdrawal, there is a risk of psychosis or seizures if not properly managed."
          ],
          [
           "requires careful reduction in dosage to avoid benzodiazepine withdrawal syndrome and other health consequences. Dependence on other sedative-hypnotics such as zolpidem and zopiclone as well as opiates and illegal drugs is common in alcoholics. Alcohol itself is a sedative-hypnotic and is cross-tolerant with other sedative-hypnotics such as barbiturates, benzodiazepines and nonbenzodiazepines."
          ],
          [
           "Dual addictions and dependencies"
          ],
          [
           "Epidemiology"
          ],
          [
           "or clonazepam. These drugs are, like alcohol, depressants. Benzodiazepines may be used legally, if they are prescribed by doctors for anxiety problems or other mood disorders, or they may be purchased as illegal drugs. Benzodiazepine use increases cravings for alcohol and the volume of alcohol consumed by problem drinkers. Benzodiazepine dependency requires careful reduction in dosage to avoid"
          ],
          [
           "Alcoholics may also require treatment for other psychotropic drug addictions and drug dependencies. The most common dual dependence syndrome with alcohol dependence is benzodiazepine dependence, with studies showing 10–20% of alcohol-dependent individuals had problems of dependence and/or misuse problems of benzodiazepine drugs such as diazepam or clonazepam. These drugs are, like alcohol,"
          ],
          [
           "Alcohol withdrawal"
          ],
          [
           "Serious social problems arise from alcohol use disorder; these dilemmas are caused by the pathological changes in the brain and the intoxicating effects of alcohol. Alcohol misuse is associated with an increased risk of committing criminal offences, including child abuse, domestic violence, rape, burglary and assault. Alcoholism is associated with loss of employment, which can lead to financial"
          ],
          [
           "with alcohol use disorders can develop a number of emotional problems. For example, they can become afraid of their parents, because of their unstable mood behaviors. They may develop shame over their inadequacy to liberate their parents from alcoholism and, as a result of this, may develop self-image problems, which can lead to depression."
          ],
          [
           "loss of employment, which can lead to financial problems. Drinking at inappropriate times and behavior caused by reduced judgment can lead to legal consequences, such as criminal charges for drunk driving or public disorder, or civil penalties for tortious behavior. An alcoholic's behavior and mental impairment while drunk can profoundly affect those surrounding him and lead to isolation from"
          ],
          [
           "Former Misery ( )\nFuture Blessing ( )\nDivine Announcement: Zerubbabel Chosen as a Signet  ( )"
          ],
          [
           "Divine Announcement: The Command to Rebuild the Temple  ( )\nIntroduction: Reluctant Rebuilders  ( )\nConsider your ways: fruitless prosperity ( )\nPromise and Progress  ( )\nDivine Announcement: The Coming Glory of the Temple  ( )\nGod will fulfill his promise ( ) \nFuture Splendor of the temple ( )\nDivine Announcement: Blessings for a Defiled People  ( )\nFormer Misery ( )\nFuture Blessing ( )"
          ],
          [
           "Notes\n\nReferences\n\nWorks cited\n\nExternal links \n\nJewish translations:\n Chaggai – Haggai (Judaica Press) translation with Rashi's commentary at Chabad.org\nChristian translations:\nOnline Bible at GospelHall.org (ESV, KJV, Darby, American Standard Version, Bible in Basic English)\n  Various versions\n\n \n6th-century BC books\nTwelve Minor Prophets"
          ],
          [
           "Outline"
          ],
          [
           "Music \nThe King James Version of Haggai 2:6–7 is used in the libretto of the English-language oratorio \"Messiah\" by George Frideric Handel (HWV 56).\n\nSee also \nDarius I\nJoshua the High Priest , son of Jehozadak\nOld Testament messianic prophecies quoted in the New Testament\n\nNotes\n\nReferences\n\nWorks cited\n\nExternal links"
          ],
          [
           "75–50 BCE); and Wadi Murabba'at Minor Prophets (Mur88; MurXIIProph; 75-100 CE)."
          ],
          [
           "text is uncertain but most likely dates to within a generation of Haggai himself. Traditional consensus dates the completion of the text to c. 515 BC. Other scholars consider the book to be completed around 417 BC, as it did not refer to Darius I, but to Darius II (424-405 BC)."
          ],
          [
           "Date"
          ],
          [
           "The Book of Haggai records events in 520 BC, some 18 years after Cyrus had conquered Babylon and issued a decree in 538 BC, allowing the captive Judahites to return to Judea. Cyrus saw the restoration of the temple as necessary for the restoration of religious practices and a sense of peoplehood, after the long exile. The precise date of the written text is uncertain but most likely dates to"
          ],
          [
           "Some early manuscripts containing the text of this book in Biblical Hebrew are of the Masoretic Text, which includes the Codex Cairensis (895), the Petersburg Codex of the Prophets (916), and Codex Leningradensis (1008). Fragments of the Hebrew text of this book were found among the Dead Sea Scrolls, including 4Q77 (4QXIIb; 150–125 BCE) 4Q80 (4QXIIe; 75–50 BCE); and Wadi Murabba'at Minor Prophets"
          ],
          [
           "the phenomena of gravitational time dilation, gravitational redshift and gravitational lensing."
          ],
          [
           "In 1911, Einstein published another article \"On the Influence of Gravitation on the Propagation of Light\" expanding on the 1907 article, in which he estimated the amount of deflection of light by massive bodies. Thus, the theoretical prediction of general relativity could for the first time be tested experimentally."
          ],
          [
           "under special relativity. In that article titled \"On the Relativity Principle and the Conclusions Drawn from It\", he argued that free fall is really inertial motion, and that for a free-falling observer the rules of special relativity must apply. This argument is called the equivalence principle. In the same article, Einstein also predicted the phenomena of gravitational time dilation,"
          ],
          [
           "As Einstein later said, the reason for the development of general relativity was that the preference of inertial motions within special relativity was unsatisfactory, while a theory which from the outset prefers no state of motion (even accelerated ones) should appear more satisfactory. Consequently, in 1907 he published an article on acceleration under special relativity. In that article titled"
          ],
          [
           "as they were being denied citizenship elsewhere. In his speech he described Einstein as a \"citizen of the world\" who should be offered a temporary shelter in the UK. Both bills failed, however, and Einstein then accepted an earlier offer from the Institute for Advanced Study, in Princeton, New Jersey, US, to become a resident scholar."
          ],
          [
           "On 3 October 1933, Einstein delivered a speech on the importance of academic freedom before a packed audience at the Royal Albert Hall in London, with The Times reporting he was wildly cheered throughout. Four days later he returned to the US and took up a position at the Institute for Advanced Study, noted for having become a refuge for scientists fleeing Nazi Germany. At the time, most American"
          ],
          [
           "fleeing Nazi Germany. At the time, most American universities, including Harvard, Princeton and Yale, had minimal or no Jewish faculty or students, as a result of their Jewish quotas, which lasted until the late 1940s."
          ],
          [
           "Resident scholar at the Institute for Advanced Study"
          ],
          [
           "Locker-Lampson also submitted a bill to parliament to extend British citizenship to Einstein, during which period Einstein made a number of public appearances describing the crisis brewing in Europe. In one of his speeches he denounced Germany's treatment of Jews, while at the same time he introduced a bill promoting Jewish citizenship in Palestine, as they were being denied citizenship elsewhere."
          ],
          [
           "Einsteinium, one of the synthetic elements in the periodic table, was named in his honor.\n\nPublications\n\nScientific"
          ],
          [
           "In 1520, while attempting to circumnavigate the globe, Ferdinand Magellan discovered the southern passage now named after him (the Strait of Magellan) thus becoming the first European to set foot on what is now Chile. The next Europeans to reach Chile were Diego de Almagro and his band of Spanish conquistadors, who came from Peru in 1535 seeking gold. The Spanish encountered various cultures that"
          ],
          [
           "The Spanish encountered various cultures that supported themselves principally through slash-and-burn agriculture and hunting."
          ],
          [
           "Spanish colonization"
          ],
          [
           "The conquest of Chile began in earnest in 1540 and was carried out by Pedro de Valdivia, one of Francisco Pizarro's lieutenants, who founded the city of Santiago on 12 February 1541. Although the Spanish did not find the extensive gold and silver they sought, they recognized the agricultural potential of Chile's central valley, and Chile became part of the Spanish Empire."
          ],
          [
           "A military junta, led by General Augusto Pinochet, took control of the country. The first years of the regime were marked by human rights violations. Chile actively participated in Operation Condor. In October 1973, at least 72 people were murdered by the Caravan of Death. According to the Rettig Report and Valech Commission, at least 2,115 were killed, and at least 27,265 were tortured (including"
          ],
          [
           "A new Constitution was approved by a controversial plebiscite on 11 September 1980, and General Pinochet became president of the republic for an eight-year term. After Pinochet obtained rule of the country, several hundred committed Chilean revolutionaries joined the Sandinista army in Nicaragua, guerrilla forces in Argentina or training camps in Cuba, Eastern Europe and Northern Africa."
          ],
          [
           "and at least 27,265 were tortured (including 88 children younger than 12 years old). In 2011, Chile recognized an additional 9,800 victims, bringing the total number of killed, tortured or imprisoned for political reasons to 40,018. At the national stadium, filled with detainees, one of those tortured and killed was internationally known poet-singer Víctor Jara (see \"Music and Dance\", below)."
          ],
          [
           "In November 2005 the government launched a campaign under the brand \"Chile: All Ways Surprising\" intended to promote the country internationally for both business and tourism. Museums in Chile such as the Chilean National Museum of Fine Arts built in 1880, feature works by Chilean artists."
          ],
          [
           "Chile is home to the world-renowned Patagonian Trail that resides on the border between Argentina and Chile. Chile recently launched a massive scenic route for tourism in hopes of encouraging development based on conservation. The Route of Parks covers  and was designed by Tompkin Conservation (founders Douglas Tompkins and wife Kristine).\n\nTransport"
          ],
          [
           "access to Concepción and the large project of the Santiago urban highways network, opened between 2004 and 2006. Buses are now the main means of long-distance transportation in Chile, following the decline of its railway network. The bus system covers the entire country, from Arica to Santiago (a 30-hour journey) and from Santiago to Punta Arenas (about 40 hours, with a change at Osorno)."
          ],
          [
           "The Elephant Mountains\n\nChuŏr Phnum Dâmrei - A north-south-trending range of high hills, an extension of the Cardamom/Krâvanh Mountains, in south-eastern Cambodia,  rising to elevations of between 500 and 1,000 meters. Extending  north from the Gulf of Thailand, they reach a high point in the Bok Koŭ ridge at Mount Bokor  near the sea."
          ],
          [
           "The Cardamom Mountains form - including the north-western part of Chanthaburi Province, Thailand, the 'Soi Dao Mountains' - the Cardamom Mountains Moist Forests Ecoregion, that is considered to be one of the most species-rich and intact natural habitats in the region. The climate, size inaccessibility and seclusion of the mountains have allowed a rich variety of wildlife to thrive. The Cardamom"
          ],
          [
           "To the south-west of the Southern mountain ranges extends a narrow coastal plain that contains the Kampong Saom Bay area and the Sihanoukville peninsula, facing the Gulf of Thailand.\n\nNorthern Mountains\n\nThe Dangrek Mountains"
          ],
          [
           "rich variety of wildlife to thrive. The Cardamom and Elephant Mountains remain to be fully researched and documented."
          ],
          [
           "The Cardamom/Krâvanh Mountains"
          ],
          [
           "Occupying Koh Kong Province and Kampong Speu Province, running in a north-western to south-eastern direction and rising to more than . The highest mountain of Cambodia, Phnom Aural, at  is located in Aoral District in Kampong Speu Province."
          ],
          [
           "the absence of strict administrative control and indifference in law enforcement - not only in Cambodia but the entire region."
          ],
          [
           "Figures and assessments are numerous as are available sources.  as seen in numbers below, which provide a wide range for interpretation. About  (1%) of forest cover is planted forest. Overall Cambodia’s forests contain an estimated 464 million metric tonnes of carbon stock in living forest biomass. Approximately 40% of Cambodia’s Forests have some level of protection, while one of the Cambodia"
          ],
          [
           "level of protection, while one of the Cambodia Millennium Development Goals targets is to achieve a 60% forest cover by 2015."
          ],
          [
           "Cambodia has one of the highest levels of forest cover in the region as the interdependence of Cambodia’s geography and hydrology makes it rich in natural resources and biological diversity - among the bio-richest countries in Southeast Asia. The Royal Government of Cambodia estimates Cambodia contains approximately 10.36 million hectares of forest cover, representing approximately 57.07% of"
          ],
          [
           "capability, the aircraft received UK certification, and the first customer aircraft was delivered. Despite this success, the additional investment necessary for the final phase of full production was not forthcoming, the business went into receivership, and John Edgley was forced out. With new owners, aircraft on the production line were completed, and the Optica entered service."
          ],
          [
           "The Edgley EA-7 Optica is a British light aircraft designed for low-speed observation work, and intended as a low-cost alternative to helicopters. The Optica has a loiter speed of 130 km/h (70 kn; 81 mph) and a stall speed of 108 km/h (58 kn; 67 mph).\n\nDesign and development"
          ],
          [
           "The Optica project began in 1974 with a company, Edgley Aircraft Limited, formed by John Edgley who, with a small team, designed and built the original prototype. In 1982, institutional investors bought into the project and set up a production line at Old Sarum Airfield in Wiltshire. Over the next three years, the company was built up to full manufacturing capability, the aircraft received UK"
          ],
          [
           "with due diligence, appraisal and further steps to re launch the EA-7 Optica aircraft programme in the 2018–19 timeframe.  IFG planned to develop, market and support the Optica, outsourcing the fabrication and final assembly to an FAA/EASA Part 23 certified OEM. At the end of 2018, IFG modified its initial program re-launch efforts whilst, again, identifying and selecting a suitable OEM strategic"
          ],
          [
           "of intent, remains active in the search for strategic partners to"
          ],
          [
           "The Optica and the Sprint together then passed through other owners until, in 2007, they were offered to John Edgley who formed a new company, AeroElvira Limited, with three former employees of Edgley Aircraft (Chris Burleigh, Fin Colson and Dave Lee) who at that time were working on both projects for the then-owners.  The new company successfully put G-BOPO back into service as a UK demonstrator,"
          ],
          [
           "G-BOPO back into service as a UK demonstrator, with a first return-to-service flight on 3 June 2008. In August 2016 Interflight Global (IFG) announced plans to start a valuation of the dormant Optica programme with a view to relaunching production.  In December 2016, IFG completed its valuation and in June 2017, delivered an LOI to AeroElvira to continue with due diligence, appraisal and further"
          ],
          [
           "and selecting a suitable OEM strategic partner to update the Optica TC and to bring the aircraft into production. As of the end of 2019, IFG continues to seek for a strategic OEM partner to re-launch the program aligned with optionally piloted and powered by electric or hybrid electric powerplants. As of 2022, IFG, in a post COVID 19 Pandemic re assessment of intent, remains active in the search"
          ],
          [
           "1980s British special-purpose aircraft\nEdgley aircraft\nDucted fan-powered aircraft\nMid-wing aircraft\nAircraft first flown in 1979\nSingle-engined pusher aircraft"
          ],
          [
           "The Optica went through several changes of ownership, until FLS Aerospace (Lovaux Ltd) took over the rights, together with the design and manufacturing rights to the Sprint: a two-seat ab-initio trainer that had been designed by Sydney Holloway in Cornwall UK at about the same time as the Optica. Lovaux had intended to develop both aircraft, with the Sprint intended as the military trainer for the"
          ],
          [
           "Cinema\n\nThe Algerian state's interest in film-industry activities can be seen in the annual budget of DZD 200 million (EUR 1.3 million) allocated to production, specific measures and an ambitious programme plan implemented by the Ministry of Culture in order to promote national production, renovate the cinema stock and remedy the weak links in distribution and exploitation."
          ],
          [
           "singer. Other Algerian singers of the diaspora include Manel Filali in Germany and Kenza Farah in France. Tergui music is sung in Tuareg languages generally, Tinariwen had a worldwide success. Finally, the staïfi music is born in Sétif and remains a unique style of its kind."
          ],
          [
           "Modern music is available in several facets, Raï music is a style typical of western Algeria. Rap, a relatively recent style in Algeria, is experiencing significant growth.\n\nCinema"
          ],
          [
           "Folk music styles include Bedouin music, characterized by the poetic songs based on long kacida (poems); Kabyle music, based on a rich repertoire that is poetry and old tales passed through generations; Shawiya music, a folklore from diverse areas of the Aurès Mountains. Rahaba music style is unique to the Aures. Souad Massi is a rising Algerian folk singer. Other Algerian singers of the diaspora"
          ],
          [
           "Centuries of Arab migration to the Maghreb since the 7th century shifted the demographic scope in Algeria. The majority of the population of Algeria are Arabs (75% to 85% of the population). Berbers who make up 15% to 20% of the population are divided into many groups with varying languages. The largest of these are the Kabyles, who live in the Kabylie region east of Algiers, the Chaoui of"
          ],
          [
           "During the colonial period, there was a large (10% in 1960) European population who became known as Pied-Noirs. They were primarily of French, Spanish and Italian origin. Almost all of this population left during the war of independence or immediately after its end.\n\nLanguages"
          ],
          [
           "Languages\n\nModern Standard Arabic and Berber are the official languages. Algerian Arabic (Darja) is the language used by the majority of the population. Colloquial Algerian Arabic has some Berber loanwords which represent 8% to 9% of its vocabulary."
          ],
          [
           "the Kabylie region east of Algiers, the Chaoui of Northeast Algeria, the Tuaregs in the southern desert and the Shenwa people of North Algeria."
          ],
          [
           "The financial support provided by the state, through the Fund for the Development of the Arts, Techniques and the Film Industry (FDATIC) and the Algerian Agency for Cultural Influence (AARC), plays a key role in the promotion of national production. Between 2007 and 2013, FDATIC subsidised 98 films (feature films, documentaries and short films). In mid-2013, AARC had already supported a total of"
          ],
          [
           "According to the European Audiovisual Observatory's LUMIERE database, 41 Algerian films were distributed in Europe between 1996 and 2013; 21 films in this repertoire were Algerian-French co-productions. Days of Glory (2006) and Outside the Law (2010) recorded the highest number of admissions in the European Union, 3,172,612 and 474,722, respectively."
          ],
          [
           "Dwan has a star on the Hollywood Walk of Fame at 6263 Hollywood Boulevard.\n\nDaniel Eagan of Film Journal International described Dwan as one of the early pioneers of cinema, stating that his style \"is so basic as to seem invisible, but he treats his characters with uncommon sympathy and compassion.\"\n\nPartial filmography as director"
          ],
          [
           "The Restless Spirit (1913)\nBack to Life (1913)\nBloodhounds of the North (1913)\nThe Lie (1914)\nThe Honor of the Mounted (1914)\n The Unwelcome Mrs. Hatch (1914)\nRemember Mary Magdalen (1914)\nDiscord and Harmony (1914)\nThe Embezzler (1914)\nThe Lamb, the Woman, the Wolf (1914)\nThe End of the Feud (1914)\nThe Test (1914) (*writer)\nThe Tragedy of Whispering Creek (1914)\nThe Unlawful Trade (1914)"
          ],
          [
           "The Unlawful Trade (1914)\nThe Forbidden Room (1914)\nThe Hopes of Blind Alley (1914)\nRichelieu (1914)\n Wildflower (1914)\nA Small Town Girl (1915)\nDavid Harum (1915)\nA Girl of Yesterday (1915)\nThe Pretty Sister of Jose (1915)\n Jordan Is a Hard Road (1915)\nThe Habit of Happiness (1916)\nThe Good Bad Man (1916)\nAn Innocent Magdalene (1916)\nThe Half-Breed (1916)\nManhattan Madness (1916)"
          ],
          [
           "Summer Bachelors (1926)\nTin Gods (1926)\nFrench Dressing (1927)\nThe Joy Girl (1927)"
          ],
          [
           "The Forbidden Thing (1920) also producer\nA Splendid Hazard (1920)\nA Perfect Crime (1921)\n The Sin of Martha Queed (1921)\n A Broken Doll (1921)\nRobin Hood (1922)\nZaza (1923)\nBig Brother (1923)\nManhandled (1924)\nArgentine Love (1924)\nThe Coast of Folly (1925)\nNight Life of New York (1925)\nStage Struck (1925)\nPadlocked (1926)\nSea Horses (1926)\nSummer Bachelors (1926)\nTin Gods (1926)"
          ],
          [
           "The Half-Breed (1916)\nManhattan Madness (1916)\nAccusing Evidence (1916)\nPanthea (1917)\nA Modern Musketeer (1917)\nBound in Morocco (1918)\nHeadin' South (1918)\nMr. Fix-It (1918)\nHe Comes Up Smiling (1918)\nCheating Cheaters (1919)\nThe Dark Star (1919)\nGetting Mary Married (1919)\nSoldiers of Fortune (1919)\nIn The Heart of a Fool (1920) also producer\nThe Forbidden Thing (1920) also producer"
          ],
          [
           "short, also featuring Thomas Meighan and Henri de la Falaise, was produced as a joke, for the April 26, 1925 \"Lambs' Gambol\" for The Lambs, with the film showing Swanson crashing the all-male club."
          ],
          [
           "Following the introduction of the talkies, Dwan directed child-star Shirley Temple in Heidi (1937) and Rebecca of Sunnybrook Farm (1938)."
          ],
          [
           "Dwan helped launch the career of two other successful Hollywood directors, Victor Fleming, who went on to direct The Wizard of Oz and Gone With the Wind, and Marshall Neilan, who became an actor, director, writer and producer. Over a long career spanning almost 50 years, Dwan directed 125 motion pictures, some of which were highly acclaimed, such as the 1949 box office hit, Sands of Iwo Jima. He"
          ],
          [
           "After making a series of westerns and comedies, Dwan directed fellow Canadian-American Mary Pickford in several very successful movies as well as her husband, Douglas Fairbanks, notably in the acclaimed 1922 Robin Hood. Dwan directed Gloria Swanson in eight feature films, and one short film made in the short-lived sound-on-film process Phonofilm. This short, also featuring Thomas Meighan and Henri"
          ],
          [
           "to catering and various niche markets, the most significant being nautical tourism, as there are numerous marinas with more than 16 thousand berths, cultural tourism relying on appeal of medieval coastal cities and numerous cultural events taking place during the summer. Inland areas offer mountain resorts, agrotourism and spas. Zagreb is also a significant tourist destination, rivalling major"
          ],
          [
           "Croatia has unpolluted marine areas reflected through numerous nature reserves and 99 Blue Flag beaches and 28 Blue Flag marinas. Croatia is ranked as the 18th most popular tourist destination in the world. About 15% of these visitors (over one million per year) are involved with naturism, an industry for which Croatia is world-famous. It was also the first European country to develop commercial"
          ],
          [
           "the first European country to develop commercial naturist resorts."
          ],
          [
           "significant tourist destination, rivalling major coastal cities and resorts."
          ],
          [
           "The bulk of the tourist industry is concentrated along the Adriatic Sea coast. Opatija was the first holiday resort since the middle of the 19th century. By the 1890s, it became one of the most significant European health resorts. Later a large number of resorts sprang up along the coast and numerous islands, offering services ranging from mass tourism to catering and various niche markets, the"
          ],
          [
           "the Danube, representing the nation's outlet to the Pan-European transport corridor VII."
          ],
          [
           "Energy"
          ],
          [
           "Croatia has an extensive rail network spanning , including  of electrified railways and  of double track railways. The most significant railways in Croatia are found within the Pan-European transport corridors Vb and X connecting Rijeka to Budapest and Ljubljana to Belgrade, both via Zagreb. All rail services are operated by Croatian Railways."
          ],
          [
           "The busiest cargo seaport in Croatia is the Port of Rijeka and the busiest passenger ports are Split and Zadar. In addition to those, a large number of minor ports serve an extensive system of ferries connecting numerous islands and coastal cities in addition to ferry lines to several cities in Italy. The largest river port is Vukovar, located on the Danube, representing the nation's outlet to"
          ],
          [
           "There are international airports in Zagreb, Zadar, Split, Dubrovnik, Rijeka, Osijek and Pula. As of January 2011, Croatia complies with International Civil Aviation Organization aviation safety standards and the Federal Aviation Administration upgraded it to Category 1 rating."
          ],
          [
           "On 1 and 11 April 1895, the main rebel leaders landed on two expeditions in Oriente: Major Antonio Maceo and 22 members near Baracoa and Martí, Máximo Gómez and four other members in Playitas. Around that time, Spanish forces in Cuba numbered about 80,000, including 60,000 Spanish and Cuban volunteers. The latter were a locally enlisted force that took care of most of the guard and police duties"
          ],
          [
           "took care of most of the guard and police duties on the island. By December, 98,412 regular troops had been sent to the island and the number of volunteers had increased to 63,000 men. By the end of 1897, there were 240,000 regulars and 60,000 irregulars on the island. The revolutionaries were far outnumbered."
          ],
          [
           "The rebels came to be nicknamed \"Mambis\" after a black Spanish officer, Juan Ethninius Mamby, who joined the Dominicans in the fight for independence in 1846. When the Ten Years' War broke out in 1868, some of the same soldiers were assigned to Cuba, importing what had by then become a derogatory Spanish slur. The Cubans adopted the name with pride."
          ],
          [
           "These changes also entailed the rise of labour movements. The first Cuban labour organization, the Cigar Makers Guild, was created in 1878, followed by the Central Board of Artisans in 1879, and many more across the island. Abroad, a new trend of aggressive American influence emerged. Secretary of State James G. Blaine placed particular importance on the control of Cuba: \"If ever ceasing to be"
          ],
          [
           "on the control of Cuba: \"If ever ceasing to be Spanish, Cuba must necessarily become American and not fall under any other European domination\"."
          ],
          [
           "During the time of the so-called \"Rewarding Truce\", which encompassed the 17 years from the end of the Ten Years' War in 1878, fundamental changes took place in Cuban society. With the abolition of slavery in October 1886, former slaves joined the ranks of farmers and urban working class. Most wealthy Cubans lost their rural properties, and many of them joined the urban middle class. The number"
          ],
          [
           "of them joined the urban middle class. The number of sugar mills dropped and efficiency increased, with only companies and the most powerful plantation owners owning them. The numbers of campesinos and tenant farmers rose considerably. Furthermore, American capital began flowing into Cuba, mostly into the sugar and tobacco businesses and mining. By 1895, these investments totalled $50 million."
          ],
          [
           "By 1895, these investments totalled $50 million. Although Cuba remained Spanish politically, economically it became increasingly dependent on the United States."
          ],
          [
           "Conflicts in the late 19th century (1886–1900)"
          ],
          [
           "Background"
          ]
         ],
         "hovertemplate": "color=Algeria<br>x=%{x}<br>y=%{y}<br>metadata=%{customdata[0]}<extra></extra>",
         "legendgroup": "Algeria",
         "marker": {
          "color": "#FF6692",
          "symbol": "circle",
          "size": 8
         },
         "mode": "markers",
         "name": "Algeria",
         "orientation": "v",
         "showlegend": true,
         "x": {
          "dtype": "f4",
          "bdata": "hpCvQFYfvUC2FLZAgQ7EQOtCzEC2fqJAx/rDQNG00kD5RaRAC0GqQA=="
         },
         "xaxis": "x",
         "y": {
          "dtype": "f4",
          "bdata": "W4QQQYj0DEHzAQ5BMnoKQe7WD0GRvylBs+QPQfFNCUE/mxRBpHoOQQ=="
         },
         "yaxis": "y",
         "type": "scatter"
        },
        {
         "customdata": [
          [
           "benzodiazepines and nonbenzodiazepines. Dependence upon and withdrawal from sedative-hypnotics can be medically severe and, as with alcohol withdrawal, there is a risk of psychosis or seizures if not properly managed."
          ],
          [
           "requires careful reduction in dosage to avoid benzodiazepine withdrawal syndrome and other health consequences. Dependence on other sedative-hypnotics such as zolpidem and zopiclone as well as opiates and illegal drugs is common in alcoholics. Alcohol itself is a sedative-hypnotic and is cross-tolerant with other sedative-hypnotics such as barbiturates, benzodiazepines and nonbenzodiazepines."
          ],
          [
           "Dual addictions and dependencies"
          ],
          [
           "Epidemiology"
          ],
          [
           "or clonazepam. These drugs are, like alcohol, depressants. Benzodiazepines may be used legally, if they are prescribed by doctors for anxiety problems or other mood disorders, or they may be purchased as illegal drugs. Benzodiazepine use increases cravings for alcohol and the volume of alcohol consumed by problem drinkers. Benzodiazepine dependency requires careful reduction in dosage to avoid"
          ],
          [
           "Alcoholics may also require treatment for other psychotropic drug addictions and drug dependencies. The most common dual dependence syndrome with alcohol dependence is benzodiazepine dependence, with studies showing 10–20% of alcohol-dependent individuals had problems of dependence and/or misuse problems of benzodiazepine drugs such as diazepam or clonazepam. These drugs are, like alcohol,"
          ],
          [
           "Alcohol withdrawal"
          ],
          [
           "Serious social problems arise from alcohol use disorder; these dilemmas are caused by the pathological changes in the brain and the intoxicating effects of alcohol. Alcohol misuse is associated with an increased risk of committing criminal offences, including child abuse, domestic violence, rape, burglary and assault. Alcoholism is associated with loss of employment, which can lead to financial"
          ],
          [
           "with alcohol use disorders can develop a number of emotional problems. For example, they can become afraid of their parents, because of their unstable mood behaviors. They may develop shame over their inadequacy to liberate their parents from alcoholism and, as a result of this, may develop self-image problems, which can lead to depression."
          ],
          [
           "loss of employment, which can lead to financial problems. Drinking at inappropriate times and behavior caused by reduced judgment can lead to legal consequences, such as criminal charges for drunk driving or public disorder, or civil penalties for tortious behavior. An alcoholic's behavior and mental impairment while drunk can profoundly affect those surrounding him and lead to isolation from"
          ],
          [
           "Former Misery ( )\nFuture Blessing ( )\nDivine Announcement: Zerubbabel Chosen as a Signet  ( )"
          ],
          [
           "Divine Announcement: The Command to Rebuild the Temple  ( )\nIntroduction: Reluctant Rebuilders  ( )\nConsider your ways: fruitless prosperity ( )\nPromise and Progress  ( )\nDivine Announcement: The Coming Glory of the Temple  ( )\nGod will fulfill his promise ( ) \nFuture Splendor of the temple ( )\nDivine Announcement: Blessings for a Defiled People  ( )\nFormer Misery ( )\nFuture Blessing ( )"
          ],
          [
           "Notes\n\nReferences\n\nWorks cited\n\nExternal links \n\nJewish translations:\n Chaggai – Haggai (Judaica Press) translation with Rashi's commentary at Chabad.org\nChristian translations:\nOnline Bible at GospelHall.org (ESV, KJV, Darby, American Standard Version, Bible in Basic English)\n  Various versions\n\n \n6th-century BC books\nTwelve Minor Prophets"
          ],
          [
           "Outline"
          ],
          [
           "Music \nThe King James Version of Haggai 2:6–7 is used in the libretto of the English-language oratorio \"Messiah\" by George Frideric Handel (HWV 56).\n\nSee also \nDarius I\nJoshua the High Priest , son of Jehozadak\nOld Testament messianic prophecies quoted in the New Testament\n\nNotes\n\nReferences\n\nWorks cited\n\nExternal links"
          ],
          [
           "75–50 BCE); and Wadi Murabba'at Minor Prophets (Mur88; MurXIIProph; 75-100 CE)."
          ],
          [
           "text is uncertain but most likely dates to within a generation of Haggai himself. Traditional consensus dates the completion of the text to c. 515 BC. Other scholars consider the book to be completed around 417 BC, as it did not refer to Darius I, but to Darius II (424-405 BC)."
          ],
          [
           "Date"
          ],
          [
           "The Book of Haggai records events in 520 BC, some 18 years after Cyrus had conquered Babylon and issued a decree in 538 BC, allowing the captive Judahites to return to Judea. Cyrus saw the restoration of the temple as necessary for the restoration of religious practices and a sense of peoplehood, after the long exile. The precise date of the written text is uncertain but most likely dates to"
          ],
          [
           "Some early manuscripts containing the text of this book in Biblical Hebrew are of the Masoretic Text, which includes the Codex Cairensis (895), the Petersburg Codex of the Prophets (916), and Codex Leningradensis (1008). Fragments of the Hebrew text of this book were found among the Dead Sea Scrolls, including 4Q77 (4QXIIb; 150–125 BCE) 4Q80 (4QXIIe; 75–50 BCE); and Wadi Murabba'at Minor Prophets"
          ],
          [
           "the phenomena of gravitational time dilation, gravitational redshift and gravitational lensing."
          ],
          [
           "In 1911, Einstein published another article \"On the Influence of Gravitation on the Propagation of Light\" expanding on the 1907 article, in which he estimated the amount of deflection of light by massive bodies. Thus, the theoretical prediction of general relativity could for the first time be tested experimentally."
          ],
          [
           "under special relativity. In that article titled \"On the Relativity Principle and the Conclusions Drawn from It\", he argued that free fall is really inertial motion, and that for a free-falling observer the rules of special relativity must apply. This argument is called the equivalence principle. In the same article, Einstein also predicted the phenomena of gravitational time dilation,"
          ],
          [
           "As Einstein later said, the reason for the development of general relativity was that the preference of inertial motions within special relativity was unsatisfactory, while a theory which from the outset prefers no state of motion (even accelerated ones) should appear more satisfactory. Consequently, in 1907 he published an article on acceleration under special relativity. In that article titled"
          ],
          [
           "as they were being denied citizenship elsewhere. In his speech he described Einstein as a \"citizen of the world\" who should be offered a temporary shelter in the UK. Both bills failed, however, and Einstein then accepted an earlier offer from the Institute for Advanced Study, in Princeton, New Jersey, US, to become a resident scholar."
          ],
          [
           "On 3 October 1933, Einstein delivered a speech on the importance of academic freedom before a packed audience at the Royal Albert Hall in London, with The Times reporting he was wildly cheered throughout. Four days later he returned to the US and took up a position at the Institute for Advanced Study, noted for having become a refuge for scientists fleeing Nazi Germany. At the time, most American"
          ],
          [
           "fleeing Nazi Germany. At the time, most American universities, including Harvard, Princeton and Yale, had minimal or no Jewish faculty or students, as a result of their Jewish quotas, which lasted until the late 1940s."
          ],
          [
           "Resident scholar at the Institute for Advanced Study"
          ],
          [
           "Locker-Lampson also submitted a bill to parliament to extend British citizenship to Einstein, during which period Einstein made a number of public appearances describing the crisis brewing in Europe. In one of his speeches he denounced Germany's treatment of Jews, while at the same time he introduced a bill promoting Jewish citizenship in Palestine, as they were being denied citizenship elsewhere."
          ],
          [
           "Einsteinium, one of the synthetic elements in the periodic table, was named in his honor.\n\nPublications\n\nScientific"
          ],
          [
           "In 1520, while attempting to circumnavigate the globe, Ferdinand Magellan discovered the southern passage now named after him (the Strait of Magellan) thus becoming the first European to set foot on what is now Chile. The next Europeans to reach Chile were Diego de Almagro and his band of Spanish conquistadors, who came from Peru in 1535 seeking gold. The Spanish encountered various cultures that"
          ],
          [
           "The Spanish encountered various cultures that supported themselves principally through slash-and-burn agriculture and hunting."
          ],
          [
           "Spanish colonization"
          ],
          [
           "The conquest of Chile began in earnest in 1540 and was carried out by Pedro de Valdivia, one of Francisco Pizarro's lieutenants, who founded the city of Santiago on 12 February 1541. Although the Spanish did not find the extensive gold and silver they sought, they recognized the agricultural potential of Chile's central valley, and Chile became part of the Spanish Empire."
          ],
          [
           "A military junta, led by General Augusto Pinochet, took control of the country. The first years of the regime were marked by human rights violations. Chile actively participated in Operation Condor. In October 1973, at least 72 people were murdered by the Caravan of Death. According to the Rettig Report and Valech Commission, at least 2,115 were killed, and at least 27,265 were tortured (including"
          ],
          [
           "A new Constitution was approved by a controversial plebiscite on 11 September 1980, and General Pinochet became president of the republic for an eight-year term. After Pinochet obtained rule of the country, several hundred committed Chilean revolutionaries joined the Sandinista army in Nicaragua, guerrilla forces in Argentina or training camps in Cuba, Eastern Europe and Northern Africa."
          ],
          [
           "and at least 27,265 were tortured (including 88 children younger than 12 years old). In 2011, Chile recognized an additional 9,800 victims, bringing the total number of killed, tortured or imprisoned for political reasons to 40,018. At the national stadium, filled with detainees, one of those tortured and killed was internationally known poet-singer Víctor Jara (see \"Music and Dance\", below)."
          ],
          [
           "In November 2005 the government launched a campaign under the brand \"Chile: All Ways Surprising\" intended to promote the country internationally for both business and tourism. Museums in Chile such as the Chilean National Museum of Fine Arts built in 1880, feature works by Chilean artists."
          ],
          [
           "Chile is home to the world-renowned Patagonian Trail that resides on the border between Argentina and Chile. Chile recently launched a massive scenic route for tourism in hopes of encouraging development based on conservation. The Route of Parks covers  and was designed by Tompkin Conservation (founders Douglas Tompkins and wife Kristine).\n\nTransport"
          ],
          [
           "access to Concepción and the large project of the Santiago urban highways network, opened between 2004 and 2006. Buses are now the main means of long-distance transportation in Chile, following the decline of its railway network. The bus system covers the entire country, from Arica to Santiago (a 30-hour journey) and from Santiago to Punta Arenas (about 40 hours, with a change at Osorno)."
          ],
          [
           "The Elephant Mountains\n\nChuŏr Phnum Dâmrei - A north-south-trending range of high hills, an extension of the Cardamom/Krâvanh Mountains, in south-eastern Cambodia,  rising to elevations of between 500 and 1,000 meters. Extending  north from the Gulf of Thailand, they reach a high point in the Bok Koŭ ridge at Mount Bokor  near the sea."
          ],
          [
           "The Cardamom Mountains form - including the north-western part of Chanthaburi Province, Thailand, the 'Soi Dao Mountains' - the Cardamom Mountains Moist Forests Ecoregion, that is considered to be one of the most species-rich and intact natural habitats in the region. The climate, size inaccessibility and seclusion of the mountains have allowed a rich variety of wildlife to thrive. The Cardamom"
          ],
          [
           "To the south-west of the Southern mountain ranges extends a narrow coastal plain that contains the Kampong Saom Bay area and the Sihanoukville peninsula, facing the Gulf of Thailand.\n\nNorthern Mountains\n\nThe Dangrek Mountains"
          ],
          [
           "rich variety of wildlife to thrive. The Cardamom and Elephant Mountains remain to be fully researched and documented."
          ],
          [
           "The Cardamom/Krâvanh Mountains"
          ],
          [
           "Occupying Koh Kong Province and Kampong Speu Province, running in a north-western to south-eastern direction and rising to more than . The highest mountain of Cambodia, Phnom Aural, at  is located in Aoral District in Kampong Speu Province."
          ],
          [
           "the absence of strict administrative control and indifference in law enforcement - not only in Cambodia but the entire region."
          ],
          [
           "Figures and assessments are numerous as are available sources.  as seen in numbers below, which provide a wide range for interpretation. About  (1%) of forest cover is planted forest. Overall Cambodia’s forests contain an estimated 464 million metric tonnes of carbon stock in living forest biomass. Approximately 40% of Cambodia’s Forests have some level of protection, while one of the Cambodia"
          ],
          [
           "level of protection, while one of the Cambodia Millennium Development Goals targets is to achieve a 60% forest cover by 2015."
          ],
          [
           "Cambodia has one of the highest levels of forest cover in the region as the interdependence of Cambodia’s geography and hydrology makes it rich in natural resources and biological diversity - among the bio-richest countries in Southeast Asia. The Royal Government of Cambodia estimates Cambodia contains approximately 10.36 million hectares of forest cover, representing approximately 57.07% of"
          ],
          [
           "capability, the aircraft received UK certification, and the first customer aircraft was delivered. Despite this success, the additional investment necessary for the final phase of full production was not forthcoming, the business went into receivership, and John Edgley was forced out. With new owners, aircraft on the production line were completed, and the Optica entered service."
          ],
          [
           "The Edgley EA-7 Optica is a British light aircraft designed for low-speed observation work, and intended as a low-cost alternative to helicopters. The Optica has a loiter speed of 130 km/h (70 kn; 81 mph) and a stall speed of 108 km/h (58 kn; 67 mph).\n\nDesign and development"
          ],
          [
           "The Optica project began in 1974 with a company, Edgley Aircraft Limited, formed by John Edgley who, with a small team, designed and built the original prototype. In 1982, institutional investors bought into the project and set up a production line at Old Sarum Airfield in Wiltshire. Over the next three years, the company was built up to full manufacturing capability, the aircraft received UK"
          ],
          [
           "with due diligence, appraisal and further steps to re launch the EA-7 Optica aircraft programme in the 2018–19 timeframe.  IFG planned to develop, market and support the Optica, outsourcing the fabrication and final assembly to an FAA/EASA Part 23 certified OEM. At the end of 2018, IFG modified its initial program re-launch efforts whilst, again, identifying and selecting a suitable OEM strategic"
          ],
          [
           "of intent, remains active in the search for strategic partners to"
          ],
          [
           "The Optica and the Sprint together then passed through other owners until, in 2007, they were offered to John Edgley who formed a new company, AeroElvira Limited, with three former employees of Edgley Aircraft (Chris Burleigh, Fin Colson and Dave Lee) who at that time were working on both projects for the then-owners.  The new company successfully put G-BOPO back into service as a UK demonstrator,"
          ],
          [
           "G-BOPO back into service as a UK demonstrator, with a first return-to-service flight on 3 June 2008. In August 2016 Interflight Global (IFG) announced plans to start a valuation of the dormant Optica programme with a view to relaunching production.  In December 2016, IFG completed its valuation and in June 2017, delivered an LOI to AeroElvira to continue with due diligence, appraisal and further"
          ],
          [
           "and selecting a suitable OEM strategic partner to update the Optica TC and to bring the aircraft into production. As of the end of 2019, IFG continues to seek for a strategic OEM partner to re-launch the program aligned with optionally piloted and powered by electric or hybrid electric powerplants. As of 2022, IFG, in a post COVID 19 Pandemic re assessment of intent, remains active in the search"
          ],
          [
           "1980s British special-purpose aircraft\nEdgley aircraft\nDucted fan-powered aircraft\nMid-wing aircraft\nAircraft first flown in 1979\nSingle-engined pusher aircraft"
          ],
          [
           "The Optica went through several changes of ownership, until FLS Aerospace (Lovaux Ltd) took over the rights, together with the design and manufacturing rights to the Sprint: a two-seat ab-initio trainer that had been designed by Sydney Holloway in Cornwall UK at about the same time as the Optica. Lovaux had intended to develop both aircraft, with the Sprint intended as the military trainer for the"
          ],
          [
           "Cinema\n\nThe Algerian state's interest in film-industry activities can be seen in the annual budget of DZD 200 million (EUR 1.3 million) allocated to production, specific measures and an ambitious programme plan implemented by the Ministry of Culture in order to promote national production, renovate the cinema stock and remedy the weak links in distribution and exploitation."
          ],
          [
           "singer. Other Algerian singers of the diaspora include Manel Filali in Germany and Kenza Farah in France. Tergui music is sung in Tuareg languages generally, Tinariwen had a worldwide success. Finally, the staïfi music is born in Sétif and remains a unique style of its kind."
          ],
          [
           "Modern music is available in several facets, Raï music is a style typical of western Algeria. Rap, a relatively recent style in Algeria, is experiencing significant growth.\n\nCinema"
          ],
          [
           "Folk music styles include Bedouin music, characterized by the poetic songs based on long kacida (poems); Kabyle music, based on a rich repertoire that is poetry and old tales passed through generations; Shawiya music, a folklore from diverse areas of the Aurès Mountains. Rahaba music style is unique to the Aures. Souad Massi is a rising Algerian folk singer. Other Algerian singers of the diaspora"
          ],
          [
           "Centuries of Arab migration to the Maghreb since the 7th century shifted the demographic scope in Algeria. The majority of the population of Algeria are Arabs (75% to 85% of the population). Berbers who make up 15% to 20% of the population are divided into many groups with varying languages. The largest of these are the Kabyles, who live in the Kabylie region east of Algiers, the Chaoui of"
          ],
          [
           "During the colonial period, there was a large (10% in 1960) European population who became known as Pied-Noirs. They were primarily of French, Spanish and Italian origin. Almost all of this population left during the war of independence or immediately after its end.\n\nLanguages"
          ],
          [
           "Languages\n\nModern Standard Arabic and Berber are the official languages. Algerian Arabic (Darja) is the language used by the majority of the population. Colloquial Algerian Arabic has some Berber loanwords which represent 8% to 9% of its vocabulary."
          ],
          [
           "the Kabylie region east of Algiers, the Chaoui of Northeast Algeria, the Tuaregs in the southern desert and the Shenwa people of North Algeria."
          ],
          [
           "The financial support provided by the state, through the Fund for the Development of the Arts, Techniques and the Film Industry (FDATIC) and the Algerian Agency for Cultural Influence (AARC), plays a key role in the promotion of national production. Between 2007 and 2013, FDATIC subsidised 98 films (feature films, documentaries and short films). In mid-2013, AARC had already supported a total of"
          ],
          [
           "According to the European Audiovisual Observatory's LUMIERE database, 41 Algerian films were distributed in Europe between 1996 and 2013; 21 films in this repertoire were Algerian-French co-productions. Days of Glory (2006) and Outside the Law (2010) recorded the highest number of admissions in the European Union, 3,172,612 and 474,722, respectively."
          ],
          [
           "Dwan has a star on the Hollywood Walk of Fame at 6263 Hollywood Boulevard.\n\nDaniel Eagan of Film Journal International described Dwan as one of the early pioneers of cinema, stating that his style \"is so basic as to seem invisible, but he treats his characters with uncommon sympathy and compassion.\"\n\nPartial filmography as director"
          ],
          [
           "The Restless Spirit (1913)\nBack to Life (1913)\nBloodhounds of the North (1913)\nThe Lie (1914)\nThe Honor of the Mounted (1914)\n The Unwelcome Mrs. Hatch (1914)\nRemember Mary Magdalen (1914)\nDiscord and Harmony (1914)\nThe Embezzler (1914)\nThe Lamb, the Woman, the Wolf (1914)\nThe End of the Feud (1914)\nThe Test (1914) (*writer)\nThe Tragedy of Whispering Creek (1914)\nThe Unlawful Trade (1914)"
          ],
          [
           "The Unlawful Trade (1914)\nThe Forbidden Room (1914)\nThe Hopes of Blind Alley (1914)\nRichelieu (1914)\n Wildflower (1914)\nA Small Town Girl (1915)\nDavid Harum (1915)\nA Girl of Yesterday (1915)\nThe Pretty Sister of Jose (1915)\n Jordan Is a Hard Road (1915)\nThe Habit of Happiness (1916)\nThe Good Bad Man (1916)\nAn Innocent Magdalene (1916)\nThe Half-Breed (1916)\nManhattan Madness (1916)"
          ],
          [
           "Summer Bachelors (1926)\nTin Gods (1926)\nFrench Dressing (1927)\nThe Joy Girl (1927)"
          ],
          [
           "The Forbidden Thing (1920) also producer\nA Splendid Hazard (1920)\nA Perfect Crime (1921)\n The Sin of Martha Queed (1921)\n A Broken Doll (1921)\nRobin Hood (1922)\nZaza (1923)\nBig Brother (1923)\nManhandled (1924)\nArgentine Love (1924)\nThe Coast of Folly (1925)\nNight Life of New York (1925)\nStage Struck (1925)\nPadlocked (1926)\nSea Horses (1926)\nSummer Bachelors (1926)\nTin Gods (1926)"
          ],
          [
           "The Half-Breed (1916)\nManhattan Madness (1916)\nAccusing Evidence (1916)\nPanthea (1917)\nA Modern Musketeer (1917)\nBound in Morocco (1918)\nHeadin' South (1918)\nMr. Fix-It (1918)\nHe Comes Up Smiling (1918)\nCheating Cheaters (1919)\nThe Dark Star (1919)\nGetting Mary Married (1919)\nSoldiers of Fortune (1919)\nIn The Heart of a Fool (1920) also producer\nThe Forbidden Thing (1920) also producer"
          ],
          [
           "short, also featuring Thomas Meighan and Henri de la Falaise, was produced as a joke, for the April 26, 1925 \"Lambs' Gambol\" for The Lambs, with the film showing Swanson crashing the all-male club."
          ],
          [
           "Following the introduction of the talkies, Dwan directed child-star Shirley Temple in Heidi (1937) and Rebecca of Sunnybrook Farm (1938)."
          ],
          [
           "Dwan helped launch the career of two other successful Hollywood directors, Victor Fleming, who went on to direct The Wizard of Oz and Gone With the Wind, and Marshall Neilan, who became an actor, director, writer and producer. Over a long career spanning almost 50 years, Dwan directed 125 motion pictures, some of which were highly acclaimed, such as the 1949 box office hit, Sands of Iwo Jima. He"
          ],
          [
           "After making a series of westerns and comedies, Dwan directed fellow Canadian-American Mary Pickford in several very successful movies as well as her husband, Douglas Fairbanks, notably in the acclaimed 1922 Robin Hood. Dwan directed Gloria Swanson in eight feature films, and one short film made in the short-lived sound-on-film process Phonofilm. This short, also featuring Thomas Meighan and Henri"
          ],
          [
           "to catering and various niche markets, the most significant being nautical tourism, as there are numerous marinas with more than 16 thousand berths, cultural tourism relying on appeal of medieval coastal cities and numerous cultural events taking place during the summer. Inland areas offer mountain resorts, agrotourism and spas. Zagreb is also a significant tourist destination, rivalling major"
          ],
          [
           "Croatia has unpolluted marine areas reflected through numerous nature reserves and 99 Blue Flag beaches and 28 Blue Flag marinas. Croatia is ranked as the 18th most popular tourist destination in the world. About 15% of these visitors (over one million per year) are involved with naturism, an industry for which Croatia is world-famous. It was also the first European country to develop commercial"
          ],
          [
           "the first European country to develop commercial naturist resorts."
          ],
          [
           "significant tourist destination, rivalling major coastal cities and resorts."
          ],
          [
           "The bulk of the tourist industry is concentrated along the Adriatic Sea coast. Opatija was the first holiday resort since the middle of the 19th century. By the 1890s, it became one of the most significant European health resorts. Later a large number of resorts sprang up along the coast and numerous islands, offering services ranging from mass tourism to catering and various niche markets, the"
          ],
          [
           "the Danube, representing the nation's outlet to the Pan-European transport corridor VII."
          ],
          [
           "Energy"
          ],
          [
           "Croatia has an extensive rail network spanning , including  of electrified railways and  of double track railways. The most significant railways in Croatia are found within the Pan-European transport corridors Vb and X connecting Rijeka to Budapest and Ljubljana to Belgrade, both via Zagreb. All rail services are operated by Croatian Railways."
          ],
          [
           "The busiest cargo seaport in Croatia is the Port of Rijeka and the busiest passenger ports are Split and Zadar. In addition to those, a large number of minor ports serve an extensive system of ferries connecting numerous islands and coastal cities in addition to ferry lines to several cities in Italy. The largest river port is Vukovar, located on the Danube, representing the nation's outlet to"
          ],
          [
           "There are international airports in Zagreb, Zadar, Split, Dubrovnik, Rijeka, Osijek and Pula. As of January 2011, Croatia complies with International Civil Aviation Organization aviation safety standards and the Federal Aviation Administration upgraded it to Category 1 rating."
          ],
          [
           "On 1 and 11 April 1895, the main rebel leaders landed on two expeditions in Oriente: Major Antonio Maceo and 22 members near Baracoa and Martí, Máximo Gómez and four other members in Playitas. Around that time, Spanish forces in Cuba numbered about 80,000, including 60,000 Spanish and Cuban volunteers. The latter were a locally enlisted force that took care of most of the guard and police duties"
          ],
          [
           "took care of most of the guard and police duties on the island. By December, 98,412 regular troops had been sent to the island and the number of volunteers had increased to 63,000 men. By the end of 1897, there were 240,000 regulars and 60,000 irregulars on the island. The revolutionaries were far outnumbered."
          ],
          [
           "The rebels came to be nicknamed \"Mambis\" after a black Spanish officer, Juan Ethninius Mamby, who joined the Dominicans in the fight for independence in 1846. When the Ten Years' War broke out in 1868, some of the same soldiers were assigned to Cuba, importing what had by then become a derogatory Spanish slur. The Cubans adopted the name with pride."
          ],
          [
           "These changes also entailed the rise of labour movements. The first Cuban labour organization, the Cigar Makers Guild, was created in 1878, followed by the Central Board of Artisans in 1879, and many more across the island. Abroad, a new trend of aggressive American influence emerged. Secretary of State James G. Blaine placed particular importance on the control of Cuba: \"If ever ceasing to be"
          ],
          [
           "on the control of Cuba: \"If ever ceasing to be Spanish, Cuba must necessarily become American and not fall under any other European domination\"."
          ],
          [
           "During the time of the so-called \"Rewarding Truce\", which encompassed the 17 years from the end of the Ten Years' War in 1878, fundamental changes took place in Cuban society. With the abolition of slavery in October 1886, former slaves joined the ranks of farmers and urban working class. Most wealthy Cubans lost their rural properties, and many of them joined the urban middle class. The number"
          ],
          [
           "of them joined the urban middle class. The number of sugar mills dropped and efficiency increased, with only companies and the most powerful plantation owners owning them. The numbers of campesinos and tenant farmers rose considerably. Furthermore, American capital began flowing into Cuba, mostly into the sugar and tobacco businesses and mining. By 1895, these investments totalled $50 million."
          ],
          [
           "By 1895, these investments totalled $50 million. Although Cuba remained Spanish politically, economically it became increasingly dependent on the United States."
          ],
          [
           "Conflicts in the late 19th century (1886–1900)"
          ],
          [
           "Background"
          ]
         ],
         "hovertemplate": "color=Allan Dwan<br>x=%{x}<br>y=%{y}<br>metadata=%{customdata[0]}<extra></extra>",
         "legendgroup": "Allan Dwan",
         "marker": {
          "color": "#B6E880",
          "symbol": "circle",
          "size": 8
         },
         "mode": "markers",
         "name": "Allan Dwan",
         "orientation": "v",
         "showlegend": true,
         "x": {
          "dtype": "f4",
          "bdata": "+wqcQOD5jkD174VAS9aFQIw+iEB+HopAjRaOQBqvl0AyiZhABGqVQA=="
         },
         "xaxis": "x",
         "y": {
          "dtype": "f4",
          "bdata": "5vAJQTT19UCUCflA2noDQZBJAEH5K/dAZlEBQXrJ/UBGJgZBwCAEQQ=="
         },
         "yaxis": "y",
         "type": "scatter"
        },
        {
         "customdata": [
          [
           "benzodiazepines and nonbenzodiazepines. Dependence upon and withdrawal from sedative-hypnotics can be medically severe and, as with alcohol withdrawal, there is a risk of psychosis or seizures if not properly managed."
          ],
          [
           "requires careful reduction in dosage to avoid benzodiazepine withdrawal syndrome and other health consequences. Dependence on other sedative-hypnotics such as zolpidem and zopiclone as well as opiates and illegal drugs is common in alcoholics. Alcohol itself is a sedative-hypnotic and is cross-tolerant with other sedative-hypnotics such as barbiturates, benzodiazepines and nonbenzodiazepines."
          ],
          [
           "Dual addictions and dependencies"
          ],
          [
           "Epidemiology"
          ],
          [
           "or clonazepam. These drugs are, like alcohol, depressants. Benzodiazepines may be used legally, if they are prescribed by doctors for anxiety problems or other mood disorders, or they may be purchased as illegal drugs. Benzodiazepine use increases cravings for alcohol and the volume of alcohol consumed by problem drinkers. Benzodiazepine dependency requires careful reduction in dosage to avoid"
          ],
          [
           "Alcoholics may also require treatment for other psychotropic drug addictions and drug dependencies. The most common dual dependence syndrome with alcohol dependence is benzodiazepine dependence, with studies showing 10–20% of alcohol-dependent individuals had problems of dependence and/or misuse problems of benzodiazepine drugs such as diazepam or clonazepam. These drugs are, like alcohol,"
          ],
          [
           "Alcohol withdrawal"
          ],
          [
           "Serious social problems arise from alcohol use disorder; these dilemmas are caused by the pathological changes in the brain and the intoxicating effects of alcohol. Alcohol misuse is associated with an increased risk of committing criminal offences, including child abuse, domestic violence, rape, burglary and assault. Alcoholism is associated with loss of employment, which can lead to financial"
          ],
          [
           "with alcohol use disorders can develop a number of emotional problems. For example, they can become afraid of their parents, because of their unstable mood behaviors. They may develop shame over their inadequacy to liberate their parents from alcoholism and, as a result of this, may develop self-image problems, which can lead to depression."
          ],
          [
           "loss of employment, which can lead to financial problems. Drinking at inappropriate times and behavior caused by reduced judgment can lead to legal consequences, such as criminal charges for drunk driving or public disorder, or civil penalties for tortious behavior. An alcoholic's behavior and mental impairment while drunk can profoundly affect those surrounding him and lead to isolation from"
          ],
          [
           "Former Misery ( )\nFuture Blessing ( )\nDivine Announcement: Zerubbabel Chosen as a Signet  ( )"
          ],
          [
           "Divine Announcement: The Command to Rebuild the Temple  ( )\nIntroduction: Reluctant Rebuilders  ( )\nConsider your ways: fruitless prosperity ( )\nPromise and Progress  ( )\nDivine Announcement: The Coming Glory of the Temple  ( )\nGod will fulfill his promise ( ) \nFuture Splendor of the temple ( )\nDivine Announcement: Blessings for a Defiled People  ( )\nFormer Misery ( )\nFuture Blessing ( )"
          ],
          [
           "Notes\n\nReferences\n\nWorks cited\n\nExternal links \n\nJewish translations:\n Chaggai – Haggai (Judaica Press) translation with Rashi's commentary at Chabad.org\nChristian translations:\nOnline Bible at GospelHall.org (ESV, KJV, Darby, American Standard Version, Bible in Basic English)\n  Various versions\n\n \n6th-century BC books\nTwelve Minor Prophets"
          ],
          [
           "Outline"
          ],
          [
           "Music \nThe King James Version of Haggai 2:6–7 is used in the libretto of the English-language oratorio \"Messiah\" by George Frideric Handel (HWV 56).\n\nSee also \nDarius I\nJoshua the High Priest , son of Jehozadak\nOld Testament messianic prophecies quoted in the New Testament\n\nNotes\n\nReferences\n\nWorks cited\n\nExternal links"
          ],
          [
           "75–50 BCE); and Wadi Murabba'at Minor Prophets (Mur88; MurXIIProph; 75-100 CE)."
          ],
          [
           "text is uncertain but most likely dates to within a generation of Haggai himself. Traditional consensus dates the completion of the text to c. 515 BC. Other scholars consider the book to be completed around 417 BC, as it did not refer to Darius I, but to Darius II (424-405 BC)."
          ],
          [
           "Date"
          ],
          [
           "The Book of Haggai records events in 520 BC, some 18 years after Cyrus had conquered Babylon and issued a decree in 538 BC, allowing the captive Judahites to return to Judea. Cyrus saw the restoration of the temple as necessary for the restoration of religious practices and a sense of peoplehood, after the long exile. The precise date of the written text is uncertain but most likely dates to"
          ],
          [
           "Some early manuscripts containing the text of this book in Biblical Hebrew are of the Masoretic Text, which includes the Codex Cairensis (895), the Petersburg Codex of the Prophets (916), and Codex Leningradensis (1008). Fragments of the Hebrew text of this book were found among the Dead Sea Scrolls, including 4Q77 (4QXIIb; 150–125 BCE) 4Q80 (4QXIIe; 75–50 BCE); and Wadi Murabba'at Minor Prophets"
          ],
          [
           "the phenomena of gravitational time dilation, gravitational redshift and gravitational lensing."
          ],
          [
           "In 1911, Einstein published another article \"On the Influence of Gravitation on the Propagation of Light\" expanding on the 1907 article, in which he estimated the amount of deflection of light by massive bodies. Thus, the theoretical prediction of general relativity could for the first time be tested experimentally."
          ],
          [
           "under special relativity. In that article titled \"On the Relativity Principle and the Conclusions Drawn from It\", he argued that free fall is really inertial motion, and that for a free-falling observer the rules of special relativity must apply. This argument is called the equivalence principle. In the same article, Einstein also predicted the phenomena of gravitational time dilation,"
          ],
          [
           "As Einstein later said, the reason for the development of general relativity was that the preference of inertial motions within special relativity was unsatisfactory, while a theory which from the outset prefers no state of motion (even accelerated ones) should appear more satisfactory. Consequently, in 1907 he published an article on acceleration under special relativity. In that article titled"
          ],
          [
           "as they were being denied citizenship elsewhere. In his speech he described Einstein as a \"citizen of the world\" who should be offered a temporary shelter in the UK. Both bills failed, however, and Einstein then accepted an earlier offer from the Institute for Advanced Study, in Princeton, New Jersey, US, to become a resident scholar."
          ],
          [
           "On 3 October 1933, Einstein delivered a speech on the importance of academic freedom before a packed audience at the Royal Albert Hall in London, with The Times reporting he was wildly cheered throughout. Four days later he returned to the US and took up a position at the Institute for Advanced Study, noted for having become a refuge for scientists fleeing Nazi Germany. At the time, most American"
          ],
          [
           "fleeing Nazi Germany. At the time, most American universities, including Harvard, Princeton and Yale, had minimal or no Jewish faculty or students, as a result of their Jewish quotas, which lasted until the late 1940s."
          ],
          [
           "Resident scholar at the Institute for Advanced Study"
          ],
          [
           "Locker-Lampson also submitted a bill to parliament to extend British citizenship to Einstein, during which period Einstein made a number of public appearances describing the crisis brewing in Europe. In one of his speeches he denounced Germany's treatment of Jews, while at the same time he introduced a bill promoting Jewish citizenship in Palestine, as they were being denied citizenship elsewhere."
          ],
          [
           "Einsteinium, one of the synthetic elements in the periodic table, was named in his honor.\n\nPublications\n\nScientific"
          ],
          [
           "In 1520, while attempting to circumnavigate the globe, Ferdinand Magellan discovered the southern passage now named after him (the Strait of Magellan) thus becoming the first European to set foot on what is now Chile. The next Europeans to reach Chile were Diego de Almagro and his band of Spanish conquistadors, who came from Peru in 1535 seeking gold. The Spanish encountered various cultures that"
          ],
          [
           "The Spanish encountered various cultures that supported themselves principally through slash-and-burn agriculture and hunting."
          ],
          [
           "Spanish colonization"
          ],
          [
           "The conquest of Chile began in earnest in 1540 and was carried out by Pedro de Valdivia, one of Francisco Pizarro's lieutenants, who founded the city of Santiago on 12 February 1541. Although the Spanish did not find the extensive gold and silver they sought, they recognized the agricultural potential of Chile's central valley, and Chile became part of the Spanish Empire."
          ],
          [
           "A military junta, led by General Augusto Pinochet, took control of the country. The first years of the regime were marked by human rights violations. Chile actively participated in Operation Condor. In October 1973, at least 72 people were murdered by the Caravan of Death. According to the Rettig Report and Valech Commission, at least 2,115 were killed, and at least 27,265 were tortured (including"
          ],
          [
           "A new Constitution was approved by a controversial plebiscite on 11 September 1980, and General Pinochet became president of the republic for an eight-year term. After Pinochet obtained rule of the country, several hundred committed Chilean revolutionaries joined the Sandinista army in Nicaragua, guerrilla forces in Argentina or training camps in Cuba, Eastern Europe and Northern Africa."
          ],
          [
           "and at least 27,265 were tortured (including 88 children younger than 12 years old). In 2011, Chile recognized an additional 9,800 victims, bringing the total number of killed, tortured or imprisoned for political reasons to 40,018. At the national stadium, filled with detainees, one of those tortured and killed was internationally known poet-singer Víctor Jara (see \"Music and Dance\", below)."
          ],
          [
           "In November 2005 the government launched a campaign under the brand \"Chile: All Ways Surprising\" intended to promote the country internationally for both business and tourism. Museums in Chile such as the Chilean National Museum of Fine Arts built in 1880, feature works by Chilean artists."
          ],
          [
           "Chile is home to the world-renowned Patagonian Trail that resides on the border between Argentina and Chile. Chile recently launched a massive scenic route for tourism in hopes of encouraging development based on conservation. The Route of Parks covers  and was designed by Tompkin Conservation (founders Douglas Tompkins and wife Kristine).\n\nTransport"
          ],
          [
           "access to Concepción and the large project of the Santiago urban highways network, opened between 2004 and 2006. Buses are now the main means of long-distance transportation in Chile, following the decline of its railway network. The bus system covers the entire country, from Arica to Santiago (a 30-hour journey) and from Santiago to Punta Arenas (about 40 hours, with a change at Osorno)."
          ],
          [
           "The Elephant Mountains\n\nChuŏr Phnum Dâmrei - A north-south-trending range of high hills, an extension of the Cardamom/Krâvanh Mountains, in south-eastern Cambodia,  rising to elevations of between 500 and 1,000 meters. Extending  north from the Gulf of Thailand, they reach a high point in the Bok Koŭ ridge at Mount Bokor  near the sea."
          ],
          [
           "The Cardamom Mountains form - including the north-western part of Chanthaburi Province, Thailand, the 'Soi Dao Mountains' - the Cardamom Mountains Moist Forests Ecoregion, that is considered to be one of the most species-rich and intact natural habitats in the region. The climate, size inaccessibility and seclusion of the mountains have allowed a rich variety of wildlife to thrive. The Cardamom"
          ],
          [
           "To the south-west of the Southern mountain ranges extends a narrow coastal plain that contains the Kampong Saom Bay area and the Sihanoukville peninsula, facing the Gulf of Thailand.\n\nNorthern Mountains\n\nThe Dangrek Mountains"
          ],
          [
           "rich variety of wildlife to thrive. The Cardamom and Elephant Mountains remain to be fully researched and documented."
          ],
          [
           "The Cardamom/Krâvanh Mountains"
          ],
          [
           "Occupying Koh Kong Province and Kampong Speu Province, running in a north-western to south-eastern direction and rising to more than . The highest mountain of Cambodia, Phnom Aural, at  is located in Aoral District in Kampong Speu Province."
          ],
          [
           "the absence of strict administrative control and indifference in law enforcement - not only in Cambodia but the entire region."
          ],
          [
           "Figures and assessments are numerous as are available sources.  as seen in numbers below, which provide a wide range for interpretation. About  (1%) of forest cover is planted forest. Overall Cambodia’s forests contain an estimated 464 million metric tonnes of carbon stock in living forest biomass. Approximately 40% of Cambodia’s Forests have some level of protection, while one of the Cambodia"
          ],
          [
           "level of protection, while one of the Cambodia Millennium Development Goals targets is to achieve a 60% forest cover by 2015."
          ],
          [
           "Cambodia has one of the highest levels of forest cover in the region as the interdependence of Cambodia’s geography and hydrology makes it rich in natural resources and biological diversity - among the bio-richest countries in Southeast Asia. The Royal Government of Cambodia estimates Cambodia contains approximately 10.36 million hectares of forest cover, representing approximately 57.07% of"
          ],
          [
           "capability, the aircraft received UK certification, and the first customer aircraft was delivered. Despite this success, the additional investment necessary for the final phase of full production was not forthcoming, the business went into receivership, and John Edgley was forced out. With new owners, aircraft on the production line were completed, and the Optica entered service."
          ],
          [
           "The Edgley EA-7 Optica is a British light aircraft designed for low-speed observation work, and intended as a low-cost alternative to helicopters. The Optica has a loiter speed of 130 km/h (70 kn; 81 mph) and a stall speed of 108 km/h (58 kn; 67 mph).\n\nDesign and development"
          ],
          [
           "The Optica project began in 1974 with a company, Edgley Aircraft Limited, formed by John Edgley who, with a small team, designed and built the original prototype. In 1982, institutional investors bought into the project and set up a production line at Old Sarum Airfield in Wiltshire. Over the next three years, the company was built up to full manufacturing capability, the aircraft received UK"
          ],
          [
           "with due diligence, appraisal and further steps to re launch the EA-7 Optica aircraft programme in the 2018–19 timeframe.  IFG planned to develop, market and support the Optica, outsourcing the fabrication and final assembly to an FAA/EASA Part 23 certified OEM. At the end of 2018, IFG modified its initial program re-launch efforts whilst, again, identifying and selecting a suitable OEM strategic"
          ],
          [
           "of intent, remains active in the search for strategic partners to"
          ],
          [
           "The Optica and the Sprint together then passed through other owners until, in 2007, they were offered to John Edgley who formed a new company, AeroElvira Limited, with three former employees of Edgley Aircraft (Chris Burleigh, Fin Colson and Dave Lee) who at that time were working on both projects for the then-owners.  The new company successfully put G-BOPO back into service as a UK demonstrator,"
          ],
          [
           "G-BOPO back into service as a UK demonstrator, with a first return-to-service flight on 3 June 2008. In August 2016 Interflight Global (IFG) announced plans to start a valuation of the dormant Optica programme with a view to relaunching production.  In December 2016, IFG completed its valuation and in June 2017, delivered an LOI to AeroElvira to continue with due diligence, appraisal and further"
          ],
          [
           "and selecting a suitable OEM strategic partner to update the Optica TC and to bring the aircraft into production. As of the end of 2019, IFG continues to seek for a strategic OEM partner to re-launch the program aligned with optionally piloted and powered by electric or hybrid electric powerplants. As of 2022, IFG, in a post COVID 19 Pandemic re assessment of intent, remains active in the search"
          ],
          [
           "1980s British special-purpose aircraft\nEdgley aircraft\nDucted fan-powered aircraft\nMid-wing aircraft\nAircraft first flown in 1979\nSingle-engined pusher aircraft"
          ],
          [
           "The Optica went through several changes of ownership, until FLS Aerospace (Lovaux Ltd) took over the rights, together with the design and manufacturing rights to the Sprint: a two-seat ab-initio trainer that had been designed by Sydney Holloway in Cornwall UK at about the same time as the Optica. Lovaux had intended to develop both aircraft, with the Sprint intended as the military trainer for the"
          ],
          [
           "Cinema\n\nThe Algerian state's interest in film-industry activities can be seen in the annual budget of DZD 200 million (EUR 1.3 million) allocated to production, specific measures and an ambitious programme plan implemented by the Ministry of Culture in order to promote national production, renovate the cinema stock and remedy the weak links in distribution and exploitation."
          ],
          [
           "singer. Other Algerian singers of the diaspora include Manel Filali in Germany and Kenza Farah in France. Tergui music is sung in Tuareg languages generally, Tinariwen had a worldwide success. Finally, the staïfi music is born in Sétif and remains a unique style of its kind."
          ],
          [
           "Modern music is available in several facets, Raï music is a style typical of western Algeria. Rap, a relatively recent style in Algeria, is experiencing significant growth.\n\nCinema"
          ],
          [
           "Folk music styles include Bedouin music, characterized by the poetic songs based on long kacida (poems); Kabyle music, based on a rich repertoire that is poetry and old tales passed through generations; Shawiya music, a folklore from diverse areas of the Aurès Mountains. Rahaba music style is unique to the Aures. Souad Massi is a rising Algerian folk singer. Other Algerian singers of the diaspora"
          ],
          [
           "Centuries of Arab migration to the Maghreb since the 7th century shifted the demographic scope in Algeria. The majority of the population of Algeria are Arabs (75% to 85% of the population). Berbers who make up 15% to 20% of the population are divided into many groups with varying languages. The largest of these are the Kabyles, who live in the Kabylie region east of Algiers, the Chaoui of"
          ],
          [
           "During the colonial period, there was a large (10% in 1960) European population who became known as Pied-Noirs. They were primarily of French, Spanish and Italian origin. Almost all of this population left during the war of independence or immediately after its end.\n\nLanguages"
          ],
          [
           "Languages\n\nModern Standard Arabic and Berber are the official languages. Algerian Arabic (Darja) is the language used by the majority of the population. Colloquial Algerian Arabic has some Berber loanwords which represent 8% to 9% of its vocabulary."
          ],
          [
           "the Kabylie region east of Algiers, the Chaoui of Northeast Algeria, the Tuaregs in the southern desert and the Shenwa people of North Algeria."
          ],
          [
           "The financial support provided by the state, through the Fund for the Development of the Arts, Techniques and the Film Industry (FDATIC) and the Algerian Agency for Cultural Influence (AARC), plays a key role in the promotion of national production. Between 2007 and 2013, FDATIC subsidised 98 films (feature films, documentaries and short films). In mid-2013, AARC had already supported a total of"
          ],
          [
           "According to the European Audiovisual Observatory's LUMIERE database, 41 Algerian films were distributed in Europe between 1996 and 2013; 21 films in this repertoire were Algerian-French co-productions. Days of Glory (2006) and Outside the Law (2010) recorded the highest number of admissions in the European Union, 3,172,612 and 474,722, respectively."
          ],
          [
           "Dwan has a star on the Hollywood Walk of Fame at 6263 Hollywood Boulevard.\n\nDaniel Eagan of Film Journal International described Dwan as one of the early pioneers of cinema, stating that his style \"is so basic as to seem invisible, but he treats his characters with uncommon sympathy and compassion.\"\n\nPartial filmography as director"
          ],
          [
           "The Restless Spirit (1913)\nBack to Life (1913)\nBloodhounds of the North (1913)\nThe Lie (1914)\nThe Honor of the Mounted (1914)\n The Unwelcome Mrs. Hatch (1914)\nRemember Mary Magdalen (1914)\nDiscord and Harmony (1914)\nThe Embezzler (1914)\nThe Lamb, the Woman, the Wolf (1914)\nThe End of the Feud (1914)\nThe Test (1914) (*writer)\nThe Tragedy of Whispering Creek (1914)\nThe Unlawful Trade (1914)"
          ],
          [
           "The Unlawful Trade (1914)\nThe Forbidden Room (1914)\nThe Hopes of Blind Alley (1914)\nRichelieu (1914)\n Wildflower (1914)\nA Small Town Girl (1915)\nDavid Harum (1915)\nA Girl of Yesterday (1915)\nThe Pretty Sister of Jose (1915)\n Jordan Is a Hard Road (1915)\nThe Habit of Happiness (1916)\nThe Good Bad Man (1916)\nAn Innocent Magdalene (1916)\nThe Half-Breed (1916)\nManhattan Madness (1916)"
          ],
          [
           "Summer Bachelors (1926)\nTin Gods (1926)\nFrench Dressing (1927)\nThe Joy Girl (1927)"
          ],
          [
           "The Forbidden Thing (1920) also producer\nA Splendid Hazard (1920)\nA Perfect Crime (1921)\n The Sin of Martha Queed (1921)\n A Broken Doll (1921)\nRobin Hood (1922)\nZaza (1923)\nBig Brother (1923)\nManhandled (1924)\nArgentine Love (1924)\nThe Coast of Folly (1925)\nNight Life of New York (1925)\nStage Struck (1925)\nPadlocked (1926)\nSea Horses (1926)\nSummer Bachelors (1926)\nTin Gods (1926)"
          ],
          [
           "The Half-Breed (1916)\nManhattan Madness (1916)\nAccusing Evidence (1916)\nPanthea (1917)\nA Modern Musketeer (1917)\nBound in Morocco (1918)\nHeadin' South (1918)\nMr. Fix-It (1918)\nHe Comes Up Smiling (1918)\nCheating Cheaters (1919)\nThe Dark Star (1919)\nGetting Mary Married (1919)\nSoldiers of Fortune (1919)\nIn The Heart of a Fool (1920) also producer\nThe Forbidden Thing (1920) also producer"
          ],
          [
           "short, also featuring Thomas Meighan and Henri de la Falaise, was produced as a joke, for the April 26, 1925 \"Lambs' Gambol\" for The Lambs, with the film showing Swanson crashing the all-male club."
          ],
          [
           "Following the introduction of the talkies, Dwan directed child-star Shirley Temple in Heidi (1937) and Rebecca of Sunnybrook Farm (1938)."
          ],
          [
           "Dwan helped launch the career of two other successful Hollywood directors, Victor Fleming, who went on to direct The Wizard of Oz and Gone With the Wind, and Marshall Neilan, who became an actor, director, writer and producer. Over a long career spanning almost 50 years, Dwan directed 125 motion pictures, some of which were highly acclaimed, such as the 1949 box office hit, Sands of Iwo Jima. He"
          ],
          [
           "After making a series of westerns and comedies, Dwan directed fellow Canadian-American Mary Pickford in several very successful movies as well as her husband, Douglas Fairbanks, notably in the acclaimed 1922 Robin Hood. Dwan directed Gloria Swanson in eight feature films, and one short film made in the short-lived sound-on-film process Phonofilm. This short, also featuring Thomas Meighan and Henri"
          ],
          [
           "to catering and various niche markets, the most significant being nautical tourism, as there are numerous marinas with more than 16 thousand berths, cultural tourism relying on appeal of medieval coastal cities and numerous cultural events taking place during the summer. Inland areas offer mountain resorts, agrotourism and spas. Zagreb is also a significant tourist destination, rivalling major"
          ],
          [
           "Croatia has unpolluted marine areas reflected through numerous nature reserves and 99 Blue Flag beaches and 28 Blue Flag marinas. Croatia is ranked as the 18th most popular tourist destination in the world. About 15% of these visitors (over one million per year) are involved with naturism, an industry for which Croatia is world-famous. It was also the first European country to develop commercial"
          ],
          [
           "the first European country to develop commercial naturist resorts."
          ],
          [
           "significant tourist destination, rivalling major coastal cities and resorts."
          ],
          [
           "The bulk of the tourist industry is concentrated along the Adriatic Sea coast. Opatija was the first holiday resort since the middle of the 19th century. By the 1890s, it became one of the most significant European health resorts. Later a large number of resorts sprang up along the coast and numerous islands, offering services ranging from mass tourism to catering and various niche markets, the"
          ],
          [
           "the Danube, representing the nation's outlet to the Pan-European transport corridor VII."
          ],
          [
           "Energy"
          ],
          [
           "Croatia has an extensive rail network spanning , including  of electrified railways and  of double track railways. The most significant railways in Croatia are found within the Pan-European transport corridors Vb and X connecting Rijeka to Budapest and Ljubljana to Belgrade, both via Zagreb. All rail services are operated by Croatian Railways."
          ],
          [
           "The busiest cargo seaport in Croatia is the Port of Rijeka and the busiest passenger ports are Split and Zadar. In addition to those, a large number of minor ports serve an extensive system of ferries connecting numerous islands and coastal cities in addition to ferry lines to several cities in Italy. The largest river port is Vukovar, located on the Danube, representing the nation's outlet to"
          ],
          [
           "There are international airports in Zagreb, Zadar, Split, Dubrovnik, Rijeka, Osijek and Pula. As of January 2011, Croatia complies with International Civil Aviation Organization aviation safety standards and the Federal Aviation Administration upgraded it to Category 1 rating."
          ],
          [
           "On 1 and 11 April 1895, the main rebel leaders landed on two expeditions in Oriente: Major Antonio Maceo and 22 members near Baracoa and Martí, Máximo Gómez and four other members in Playitas. Around that time, Spanish forces in Cuba numbered about 80,000, including 60,000 Spanish and Cuban volunteers. The latter were a locally enlisted force that took care of most of the guard and police duties"
          ],
          [
           "took care of most of the guard and police duties on the island. By December, 98,412 regular troops had been sent to the island and the number of volunteers had increased to 63,000 men. By the end of 1897, there were 240,000 regulars and 60,000 irregulars on the island. The revolutionaries were far outnumbered."
          ],
          [
           "The rebels came to be nicknamed \"Mambis\" after a black Spanish officer, Juan Ethninius Mamby, who joined the Dominicans in the fight for independence in 1846. When the Ten Years' War broke out in 1868, some of the same soldiers were assigned to Cuba, importing what had by then become a derogatory Spanish slur. The Cubans adopted the name with pride."
          ],
          [
           "These changes also entailed the rise of labour movements. The first Cuban labour organization, the Cigar Makers Guild, was created in 1878, followed by the Central Board of Artisans in 1879, and many more across the island. Abroad, a new trend of aggressive American influence emerged. Secretary of State James G. Blaine placed particular importance on the control of Cuba: \"If ever ceasing to be"
          ],
          [
           "on the control of Cuba: \"If ever ceasing to be Spanish, Cuba must necessarily become American and not fall under any other European domination\"."
          ],
          [
           "During the time of the so-called \"Rewarding Truce\", which encompassed the 17 years from the end of the Ten Years' War in 1878, fundamental changes took place in Cuban society. With the abolition of slavery in October 1886, former slaves joined the ranks of farmers and urban working class. Most wealthy Cubans lost their rural properties, and many of them joined the urban middle class. The number"
          ],
          [
           "of them joined the urban middle class. The number of sugar mills dropped and efficiency increased, with only companies and the most powerful plantation owners owning them. The numbers of campesinos and tenant farmers rose considerably. Furthermore, American capital began flowing into Cuba, mostly into the sugar and tobacco businesses and mining. By 1895, these investments totalled $50 million."
          ],
          [
           "By 1895, these investments totalled $50 million. Although Cuba remained Spanish politically, economically it became increasingly dependent on the United States."
          ],
          [
           "Conflicts in the late 19th century (1886–1900)"
          ],
          [
           "Background"
          ]
         ],
         "hovertemplate": "color=Economy of Croatia<br>x=%{x}<br>y=%{y}<br>metadata=%{customdata[0]}<extra></extra>",
         "legendgroup": "Economy of Croatia",
         "marker": {
          "color": "#FF97FF",
          "symbol": "circle",
          "size": 8
         },
         "mode": "markers",
         "name": "Economy of Croatia",
         "orientation": "v",
         "showlegend": true,
         "x": {
          "dtype": "f4",
          "bdata": "CI/kQHdb70A7CuBAZsjfQAjz60DN4uVAdUh+QOig70BmxvNAG/bzQA=="
         },
         "xaxis": "x",
         "y": {
          "dtype": "f4",
          "bdata": "MKsZQbVCHUG9sSFBFA8fQSBfIUF+SBhBXgMaQYofGkHVSBtBibITQQ=="
         },
         "yaxis": "y",
         "type": "scatter"
        },
        {
         "customdata": [
          [
           "benzodiazepines and nonbenzodiazepines. Dependence upon and withdrawal from sedative-hypnotics can be medically severe and, as with alcohol withdrawal, there is a risk of psychosis or seizures if not properly managed."
          ],
          [
           "requires careful reduction in dosage to avoid benzodiazepine withdrawal syndrome and other health consequences. Dependence on other sedative-hypnotics such as zolpidem and zopiclone as well as opiates and illegal drugs is common in alcoholics. Alcohol itself is a sedative-hypnotic and is cross-tolerant with other sedative-hypnotics such as barbiturates, benzodiazepines and nonbenzodiazepines."
          ],
          [
           "Dual addictions and dependencies"
          ],
          [
           "Epidemiology"
          ],
          [
           "or clonazepam. These drugs are, like alcohol, depressants. Benzodiazepines may be used legally, if they are prescribed by doctors for anxiety problems or other mood disorders, or they may be purchased as illegal drugs. Benzodiazepine use increases cravings for alcohol and the volume of alcohol consumed by problem drinkers. Benzodiazepine dependency requires careful reduction in dosage to avoid"
          ],
          [
           "Alcoholics may also require treatment for other psychotropic drug addictions and drug dependencies. The most common dual dependence syndrome with alcohol dependence is benzodiazepine dependence, with studies showing 10–20% of alcohol-dependent individuals had problems of dependence and/or misuse problems of benzodiazepine drugs such as diazepam or clonazepam. These drugs are, like alcohol,"
          ],
          [
           "Alcohol withdrawal"
          ],
          [
           "Serious social problems arise from alcohol use disorder; these dilemmas are caused by the pathological changes in the brain and the intoxicating effects of alcohol. Alcohol misuse is associated with an increased risk of committing criminal offences, including child abuse, domestic violence, rape, burglary and assault. Alcoholism is associated with loss of employment, which can lead to financial"
          ],
          [
           "with alcohol use disorders can develop a number of emotional problems. For example, they can become afraid of their parents, because of their unstable mood behaviors. They may develop shame over their inadequacy to liberate their parents from alcoholism and, as a result of this, may develop self-image problems, which can lead to depression."
          ],
          [
           "loss of employment, which can lead to financial problems. Drinking at inappropriate times and behavior caused by reduced judgment can lead to legal consequences, such as criminal charges for drunk driving or public disorder, or civil penalties for tortious behavior. An alcoholic's behavior and mental impairment while drunk can profoundly affect those surrounding him and lead to isolation from"
          ],
          [
           "Former Misery ( )\nFuture Blessing ( )\nDivine Announcement: Zerubbabel Chosen as a Signet  ( )"
          ],
          [
           "Divine Announcement: The Command to Rebuild the Temple  ( )\nIntroduction: Reluctant Rebuilders  ( )\nConsider your ways: fruitless prosperity ( )\nPromise and Progress  ( )\nDivine Announcement: The Coming Glory of the Temple  ( )\nGod will fulfill his promise ( ) \nFuture Splendor of the temple ( )\nDivine Announcement: Blessings for a Defiled People  ( )\nFormer Misery ( )\nFuture Blessing ( )"
          ],
          [
           "Notes\n\nReferences\n\nWorks cited\n\nExternal links \n\nJewish translations:\n Chaggai – Haggai (Judaica Press) translation with Rashi's commentary at Chabad.org\nChristian translations:\nOnline Bible at GospelHall.org (ESV, KJV, Darby, American Standard Version, Bible in Basic English)\n  Various versions\n\n \n6th-century BC books\nTwelve Minor Prophets"
          ],
          [
           "Outline"
          ],
          [
           "Music \nThe King James Version of Haggai 2:6–7 is used in the libretto of the English-language oratorio \"Messiah\" by George Frideric Handel (HWV 56).\n\nSee also \nDarius I\nJoshua the High Priest , son of Jehozadak\nOld Testament messianic prophecies quoted in the New Testament\n\nNotes\n\nReferences\n\nWorks cited\n\nExternal links"
          ],
          [
           "75–50 BCE); and Wadi Murabba'at Minor Prophets (Mur88; MurXIIProph; 75-100 CE)."
          ],
          [
           "text is uncertain but most likely dates to within a generation of Haggai himself. Traditional consensus dates the completion of the text to c. 515 BC. Other scholars consider the book to be completed around 417 BC, as it did not refer to Darius I, but to Darius II (424-405 BC)."
          ],
          [
           "Date"
          ],
          [
           "The Book of Haggai records events in 520 BC, some 18 years after Cyrus had conquered Babylon and issued a decree in 538 BC, allowing the captive Judahites to return to Judea. Cyrus saw the restoration of the temple as necessary for the restoration of religious practices and a sense of peoplehood, after the long exile. The precise date of the written text is uncertain but most likely dates to"
          ],
          [
           "Some early manuscripts containing the text of this book in Biblical Hebrew are of the Masoretic Text, which includes the Codex Cairensis (895), the Petersburg Codex of the Prophets (916), and Codex Leningradensis (1008). Fragments of the Hebrew text of this book were found among the Dead Sea Scrolls, including 4Q77 (4QXIIb; 150–125 BCE) 4Q80 (4QXIIe; 75–50 BCE); and Wadi Murabba'at Minor Prophets"
          ],
          [
           "the phenomena of gravitational time dilation, gravitational redshift and gravitational lensing."
          ],
          [
           "In 1911, Einstein published another article \"On the Influence of Gravitation on the Propagation of Light\" expanding on the 1907 article, in which he estimated the amount of deflection of light by massive bodies. Thus, the theoretical prediction of general relativity could for the first time be tested experimentally."
          ],
          [
           "under special relativity. In that article titled \"On the Relativity Principle and the Conclusions Drawn from It\", he argued that free fall is really inertial motion, and that for a free-falling observer the rules of special relativity must apply. This argument is called the equivalence principle. In the same article, Einstein also predicted the phenomena of gravitational time dilation,"
          ],
          [
           "As Einstein later said, the reason for the development of general relativity was that the preference of inertial motions within special relativity was unsatisfactory, while a theory which from the outset prefers no state of motion (even accelerated ones) should appear more satisfactory. Consequently, in 1907 he published an article on acceleration under special relativity. In that article titled"
          ],
          [
           "as they were being denied citizenship elsewhere. In his speech he described Einstein as a \"citizen of the world\" who should be offered a temporary shelter in the UK. Both bills failed, however, and Einstein then accepted an earlier offer from the Institute for Advanced Study, in Princeton, New Jersey, US, to become a resident scholar."
          ],
          [
           "On 3 October 1933, Einstein delivered a speech on the importance of academic freedom before a packed audience at the Royal Albert Hall in London, with The Times reporting he was wildly cheered throughout. Four days later he returned to the US and took up a position at the Institute for Advanced Study, noted for having become a refuge for scientists fleeing Nazi Germany. At the time, most American"
          ],
          [
           "fleeing Nazi Germany. At the time, most American universities, including Harvard, Princeton and Yale, had minimal or no Jewish faculty or students, as a result of their Jewish quotas, which lasted until the late 1940s."
          ],
          [
           "Resident scholar at the Institute for Advanced Study"
          ],
          [
           "Locker-Lampson also submitted a bill to parliament to extend British citizenship to Einstein, during which period Einstein made a number of public appearances describing the crisis brewing in Europe. In one of his speeches he denounced Germany's treatment of Jews, while at the same time he introduced a bill promoting Jewish citizenship in Palestine, as they were being denied citizenship elsewhere."
          ],
          [
           "Einsteinium, one of the synthetic elements in the periodic table, was named in his honor.\n\nPublications\n\nScientific"
          ],
          [
           "In 1520, while attempting to circumnavigate the globe, Ferdinand Magellan discovered the southern passage now named after him (the Strait of Magellan) thus becoming the first European to set foot on what is now Chile. The next Europeans to reach Chile were Diego de Almagro and his band of Spanish conquistadors, who came from Peru in 1535 seeking gold. The Spanish encountered various cultures that"
          ],
          [
           "The Spanish encountered various cultures that supported themselves principally through slash-and-burn agriculture and hunting."
          ],
          [
           "Spanish colonization"
          ],
          [
           "The conquest of Chile began in earnest in 1540 and was carried out by Pedro de Valdivia, one of Francisco Pizarro's lieutenants, who founded the city of Santiago on 12 February 1541. Although the Spanish did not find the extensive gold and silver they sought, they recognized the agricultural potential of Chile's central valley, and Chile became part of the Spanish Empire."
          ],
          [
           "A military junta, led by General Augusto Pinochet, took control of the country. The first years of the regime were marked by human rights violations. Chile actively participated in Operation Condor. In October 1973, at least 72 people were murdered by the Caravan of Death. According to the Rettig Report and Valech Commission, at least 2,115 were killed, and at least 27,265 were tortured (including"
          ],
          [
           "A new Constitution was approved by a controversial plebiscite on 11 September 1980, and General Pinochet became president of the republic for an eight-year term. After Pinochet obtained rule of the country, several hundred committed Chilean revolutionaries joined the Sandinista army in Nicaragua, guerrilla forces in Argentina or training camps in Cuba, Eastern Europe and Northern Africa."
          ],
          [
           "and at least 27,265 were tortured (including 88 children younger than 12 years old). In 2011, Chile recognized an additional 9,800 victims, bringing the total number of killed, tortured or imprisoned for political reasons to 40,018. At the national stadium, filled with detainees, one of those tortured and killed was internationally known poet-singer Víctor Jara (see \"Music and Dance\", below)."
          ],
          [
           "In November 2005 the government launched a campaign under the brand \"Chile: All Ways Surprising\" intended to promote the country internationally for both business and tourism. Museums in Chile such as the Chilean National Museum of Fine Arts built in 1880, feature works by Chilean artists."
          ],
          [
           "Chile is home to the world-renowned Patagonian Trail that resides on the border between Argentina and Chile. Chile recently launched a massive scenic route for tourism in hopes of encouraging development based on conservation. The Route of Parks covers  and was designed by Tompkin Conservation (founders Douglas Tompkins and wife Kristine).\n\nTransport"
          ],
          [
           "access to Concepción and the large project of the Santiago urban highways network, opened between 2004 and 2006. Buses are now the main means of long-distance transportation in Chile, following the decline of its railway network. The bus system covers the entire country, from Arica to Santiago (a 30-hour journey) and from Santiago to Punta Arenas (about 40 hours, with a change at Osorno)."
          ],
          [
           "The Elephant Mountains\n\nChuŏr Phnum Dâmrei - A north-south-trending range of high hills, an extension of the Cardamom/Krâvanh Mountains, in south-eastern Cambodia,  rising to elevations of between 500 and 1,000 meters. Extending  north from the Gulf of Thailand, they reach a high point in the Bok Koŭ ridge at Mount Bokor  near the sea."
          ],
          [
           "The Cardamom Mountains form - including the north-western part of Chanthaburi Province, Thailand, the 'Soi Dao Mountains' - the Cardamom Mountains Moist Forests Ecoregion, that is considered to be one of the most species-rich and intact natural habitats in the region. The climate, size inaccessibility and seclusion of the mountains have allowed a rich variety of wildlife to thrive. The Cardamom"
          ],
          [
           "To the south-west of the Southern mountain ranges extends a narrow coastal plain that contains the Kampong Saom Bay area and the Sihanoukville peninsula, facing the Gulf of Thailand.\n\nNorthern Mountains\n\nThe Dangrek Mountains"
          ],
          [
           "rich variety of wildlife to thrive. The Cardamom and Elephant Mountains remain to be fully researched and documented."
          ],
          [
           "The Cardamom/Krâvanh Mountains"
          ],
          [
           "Occupying Koh Kong Province and Kampong Speu Province, running in a north-western to south-eastern direction and rising to more than . The highest mountain of Cambodia, Phnom Aural, at  is located in Aoral District in Kampong Speu Province."
          ],
          [
           "the absence of strict administrative control and indifference in law enforcement - not only in Cambodia but the entire region."
          ],
          [
           "Figures and assessments are numerous as are available sources.  as seen in numbers below, which provide a wide range for interpretation. About  (1%) of forest cover is planted forest. Overall Cambodia’s forests contain an estimated 464 million metric tonnes of carbon stock in living forest biomass. Approximately 40% of Cambodia’s Forests have some level of protection, while one of the Cambodia"
          ],
          [
           "level of protection, while one of the Cambodia Millennium Development Goals targets is to achieve a 60% forest cover by 2015."
          ],
          [
           "Cambodia has one of the highest levels of forest cover in the region as the interdependence of Cambodia’s geography and hydrology makes it rich in natural resources and biological diversity - among the bio-richest countries in Southeast Asia. The Royal Government of Cambodia estimates Cambodia contains approximately 10.36 million hectares of forest cover, representing approximately 57.07% of"
          ],
          [
           "capability, the aircraft received UK certification, and the first customer aircraft was delivered. Despite this success, the additional investment necessary for the final phase of full production was not forthcoming, the business went into receivership, and John Edgley was forced out. With new owners, aircraft on the production line were completed, and the Optica entered service."
          ],
          [
           "The Edgley EA-7 Optica is a British light aircraft designed for low-speed observation work, and intended as a low-cost alternative to helicopters. The Optica has a loiter speed of 130 km/h (70 kn; 81 mph) and a stall speed of 108 km/h (58 kn; 67 mph).\n\nDesign and development"
          ],
          [
           "The Optica project began in 1974 with a company, Edgley Aircraft Limited, formed by John Edgley who, with a small team, designed and built the original prototype. In 1982, institutional investors bought into the project and set up a production line at Old Sarum Airfield in Wiltshire. Over the next three years, the company was built up to full manufacturing capability, the aircraft received UK"
          ],
          [
           "with due diligence, appraisal and further steps to re launch the EA-7 Optica aircraft programme in the 2018–19 timeframe.  IFG planned to develop, market and support the Optica, outsourcing the fabrication and final assembly to an FAA/EASA Part 23 certified OEM. At the end of 2018, IFG modified its initial program re-launch efforts whilst, again, identifying and selecting a suitable OEM strategic"
          ],
          [
           "of intent, remains active in the search for strategic partners to"
          ],
          [
           "The Optica and the Sprint together then passed through other owners until, in 2007, they were offered to John Edgley who formed a new company, AeroElvira Limited, with three former employees of Edgley Aircraft (Chris Burleigh, Fin Colson and Dave Lee) who at that time were working on both projects for the then-owners.  The new company successfully put G-BOPO back into service as a UK demonstrator,"
          ],
          [
           "G-BOPO back into service as a UK demonstrator, with a first return-to-service flight on 3 June 2008. In August 2016 Interflight Global (IFG) announced plans to start a valuation of the dormant Optica programme with a view to relaunching production.  In December 2016, IFG completed its valuation and in June 2017, delivered an LOI to AeroElvira to continue with due diligence, appraisal and further"
          ],
          [
           "and selecting a suitable OEM strategic partner to update the Optica TC and to bring the aircraft into production. As of the end of 2019, IFG continues to seek for a strategic OEM partner to re-launch the program aligned with optionally piloted and powered by electric or hybrid electric powerplants. As of 2022, IFG, in a post COVID 19 Pandemic re assessment of intent, remains active in the search"
          ],
          [
           "1980s British special-purpose aircraft\nEdgley aircraft\nDucted fan-powered aircraft\nMid-wing aircraft\nAircraft first flown in 1979\nSingle-engined pusher aircraft"
          ],
          [
           "The Optica went through several changes of ownership, until FLS Aerospace (Lovaux Ltd) took over the rights, together with the design and manufacturing rights to the Sprint: a two-seat ab-initio trainer that had been designed by Sydney Holloway in Cornwall UK at about the same time as the Optica. Lovaux had intended to develop both aircraft, with the Sprint intended as the military trainer for the"
          ],
          [
           "Cinema\n\nThe Algerian state's interest in film-industry activities can be seen in the annual budget of DZD 200 million (EUR 1.3 million) allocated to production, specific measures and an ambitious programme plan implemented by the Ministry of Culture in order to promote national production, renovate the cinema stock and remedy the weak links in distribution and exploitation."
          ],
          [
           "singer. Other Algerian singers of the diaspora include Manel Filali in Germany and Kenza Farah in France. Tergui music is sung in Tuareg languages generally, Tinariwen had a worldwide success. Finally, the staïfi music is born in Sétif and remains a unique style of its kind."
          ],
          [
           "Modern music is available in several facets, Raï music is a style typical of western Algeria. Rap, a relatively recent style in Algeria, is experiencing significant growth.\n\nCinema"
          ],
          [
           "Folk music styles include Bedouin music, characterized by the poetic songs based on long kacida (poems); Kabyle music, based on a rich repertoire that is poetry and old tales passed through generations; Shawiya music, a folklore from diverse areas of the Aurès Mountains. Rahaba music style is unique to the Aures. Souad Massi is a rising Algerian folk singer. Other Algerian singers of the diaspora"
          ],
          [
           "Centuries of Arab migration to the Maghreb since the 7th century shifted the demographic scope in Algeria. The majority of the population of Algeria are Arabs (75% to 85% of the population). Berbers who make up 15% to 20% of the population are divided into many groups with varying languages. The largest of these are the Kabyles, who live in the Kabylie region east of Algiers, the Chaoui of"
          ],
          [
           "During the colonial period, there was a large (10% in 1960) European population who became known as Pied-Noirs. They were primarily of French, Spanish and Italian origin. Almost all of this population left during the war of independence or immediately after its end.\n\nLanguages"
          ],
          [
           "Languages\n\nModern Standard Arabic and Berber are the official languages. Algerian Arabic (Darja) is the language used by the majority of the population. Colloquial Algerian Arabic has some Berber loanwords which represent 8% to 9% of its vocabulary."
          ],
          [
           "the Kabylie region east of Algiers, the Chaoui of Northeast Algeria, the Tuaregs in the southern desert and the Shenwa people of North Algeria."
          ],
          [
           "The financial support provided by the state, through the Fund for the Development of the Arts, Techniques and the Film Industry (FDATIC) and the Algerian Agency for Cultural Influence (AARC), plays a key role in the promotion of national production. Between 2007 and 2013, FDATIC subsidised 98 films (feature films, documentaries and short films). In mid-2013, AARC had already supported a total of"
          ],
          [
           "According to the European Audiovisual Observatory's LUMIERE database, 41 Algerian films were distributed in Europe between 1996 and 2013; 21 films in this repertoire were Algerian-French co-productions. Days of Glory (2006) and Outside the Law (2010) recorded the highest number of admissions in the European Union, 3,172,612 and 474,722, respectively."
          ],
          [
           "Dwan has a star on the Hollywood Walk of Fame at 6263 Hollywood Boulevard.\n\nDaniel Eagan of Film Journal International described Dwan as one of the early pioneers of cinema, stating that his style \"is so basic as to seem invisible, but he treats his characters with uncommon sympathy and compassion.\"\n\nPartial filmography as director"
          ],
          [
           "The Restless Spirit (1913)\nBack to Life (1913)\nBloodhounds of the North (1913)\nThe Lie (1914)\nThe Honor of the Mounted (1914)\n The Unwelcome Mrs. Hatch (1914)\nRemember Mary Magdalen (1914)\nDiscord and Harmony (1914)\nThe Embezzler (1914)\nThe Lamb, the Woman, the Wolf (1914)\nThe End of the Feud (1914)\nThe Test (1914) (*writer)\nThe Tragedy of Whispering Creek (1914)\nThe Unlawful Trade (1914)"
          ],
          [
           "The Unlawful Trade (1914)\nThe Forbidden Room (1914)\nThe Hopes of Blind Alley (1914)\nRichelieu (1914)\n Wildflower (1914)\nA Small Town Girl (1915)\nDavid Harum (1915)\nA Girl of Yesterday (1915)\nThe Pretty Sister of Jose (1915)\n Jordan Is a Hard Road (1915)\nThe Habit of Happiness (1916)\nThe Good Bad Man (1916)\nAn Innocent Magdalene (1916)\nThe Half-Breed (1916)\nManhattan Madness (1916)"
          ],
          [
           "Summer Bachelors (1926)\nTin Gods (1926)\nFrench Dressing (1927)\nThe Joy Girl (1927)"
          ],
          [
           "The Forbidden Thing (1920) also producer\nA Splendid Hazard (1920)\nA Perfect Crime (1921)\n The Sin of Martha Queed (1921)\n A Broken Doll (1921)\nRobin Hood (1922)\nZaza (1923)\nBig Brother (1923)\nManhandled (1924)\nArgentine Love (1924)\nThe Coast of Folly (1925)\nNight Life of New York (1925)\nStage Struck (1925)\nPadlocked (1926)\nSea Horses (1926)\nSummer Bachelors (1926)\nTin Gods (1926)"
          ],
          [
           "The Half-Breed (1916)\nManhattan Madness (1916)\nAccusing Evidence (1916)\nPanthea (1917)\nA Modern Musketeer (1917)\nBound in Morocco (1918)\nHeadin' South (1918)\nMr. Fix-It (1918)\nHe Comes Up Smiling (1918)\nCheating Cheaters (1919)\nThe Dark Star (1919)\nGetting Mary Married (1919)\nSoldiers of Fortune (1919)\nIn The Heart of a Fool (1920) also producer\nThe Forbidden Thing (1920) also producer"
          ],
          [
           "short, also featuring Thomas Meighan and Henri de la Falaise, was produced as a joke, for the April 26, 1925 \"Lambs' Gambol\" for The Lambs, with the film showing Swanson crashing the all-male club."
          ],
          [
           "Following the introduction of the talkies, Dwan directed child-star Shirley Temple in Heidi (1937) and Rebecca of Sunnybrook Farm (1938)."
          ],
          [
           "Dwan helped launch the career of two other successful Hollywood directors, Victor Fleming, who went on to direct The Wizard of Oz and Gone With the Wind, and Marshall Neilan, who became an actor, director, writer and producer. Over a long career spanning almost 50 years, Dwan directed 125 motion pictures, some of which were highly acclaimed, such as the 1949 box office hit, Sands of Iwo Jima. He"
          ],
          [
           "After making a series of westerns and comedies, Dwan directed fellow Canadian-American Mary Pickford in several very successful movies as well as her husband, Douglas Fairbanks, notably in the acclaimed 1922 Robin Hood. Dwan directed Gloria Swanson in eight feature films, and one short film made in the short-lived sound-on-film process Phonofilm. This short, also featuring Thomas Meighan and Henri"
          ],
          [
           "to catering and various niche markets, the most significant being nautical tourism, as there are numerous marinas with more than 16 thousand berths, cultural tourism relying on appeal of medieval coastal cities and numerous cultural events taking place during the summer. Inland areas offer mountain resorts, agrotourism and spas. Zagreb is also a significant tourist destination, rivalling major"
          ],
          [
           "Croatia has unpolluted marine areas reflected through numerous nature reserves and 99 Blue Flag beaches and 28 Blue Flag marinas. Croatia is ranked as the 18th most popular tourist destination in the world. About 15% of these visitors (over one million per year) are involved with naturism, an industry for which Croatia is world-famous. It was also the first European country to develop commercial"
          ],
          [
           "the first European country to develop commercial naturist resorts."
          ],
          [
           "significant tourist destination, rivalling major coastal cities and resorts."
          ],
          [
           "The bulk of the tourist industry is concentrated along the Adriatic Sea coast. Opatija was the first holiday resort since the middle of the 19th century. By the 1890s, it became one of the most significant European health resorts. Later a large number of resorts sprang up along the coast and numerous islands, offering services ranging from mass tourism to catering and various niche markets, the"
          ],
          [
           "the Danube, representing the nation's outlet to the Pan-European transport corridor VII."
          ],
          [
           "Energy"
          ],
          [
           "Croatia has an extensive rail network spanning , including  of electrified railways and  of double track railways. The most significant railways in Croatia are found within the Pan-European transport corridors Vb and X connecting Rijeka to Budapest and Ljubljana to Belgrade, both via Zagreb. All rail services are operated by Croatian Railways."
          ],
          [
           "The busiest cargo seaport in Croatia is the Port of Rijeka and the busiest passenger ports are Split and Zadar. In addition to those, a large number of minor ports serve an extensive system of ferries connecting numerous islands and coastal cities in addition to ferry lines to several cities in Italy. The largest river port is Vukovar, located on the Danube, representing the nation's outlet to"
          ],
          [
           "There are international airports in Zagreb, Zadar, Split, Dubrovnik, Rijeka, Osijek and Pula. As of January 2011, Croatia complies with International Civil Aviation Organization aviation safety standards and the Federal Aviation Administration upgraded it to Category 1 rating."
          ],
          [
           "On 1 and 11 April 1895, the main rebel leaders landed on two expeditions in Oriente: Major Antonio Maceo and 22 members near Baracoa and Martí, Máximo Gómez and four other members in Playitas. Around that time, Spanish forces in Cuba numbered about 80,000, including 60,000 Spanish and Cuban volunteers. The latter were a locally enlisted force that took care of most of the guard and police duties"
          ],
          [
           "took care of most of the guard and police duties on the island. By December, 98,412 regular troops had been sent to the island and the number of volunteers had increased to 63,000 men. By the end of 1897, there were 240,000 regulars and 60,000 irregulars on the island. The revolutionaries were far outnumbered."
          ],
          [
           "The rebels came to be nicknamed \"Mambis\" after a black Spanish officer, Juan Ethninius Mamby, who joined the Dominicans in the fight for independence in 1846. When the Ten Years' War broke out in 1868, some of the same soldiers were assigned to Cuba, importing what had by then become a derogatory Spanish slur. The Cubans adopted the name with pride."
          ],
          [
           "These changes also entailed the rise of labour movements. The first Cuban labour organization, the Cigar Makers Guild, was created in 1878, followed by the Central Board of Artisans in 1879, and many more across the island. Abroad, a new trend of aggressive American influence emerged. Secretary of State James G. Blaine placed particular importance on the control of Cuba: \"If ever ceasing to be"
          ],
          [
           "on the control of Cuba: \"If ever ceasing to be Spanish, Cuba must necessarily become American and not fall under any other European domination\"."
          ],
          [
           "During the time of the so-called \"Rewarding Truce\", which encompassed the 17 years from the end of the Ten Years' War in 1878, fundamental changes took place in Cuban society. With the abolition of slavery in October 1886, former slaves joined the ranks of farmers and urban working class. Most wealthy Cubans lost their rural properties, and many of them joined the urban middle class. The number"
          ],
          [
           "of them joined the urban middle class. The number of sugar mills dropped and efficiency increased, with only companies and the most powerful plantation owners owning them. The numbers of campesinos and tenant farmers rose considerably. Furthermore, American capital began flowing into Cuba, mostly into the sugar and tobacco businesses and mining. By 1895, these investments totalled $50 million."
          ],
          [
           "By 1895, these investments totalled $50 million. Although Cuba remained Spanish politically, economically it became increasingly dependent on the United States."
          ],
          [
           "Conflicts in the late 19th century (1886–1900)"
          ],
          [
           "Background"
          ]
         ],
         "hovertemplate": "color=History of Cuba<br>x=%{x}<br>y=%{y}<br>metadata=%{customdata[0]}<extra></extra>",
         "legendgroup": "History of Cuba",
         "marker": {
          "color": "#FECB52",
          "symbol": "circle",
          "size": 8
         },
         "mode": "markers",
         "name": "History of Cuba",
         "orientation": "v",
         "showlegend": true,
         "x": {
          "dtype": "f4",
          "bdata": "nXqvQGWTtkDKAq1AF/qnQEv5qUCXvqFA43anQLD1oUBYu5dAhuOGQA=="
         },
         "xaxis": "x",
         "y": {
          "dtype": "f4",
          "bdata": "NyM2QU6DOEELIjtBhiQ7QaGqNUFAujxBRgo5QdigNkHBETVBW4QXQQ=="
         },
         "yaxis": "y",
         "type": "scatter"
        }
       ],
       "layout": {
        "template": {
         "data": {
          "histogram2dcontour": [
           {
            "type": "histogram2dcontour",
            "colorbar": {
             "outlinewidth": 0,
             "ticks": ""
            },
            "colorscale": [
             [
              0.0,
              "#0d0887"
             ],
             [
              0.1111111111111111,
              "#46039f"
             ],
             [
              0.2222222222222222,
              "#7201a8"
             ],
             [
              0.3333333333333333,
              "#9c179e"
             ],
             [
              0.4444444444444444,
              "#bd3786"
             ],
             [
              0.5555555555555556,
              "#d8576b"
             ],
             [
              0.6666666666666666,
              "#ed7953"
             ],
             [
              0.7777777777777778,
              "#fb9f3a"
             ],
             [
              0.8888888888888888,
              "#fdca26"
             ],
             [
              1.0,
              "#f0f921"
             ]
            ]
           }
          ],
          "choropleth": [
           {
            "type": "choropleth",
            "colorbar": {
             "outlinewidth": 0,
             "ticks": ""
            }
           }
          ],
          "histogram2d": [
           {
            "type": "histogram2d",
            "colorbar": {
             "outlinewidth": 0,
             "ticks": ""
            },
            "colorscale": [
             [
              0.0,
              "#0d0887"
             ],
             [
              0.1111111111111111,
              "#46039f"
             ],
             [
              0.2222222222222222,
              "#7201a8"
             ],
             [
              0.3333333333333333,
              "#9c179e"
             ],
             [
              0.4444444444444444,
              "#bd3786"
             ],
             [
              0.5555555555555556,
              "#d8576b"
             ],
             [
              0.6666666666666666,
              "#ed7953"
             ],
             [
              0.7777777777777778,
              "#fb9f3a"
             ],
             [
              0.8888888888888888,
              "#fdca26"
             ],
             [
              1.0,
              "#f0f921"
             ]
            ]
           }
          ],
          "heatmap": [
           {
            "type": "heatmap",
            "colorbar": {
             "outlinewidth": 0,
             "ticks": ""
            },
            "colorscale": [
             [
              0.0,
              "#0d0887"
             ],
             [
              0.1111111111111111,
              "#46039f"
             ],
             [
              0.2222222222222222,
              "#7201a8"
             ],
             [
              0.3333333333333333,
              "#9c179e"
             ],
             [
              0.4444444444444444,
              "#bd3786"
             ],
             [
              0.5555555555555556,
              "#d8576b"
             ],
             [
              0.6666666666666666,
              "#ed7953"
             ],
             [
              0.7777777777777778,
              "#fb9f3a"
             ],
             [
              0.8888888888888888,
              "#fdca26"
             ],
             [
              1.0,
              "#f0f921"
             ]
            ]
           }
          ],
          "contourcarpet": [
           {
            "type": "contourcarpet",
            "colorbar": {
             "outlinewidth": 0,
             "ticks": ""
            }
           }
          ],
          "contour": [
           {
            "type": "contour",
            "colorbar": {
             "outlinewidth": 0,
             "ticks": ""
            },
            "colorscale": [
             [
              0.0,
              "#0d0887"
             ],
             [
              0.1111111111111111,
              "#46039f"
             ],
             [
              0.2222222222222222,
              "#7201a8"
             ],
             [
              0.3333333333333333,
              "#9c179e"
             ],
             [
              0.4444444444444444,
              "#bd3786"
             ],
             [
              0.5555555555555556,
              "#d8576b"
             ],
             [
              0.6666666666666666,
              "#ed7953"
             ],
             [
              0.7777777777777778,
              "#fb9f3a"
             ],
             [
              0.8888888888888888,
              "#fdca26"
             ],
             [
              1.0,
              "#f0f921"
             ]
            ]
           }
          ],
          "surface": [
           {
            "type": "surface",
            "colorbar": {
             "outlinewidth": 0,
             "ticks": ""
            },
            "colorscale": [
             [
              0.0,
              "#0d0887"
             ],
             [
              0.1111111111111111,
              "#46039f"
             ],
             [
              0.2222222222222222,
              "#7201a8"
             ],
             [
              0.3333333333333333,
              "#9c179e"
             ],
             [
              0.4444444444444444,
              "#bd3786"
             ],
             [
              0.5555555555555556,
              "#d8576b"
             ],
             [
              0.6666666666666666,
              "#ed7953"
             ],
             [
              0.7777777777777778,
              "#fb9f3a"
             ],
             [
              0.8888888888888888,
              "#fdca26"
             ],
             [
              1.0,
              "#f0f921"
             ]
            ]
           }
          ],
          "mesh3d": [
           {
            "type": "mesh3d",
            "colorbar": {
             "outlinewidth": 0,
             "ticks": ""
            }
           }
          ],
          "scatter": [
           {
            "marker": {
             "line": {
              "color": "#283442"
             }
            },
            "type": "scatter"
           }
          ],
          "parcoords": [
           {
            "type": "parcoords",
            "line": {
             "colorbar": {
              "outlinewidth": 0,
              "ticks": ""
             }
            }
           }
          ],
          "scatterpolargl": [
           {
            "type": "scatterpolargl",
            "marker": {
             "colorbar": {
              "outlinewidth": 0,
              "ticks": ""
             }
            }
           }
          ],
          "bar": [
           {
            "error_x": {
             "color": "#f2f5fa"
            },
            "error_y": {
             "color": "#f2f5fa"
            },
            "marker": {
             "line": {
              "color": "rgb(17,17,17)",
              "width": 0.5
             },
             "pattern": {
              "fillmode": "overlay",
              "size": 10,
              "solidity": 0.2
             }
            },
            "type": "bar"
           }
          ],
          "scattergeo": [
           {
            "type": "scattergeo",
            "marker": {
             "colorbar": {
              "outlinewidth": 0,
              "ticks": ""
             }
            }
           }
          ],
          "scatterpolar": [
           {
            "type": "scatterpolar",
            "marker": {
             "colorbar": {
              "outlinewidth": 0,
              "ticks": ""
             }
            }
           }
          ],
          "histogram": [
           {
            "marker": {
             "pattern": {
              "fillmode": "overlay",
              "size": 10,
              "solidity": 0.2
             }
            },
            "type": "histogram"
           }
          ],
          "scattergl": [
           {
            "marker": {
             "line": {
              "color": "#283442"
             }
            },
            "type": "scattergl"
           }
          ],
          "scatter3d": [
           {
            "type": "scatter3d",
            "line": {
             "colorbar": {
              "outlinewidth": 0,
              "ticks": ""
             }
            },
            "marker": {
             "colorbar": {
              "outlinewidth": 0,
              "ticks": ""
             }
            }
           }
          ],
          "scattermap": [
           {
            "type": "scattermap",
            "marker": {
             "colorbar": {
              "outlinewidth": 0,
              "ticks": ""
             }
            }
           }
          ],
          "scattermapbox": [
           {
            "type": "scattermapbox",
            "marker": {
             "colorbar": {
              "outlinewidth": 0,
              "ticks": ""
             }
            }
           }
          ],
          "scatterternary": [
           {
            "type": "scatterternary",
            "marker": {
             "colorbar": {
              "outlinewidth": 0,
              "ticks": ""
             }
            }
           }
          ],
          "scattercarpet": [
           {
            "type": "scattercarpet",
            "marker": {
             "colorbar": {
              "outlinewidth": 0,
              "ticks": ""
             }
            }
           }
          ],
          "carpet": [
           {
            "aaxis": {
             "endlinecolor": "#A2B1C6",
             "gridcolor": "#506784",
             "linecolor": "#506784",
             "minorgridcolor": "#506784",
             "startlinecolor": "#A2B1C6"
            },
            "baxis": {
             "endlinecolor": "#A2B1C6",
             "gridcolor": "#506784",
             "linecolor": "#506784",
             "minorgridcolor": "#506784",
             "startlinecolor": "#A2B1C6"
            },
            "type": "carpet"
           }
          ],
          "table": [
           {
            "cells": {
             "fill": {
              "color": "#506784"
             },
             "line": {
              "color": "rgb(17,17,17)"
             }
            },
            "header": {
             "fill": {
              "color": "#2a3f5f"
             },
             "line": {
              "color": "rgb(17,17,17)"
             }
            },
            "type": "table"
           }
          ],
          "barpolar": [
           {
            "marker": {
             "line": {
              "color": "rgb(17,17,17)",
              "width": 0.5
             },
             "pattern": {
              "fillmode": "overlay",
              "size": 10,
              "solidity": 0.2
             }
            },
            "type": "barpolar"
           }
          ],
          "pie": [
           {
            "automargin": true,
            "type": "pie"
           }
          ]
         },
         "layout": {
          "autotypenumbers": "strict",
          "colorway": [
           "#636efa",
           "#EF553B",
           "#00cc96",
           "#ab63fa",
           "#FFA15A",
           "#19d3f3",
           "#FF6692",
           "#B6E880",
           "#FF97FF",
           "#FECB52"
          ],
          "font": {
           "color": "#f2f5fa"
          },
          "hovermode": "closest",
          "hoverlabel": {
           "align": "left"
          },
          "paper_bgcolor": "rgb(17,17,17)",
          "plot_bgcolor": "rgb(17,17,17)",
          "polar": {
           "bgcolor": "rgb(17,17,17)",
           "angularaxis": {
            "gridcolor": "#506784",
            "linecolor": "#506784",
            "ticks": ""
           },
           "radialaxis": {
            "gridcolor": "#506784",
            "linecolor": "#506784",
            "ticks": ""
           }
          },
          "ternary": {
           "bgcolor": "rgb(17,17,17)",
           "aaxis": {
            "gridcolor": "#506784",
            "linecolor": "#506784",
            "ticks": ""
           },
           "baxis": {
            "gridcolor": "#506784",
            "linecolor": "#506784",
            "ticks": ""
           },
           "caxis": {
            "gridcolor": "#506784",
            "linecolor": "#506784",
            "ticks": ""
           }
          },
          "coloraxis": {
           "colorbar": {
            "outlinewidth": 0,
            "ticks": ""
           }
          },
          "colorscale": {
           "sequential": [
            [
             0.0,
             "#0d0887"
            ],
            [
             0.1111111111111111,
             "#46039f"
            ],
            [
             0.2222222222222222,
             "#7201a8"
            ],
            [
             0.3333333333333333,
             "#9c179e"
            ],
            [
             0.4444444444444444,
             "#bd3786"
            ],
            [
             0.5555555555555556,
             "#d8576b"
            ],
            [
             0.6666666666666666,
             "#ed7953"
            ],
            [
             0.7777777777777778,
             "#fb9f3a"
            ],
            [
             0.8888888888888888,
             "#fdca26"
            ],
            [
             1.0,
             "#f0f921"
            ]
           ],
           "sequentialminus": [
            [
             0.0,
             "#0d0887"
            ],
            [
             0.1111111111111111,
             "#46039f"
            ],
            [
             0.2222222222222222,
             "#7201a8"
            ],
            [
             0.3333333333333333,
             "#9c179e"
            ],
            [
             0.4444444444444444,
             "#bd3786"
            ],
            [
             0.5555555555555556,
             "#d8576b"
            ],
            [
             0.6666666666666666,
             "#ed7953"
            ],
            [
             0.7777777777777778,
             "#fb9f3a"
            ],
            [
             0.8888888888888888,
             "#fdca26"
            ],
            [
             1.0,
             "#f0f921"
            ]
           ],
           "diverging": [
            [
             0,
             "#8e0152"
            ],
            [
             0.1,
             "#c51b7d"
            ],
            [
             0.2,
             "#de77ae"
            ],
            [
             0.3,
             "#f1b6da"
            ],
            [
             0.4,
             "#fde0ef"
            ],
            [
             0.5,
             "#f7f7f7"
            ],
            [
             0.6,
             "#e6f5d0"
            ],
            [
             0.7,
             "#b8e186"
            ],
            [
             0.8,
             "#7fbc41"
            ],
            [
             0.9,
             "#4d9221"
            ],
            [
             1,
             "#276419"
            ]
           ]
          },
          "xaxis": {
           "gridcolor": "#283442",
           "linecolor": "#506784",
           "ticks": "",
           "title": {
            "standoff": 15
           },
           "zerolinecolor": "#283442",
           "automargin": true,
           "zerolinewidth": 2
          },
          "yaxis": {
           "gridcolor": "#283442",
           "linecolor": "#506784",
           "ticks": "",
           "title": {
            "standoff": 15
           },
           "zerolinecolor": "#283442",
           "automargin": true,
           "zerolinewidth": 2
          },
          "scene": {
           "xaxis": {
            "backgroundcolor": "rgb(17,17,17)",
            "gridcolor": "#506784",
            "linecolor": "#506784",
            "showbackground": true,
            "ticks": "",
            "zerolinecolor": "#C8D4E3",
            "gridwidth": 2
           },
           "yaxis": {
            "backgroundcolor": "rgb(17,17,17)",
            "gridcolor": "#506784",
            "linecolor": "#506784",
            "showbackground": true,
            "ticks": "",
            "zerolinecolor": "#C8D4E3",
            "gridwidth": 2
           },
           "zaxis": {
            "backgroundcolor": "rgb(17,17,17)",
            "gridcolor": "#506784",
            "linecolor": "#506784",
            "showbackground": true,
            "ticks": "",
            "zerolinecolor": "#C8D4E3",
            "gridwidth": 2
           }
          },
          "shapedefaults": {
           "line": {
            "color": "#f2f5fa"
           }
          },
          "annotationdefaults": {
           "arrowcolor": "#f2f5fa",
           "arrowhead": 0,
           "arrowwidth": 1
          },
          "geo": {
           "bgcolor": "rgb(17,17,17)",
           "landcolor": "rgb(17,17,17)",
           "subunitcolor": "#506784",
           "showland": true,
           "showlakes": true,
           "lakecolor": "rgb(17,17,17)"
          },
          "title": {
           "x": 0.05
          },
          "updatemenudefaults": {
           "bgcolor": "#506784",
           "borderwidth": 0
          },
          "sliderdefaults": {
           "bgcolor": "#C8D4E3",
           "borderwidth": 1,
           "bordercolor": "rgb(17,17,17)",
           "tickwidth": 0
          },
          "mapbox": {
           "style": "dark"
          }
         }
        },
        "xaxis": {
         "anchor": "y",
         "domain": [
          0.0,
          1.0
         ],
         "title": {
          "text": "x"
         }
        },
        "yaxis": {
         "anchor": "x",
         "domain": [
          0.0,
          1.0
         ],
         "title": {
          "text": "y"
         }
        },
        "legend": {
         "title": {
          "text": "color"
         },
         "tracegroupgap": 0
        },
        "title": {
         "text": "Interactive UMAP 2D Projection"
        },
        "clickmode": "event+select",
        "showlegend": false
       },
       "config": {
        "plotlyServerURL": "https://plot.ly"
       }
      }
     },
     "metadata": {},
     "output_type": "display_data",
     "jetTransient": {
      "display_id": null
     }
    }
   ],
   "execution_count": 16
  }
 ],
 "metadata": {
  "kernelspec": {
   "display_name": "Python 3",
   "language": "python",
   "name": "python3"
  },
  "language_info": {
   "codemirror_mode": {
    "name": "ipython",
    "version": 2
   },
   "file_extension": ".py",
   "mimetype": "text/x-python",
   "name": "python",
   "nbconvert_exporter": "python",
   "pygments_lexer": "ipython2",
   "version": "2.7.6"
  }
 },
 "nbformat": 4,
 "nbformat_minor": 5
}
